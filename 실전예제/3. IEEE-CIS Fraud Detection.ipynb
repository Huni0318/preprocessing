{
 "cells": [
  {
   "cell_type": "markdown",
   "metadata": {},
   "source": [
    "## 대회 소개"
   ]
  },
  {
   "cell_type": "markdown",
   "metadata": {},
   "source": [
    "- 출처 : 캐글\n",
    "  - 문제 제공자 : IEEE Computational Intelligence Society\n",
    "- 문제 개요: 카드 기록을 활용한 사기 거래 탐지\n",
    "- 대부분 컬럼이 비식별화되어 있어, 이전 문제와 다르게 데이터 탐색을 통한 데이터에 대한 이해가 매우 중요"
   ]
  },
  {
   "cell_type": "markdown",
   "metadata": {},
   "source": [
    "## 사용 데이터\n",
    "- train.csv: 모델 학습용 데이터(데이터가 커서 샘플링된 데이터 제공)/ test.csv: 모델 평가용 데이터\n",
    "  - TransactionID: 거래 ID(비식별화)\n",
    "  - TransactionDT: 거래 시각(비식별화)\n",
    "  - TransactionAmt: 거래 금액(US Dollar)\n",
    "  - ProductCD: 상품 코드\n",
    "  - card1 - card6: 카드 관련 정보(비식별화)\n",
    "  - P_emaildomain, R_emaildomain: 이메일 정보\n",
    "  - M1 - M9: 기존 거래와의 매칭 정보\n",
    "  - isFraud: 사기 거래 여부"
   ]
  },
  {
   "cell_type": "markdown",
   "metadata": {},
   "source": [
    "## 사용 데이터의 특징\n",
    "- 비식별화된 특징이 매우 많음\n",
    "- 다수 결측이 포함되어 있음\n",
    "- 클래스 불균형 문제 존재"
   ]
  },
  {
   "cell_type": "markdown",
   "metadata": {},
   "source": [
    "## 데이터 분리\n",
    "- df: sampled_train_transaction.csv\n",
    "- 'TransactionID', 'TransactionDT' 변수는 삭제\n",
    "- X: df에서 isFraud가 제거된 데이터 프레임\n",
    "- Y: df에서 isFraud값만 가져온 Series"
   ]
  },
  {
   "cell_type": "code",
   "execution_count": 1,
   "metadata": {},
   "outputs": [],
   "source": [
    "import os\n",
    "import pandas as pd\n",
    "import numpy as np\n",
    "os.chdir(r'C:\\Users\\신상훈\\Desktop\\preprocessing\\part-6.-실전-머신러닝-프로젝트\\6. 실전 머신러닝 프로젝트\\25. IEEE-CIS Fraud Detection\\데이터')\n",
    "\n",
    "%matplotlib inline\n",
    "import matplotlib.pyplot as plt\n",
    "plt.rcParams[\"font.family\"] = 'Malgun Gothic'\n",
    "plt.rcParams[\"font.size\"] = 15\n",
    "plt.rcParams[\"figure.figsize\"] = (20, 5)\n",
    "\n",
    "import warnings\n",
    "warnings.filterwarnings('ignore')"
   ]
  },
  {
   "cell_type": "code",
   "execution_count": null,
   "metadata": {},
   "outputs": [],
   "source": []
  },
  {
   "cell_type": "code",
   "execution_count": null,
   "metadata": {},
   "outputs": [],
   "source": []
  },
  {
   "cell_type": "code",
   "execution_count": null,
   "metadata": {},
   "outputs": [],
   "source": []
  },
  {
   "cell_type": "code",
   "execution_count": null,
   "metadata": {},
   "outputs": [],
   "source": []
  },
  {
   "cell_type": "code",
   "execution_count": null,
   "metadata": {},
   "outputs": [],
   "source": []
  },
  {
   "cell_type": "code",
   "execution_count": null,
   "metadata": {},
   "outputs": [],
   "source": []
  },
  {
   "cell_type": "code",
   "execution_count": null,
   "metadata": {},
   "outputs": [],
   "source": []
  },
  {
   "cell_type": "code",
   "execution_count": null,
   "metadata": {},
   "outputs": [],
   "source": []
  },
  {
   "cell_type": "code",
   "execution_count": null,
   "metadata": {},
   "outputs": [],
   "source": []
  },
  {
   "cell_type": "code",
   "execution_count": null,
   "metadata": {},
   "outputs": [],
   "source": []
  },
  {
   "cell_type": "code",
   "execution_count": null,
   "metadata": {},
   "outputs": [],
   "source": []
  },
  {
   "cell_type": "code",
   "execution_count": null,
   "metadata": {},
   "outputs": [],
   "source": []
  },
  {
   "cell_type": "code",
   "execution_count": null,
   "metadata": {},
   "outputs": [],
   "source": []
  },
  {
   "cell_type": "code",
   "execution_count": null,
   "metadata": {},
   "outputs": [],
   "source": []
  }
 ],
 "metadata": {
  "kernelspec": {
   "display_name": "Python 3",
   "language": "python",
   "name": "python3"
  },
  "language_info": {
   "codemirror_mode": {
    "name": "ipython",
    "version": 3
   },
   "file_extension": ".py",
   "mimetype": "text/x-python",
   "name": "python",
   "nbconvert_exporter": "python",
   "pygments_lexer": "ipython3",
   "version": "3.8.3"
  }
 },
 "nbformat": 4,
 "nbformat_minor": 4
}
