{
 "cells": [
  {
   "cell_type": "code",
   "execution_count": 16,
   "metadata": {},
   "outputs": [],
   "source": [
    "import pandas as pd\n",
    "import os\n",
    "from matplotlib import pyplot as plt\n",
    "import numpy as np\n",
    "%matplotlib inline\n",
    "os.chdir(r'C:\\Users\\신상훈\\Desktop\\preprocessing\\part-1.-데이터-핸들링\\1. 데이터 핸들링\\데이터')\n",
    "\n",
    "\n",
    "plt.rcParams[\"font.family\"] = 'Malgun Gothic'\n",
    "plt.rcParams[\"font.size\"] = 15\n",
    "plt.rcParams[\"figure.figsize\"] = (15, 8)"
   ]
  },
  {
   "cell_type": "code",
   "execution_count": 17,
   "metadata": {},
   "outputs": [
    {
     "data": {
      "text/html": [
       "<div>\n",
       "<style scoped>\n",
       "    .dataframe tbody tr th:only-of-type {\n",
       "        vertical-align: middle;\n",
       "    }\n",
       "\n",
       "    .dataframe tbody tr th {\n",
       "        vertical-align: top;\n",
       "    }\n",
       "\n",
       "    .dataframe thead th {\n",
       "        text-align: right;\n",
       "    }\n",
       "</style>\n",
       "<table border=\"1\" class=\"dataframe\">\n",
       "  <thead>\n",
       "    <tr style=\"text-align: right;\">\n",
       "      <th></th>\n",
       "      <th>쇼핑몰</th>\n",
       "      <th>제품</th>\n",
       "      <th>수량</th>\n",
       "      <th>판매금액</th>\n",
       "      <th>쇼핑몰 유형</th>\n",
       "    </tr>\n",
       "  </thead>\n",
       "  <tbody>\n",
       "    <tr>\n",
       "      <th>0</th>\n",
       "      <td>쿠팡</td>\n",
       "      <td>제품_16</td>\n",
       "      <td>8</td>\n",
       "      <td>1134400</td>\n",
       "      <td>쿠팡</td>\n",
       "    </tr>\n",
       "    <tr>\n",
       "      <th>1</th>\n",
       "      <td>쿠팡</td>\n",
       "      <td>제품_57</td>\n",
       "      <td>8</td>\n",
       "      <td>439200</td>\n",
       "      <td>쿠팡</td>\n",
       "    </tr>\n",
       "    <tr>\n",
       "      <th>2</th>\n",
       "      <td>쿠팡</td>\n",
       "      <td>제품_25</td>\n",
       "      <td>4</td>\n",
       "      <td>495200</td>\n",
       "      <td>쿠팡</td>\n",
       "    </tr>\n",
       "    <tr>\n",
       "      <th>3</th>\n",
       "      <td>쿠팡</td>\n",
       "      <td>제품_18</td>\n",
       "      <td>4</td>\n",
       "      <td>578000</td>\n",
       "      <td>쿠팡</td>\n",
       "    </tr>\n",
       "    <tr>\n",
       "      <th>4</th>\n",
       "      <td>쿠팡</td>\n",
       "      <td>제품_90</td>\n",
       "      <td>2</td>\n",
       "      <td>75000</td>\n",
       "      <td>쿠팡</td>\n",
       "    </tr>\n",
       "  </tbody>\n",
       "</table>\n",
       "</div>"
      ],
      "text/plain": [
       "  쇼핑몰     제품  수량     판매금액 쇼핑몰 유형\n",
       "0  쿠팡  제품_16   8  1134400     쿠팡\n",
       "1  쿠팡  제품_57   8   439200     쿠팡\n",
       "2  쿠팡  제품_25   4   495200     쿠팡\n",
       "3  쿠팡  제품_18   4   578000     쿠팡\n",
       "4  쿠팡  제품_90   2    75000     쿠팡"
      ]
     },
     "execution_count": 17,
     "metadata": {},
     "output_type": "execute_result"
    }
   ],
   "source": [
    "df = pd.read_csv('온라인_판매기록.csv', engine = 'python')\n",
    "df.head()"
   ]
  },
  {
   "cell_type": "code",
   "execution_count": 18,
   "metadata": {},
   "outputs": [
    {
     "data": {
      "text/plain": [
       "array(['쿠팡', '위메프', '주식회사 펫츠비', '밍키스맘', '[고양]다니엘동물병원', '강아지왕국', '개명동물병원',\n",
       "       '주식회사 펫뱅크', '독스파파', '퍼피아쇼핑몰', '텐바이텐', '1300k', '이리온 동물병원(청담점)',\n",
       "       '까페멍', 'GALAXYPET', '아모르디', '[안산]미유펫', '유집사네개들', '선진펫', '자인 멍멍이네',\n",
       "       '[경남 진주] 야옹아 멍멍해봐', '빅브라더', '스누피동물병원', '펫앤비코리아', '펫누리(펫클럽)',\n",
       "       '멍냥이네', '컴패니언', '인터펫코리아', '오독오독', '딩동이네', '도꾸도꾸', '수호동물병원', '코코마펫',\n",
       "       '그린펫', '코리아대동', '데일리독', '줄서는집', '폴리파크', 'KPET', '올라인', '펫스토어',\n",
       "       'Kopet', 'US글로벌', '[대리점]빛돌 커뮤니케이션', '신세계이마트', '아이꾸러미', '하나유통',\n",
       "       '올치', '에스이랜드', '위더스(윈리엔)', '펫모두(누리보듬)', '애니피아동물병원', 'POOM(아트박스)',\n",
       "       '인브로스', '딱펫', '메리멍', '펫프렌즈', '강아지대통령', '펫클럽(남양주)', '엔빵',\n",
       "       '[대리점]수진유통', '오렌지펫', '라임동물병원', '더독몰-반포샵', '도그씨', '기프트펫', '카카오선물하기',\n",
       "       '(주)신일코리아아울렛펫코', '강사모 백화점 원종점', '강아지와요와요', '애니펫동물병원(수지)',\n",
       "       '이리온동물병원(판교)', '나라애견', '도그스푼', '아로하플라워', '아트박스 오프라인', '에버펫동물병원',\n",
       "       '속초애견프라자', '마곡나무동물병원', '몬스터펫샵 분당오포좀', '리오펫', '모모펫살롱', '워킹펫',\n",
       "       '펫하우스', '이쁘개귀엽냥', '헬로아이엠', '파트라슈', '드림동물병원', '금천 24시 k동물의료센터',\n",
       "       '아프지말게동물병원', '범서조은동물병원', '핑크애견', '두잇', '이누&네꼬petshop', '한마음애견용품',\n",
       "       '애니멀푸드', '엠에스유통', '태진상사', '펫동산', '바르다펫', '에이원동물병원', '이랜드몰',\n",
       "       '애견아우랫'], dtype=object)"
      ]
     },
     "execution_count": 18,
     "metadata": {},
     "output_type": "execute_result"
    }
   ],
   "source": [
    "df['쇼핑몰'].unique()"
   ]
  },
  {
   "cell_type": "code",
   "execution_count": 19,
   "metadata": {},
   "outputs": [
    {
     "data": {
      "text/plain": [
       "쇼핑몰 유형\n",
       "동물병원      [338400, 202600, 238800, 1088000, 135800, 8768...\n",
       "온라인II     [400800, 586600, 291900, 654000, 684000, 40400...\n",
       "온라인사이트    [10400, 631400, 516400, 318000, 300000, 306600...\n",
       "유통대리점     [220200, 10100, 112500, 56000, 236600, 928900,...\n",
       "전시회       [498000, 195300, 143500, 478200, 358400, 10731...\n",
       "쿠팡        [1134400, 439200, 495200, 578000, 75000, 19550...\n",
       "할인점       [39100, 670400, 1533000, 438400, 403200, 19250...\n",
       "할인점II     [119100, 101300, 124200, 101400, 291900, 37350...\n",
       "Name: 판매금액, dtype: object"
      ]
     },
     "execution_count": 19,
     "metadata": {},
     "output_type": "execute_result"
    }
   ],
   "source": [
    "X = df.groupby('쇼핑몰 유형')['판매금액'].apply(list)\n",
    "X"
   ]
  },
  {
   "cell_type": "code",
   "execution_count": 21,
   "metadata": {},
   "outputs": [
    {
     "data": {
      "text/plain": [
       "([<matplotlib.axis.XTick at 0x1e43de1a670>,\n",
       "  <matplotlib.axis.XTick at 0x1e43de1a280>,\n",
       "  <matplotlib.axis.XTick at 0x1e43d363040>,\n",
       "  <matplotlib.axis.XTick at 0x1e443e2db20>,\n",
       "  <matplotlib.axis.XTick at 0x1e443e1a070>,\n",
       "  <matplotlib.axis.XTick at 0x1e443e1a580>,\n",
       "  <matplotlib.axis.XTick at 0x1e443e1aa90>,\n",
       "  <matplotlib.axis.XTick at 0x1e443e2d820>],\n",
       " [Text(0, 0, '동물병원'),\n",
       "  Text(0, 0, '온라인II'),\n",
       "  Text(0, 0, '온라인사이트'),\n",
       "  Text(0, 0, '유통대리점'),\n",
       "  Text(0, 0, '전시회'),\n",
       "  Text(0, 0, '쿠팡'),\n",
       "  Text(0, 0, '할인점'),\n",
       "  Text(0, 0, '할인점II')])"
      ]
     },
     "execution_count": 21,
     "metadata": {},
     "output_type": "execute_result"
    },
    {
     "data": {
      "image/png": "[encoded data removed]",
      "text/plain": [
       "<Figure size 1080x576 with 1 Axes>"
      ]
     },
     "metadata": {
      "needs_background": "light"
     },
     "output_type": "display_data"
    }
   ],
   "source": [
    "plt.title('쇼핑몰 유형에 따른 판매금액 분포')\n",
    "plt.boxplot(X.values)\n",
    "plt.xticks(np.arange(1,len(X)+1), X.index)"
   ]
  },
  {
   "cell_type": "code",
   "execution_count": 22,
   "metadata": {},
   "outputs": [
    {
     "data": {
      "text/html": [
       "<div>\n",
       "<style scoped>\n",
       "    .dataframe tbody tr th:only-of-type {\n",
       "        vertical-align: middle;\n",
       "    }\n",
       "\n",
       "    .dataframe tbody tr th {\n",
       "        vertical-align: top;\n",
       "    }\n",
       "\n",
       "    .dataframe thead th {\n",
       "        text-align: right;\n",
       "    }\n",
       "</style>\n",
       "<table border=\"1\" class=\"dataframe\">\n",
       "  <thead>\n",
       "    <tr style=\"text-align: right;\">\n",
       "      <th></th>\n",
       "      <th>실험1</th>\n",
       "      <th>실험2</th>\n",
       "      <th>실험3</th>\n",
       "    </tr>\n",
       "  </thead>\n",
       "  <tbody>\n",
       "    <tr>\n",
       "      <th>0</th>\n",
       "      <td>10.302872</td>\n",
       "      <td>12.267735</td>\n",
       "      <td>7.830711</td>\n",
       "    </tr>\n",
       "    <tr>\n",
       "      <th>1</th>\n",
       "      <td>12.308751</td>\n",
       "      <td>13.808464</td>\n",
       "      <td>11.383059</td>\n",
       "    </tr>\n",
       "    <tr>\n",
       "      <th>2</th>\n",
       "      <td>13.255124</td>\n",
       "      <td>12.114200</td>\n",
       "      <td>16.324624</td>\n",
       "    </tr>\n",
       "    <tr>\n",
       "      <th>3</th>\n",
       "      <td>11.347572</td>\n",
       "      <td>8.090203</td>\n",
       "      <td>8.917121</td>\n",
       "    </tr>\n",
       "    <tr>\n",
       "      <th>4</th>\n",
       "      <td>9.901972</td>\n",
       "      <td>8.778033</td>\n",
       "      <td>7.508750</td>\n",
       "    </tr>\n",
       "  </tbody>\n",
       "</table>\n",
       "</div>"
      ],
      "text/plain": [
       "         실험1        실험2        실험3\n",
       "0  10.302872  12.267735   7.830711\n",
       "1  12.308751  13.808464  11.383059\n",
       "2  13.255124  12.114200  16.324624\n",
       "3  11.347572   8.090203   8.917121\n",
       "4   9.901972   8.778033   7.508750"
      ]
     },
     "execution_count": 22,
     "metadata": {},
     "output_type": "execute_result"
    }
   ],
   "source": [
    "# DataFrame method를 이용한 boxplot 그리기\n",
    "df = pd.DataFrame({\"실험1\": np.random.normal(10, 2, size = 100),\n",
    "                  \"실험2\": np.random.normal(8, 3, size = 100),\n",
    "                  \"실험3\": np.random.normal(9, 4, size = 100)})\n",
    "\n",
    "df.head()"
   ]
  },
  {
   "cell_type": "code",
   "execution_count": 23,
   "metadata": {},
   "outputs": [
    {
     "data": {
      "text/plain": [
       "<matplotlib.axes._subplots.AxesSubplot at 0x1e43de35a60>"
      ]
     },
     "execution_count": 23,
     "metadata": {},
     "output_type": "execute_result"
    },
    {
     "name": "stderr",
     "output_type": "stream",
     "text": [
      "C:\\ProgramData\\Anaconda3\\lib\\site-packages\\matplotlib\\backends\\backend_agg.py:214: RuntimeWarning: Glyph 8722 missing from current font.\n",
      "  font.set_text(s, 0.0, flags=flags)\n",
      "C:\\ProgramData\\Anaconda3\\lib\\site-packages\\matplotlib\\backends\\backend_agg.py:183: RuntimeWarning: Glyph 8722 missing from current font.\n",
      "  font.set_text(s, 0, flags=flags)\n"
     ]
    },
    {
     "data": {
      "image/png": "[encoded data removed]",
      "text/plain": [
       "<Figure size 1080x576 with 1 Axes>"
      ]
     },
     "metadata": {
      "needs_background": "light"
     },
     "output_type": "display_data"
    }
   ],
   "source": [
    "df.boxplot(column = ['실험1', '실험2', '실험3'])"
   ]
  }
 ],
 "metadata": {
  "kernelspec": {
   "display_name": "Python 3",
   "language": "python",
   "name": "python3"
  },
  "language_info": {
   "codemirror_mode": {
    "name": "ipython",
    "version": 3
   },
   "file_extension": ".py",
   "mimetype": "text/x-python",
   "name": "python",
   "nbconvert_exporter": "python",
   "pygments_lexer": "ipython3",
   "version": "3.8.3"
  }
 },
 "nbformat": 4,
 "nbformat_minor": 4
}
