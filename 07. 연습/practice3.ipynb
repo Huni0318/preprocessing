{
 "cells": [
  {
   "cell_type": "code",
   "execution_count": 17,
   "metadata": {},
   "outputs": [
    {
     "data": {
      "text/html": [
       "<div>\n",
       "<style scoped>\n",
       "    .dataframe tbody tr th:only-of-type {\n",
       "        vertical-align: middle;\n",
       "    }\n",
       "\n",
       "    .dataframe tbody tr th {\n",
       "        vertical-align: top;\n",
       "    }\n",
       "\n",
       "    .dataframe thead th {\n",
       "        text-align: right;\n",
       "    }\n",
       "</style>\n",
       "<table border=\"1\" class=\"dataframe\">\n",
       "  <thead>\n",
       "    <tr style=\"text-align: right;\">\n",
       "      <th></th>\n",
       "      <th>날짜</th>\n",
       "      <th>상품1</th>\n",
       "      <th>상품2</th>\n",
       "      <th>상품3</th>\n",
       "    </tr>\n",
       "  </thead>\n",
       "  <tbody>\n",
       "    <tr>\n",
       "      <th>0</th>\n",
       "      <td>2019-01-01</td>\n",
       "      <td>48</td>\n",
       "      <td>48</td>\n",
       "      <td>50</td>\n",
       "    </tr>\n",
       "    <tr>\n",
       "      <th>1</th>\n",
       "      <td>2019-01-02</td>\n",
       "      <td>48</td>\n",
       "      <td>44</td>\n",
       "      <td>49</td>\n",
       "    </tr>\n",
       "    <tr>\n",
       "      <th>2</th>\n",
       "      <td>2019-01-03</td>\n",
       "      <td>48</td>\n",
       "      <td>54</td>\n",
       "      <td>50</td>\n",
       "    </tr>\n",
       "    <tr>\n",
       "      <th>3</th>\n",
       "      <td>2019-01-04</td>\n",
       "      <td>53</td>\n",
       "      <td>42</td>\n",
       "      <td>48</td>\n",
       "    </tr>\n",
       "    <tr>\n",
       "      <th>4</th>\n",
       "      <td>2019-01-05</td>\n",
       "      <td>46</td>\n",
       "      <td>42</td>\n",
       "      <td>50</td>\n",
       "    </tr>\n",
       "  </tbody>\n",
       "</table>\n",
       "</div>"
      ],
      "text/plain": [
       "           날짜  상품1  상품2  상품3\n",
       "0  2019-01-01   48   48   50\n",
       "1  2019-01-02   48   44   49\n",
       "2  2019-01-03   48   54   50\n",
       "3  2019-01-04   53   42   48\n",
       "4  2019-01-05   46   42   50"
      ]
     },
     "execution_count": 17,
     "metadata": {},
     "output_type": "execute_result"
    }
   ],
   "source": [
    "df.head()"
   ]
  },
  {
   "cell_type": "code",
   "execution_count": 18,
   "metadata": {},
   "outputs": [
    {
     "data": {
      "text/html": [
       "<div>\n",
       "<style scoped>\n",
       "    .dataframe tbody tr th:only-of-type {\n",
       "        vertical-align: middle;\n",
       "    }\n",
       "\n",
       "    .dataframe tbody tr th {\n",
       "        vertical-align: top;\n",
       "    }\n",
       "\n",
       "    .dataframe thead th {\n",
       "        text-align: right;\n",
       "    }\n",
       "</style>\n",
       "<table border=\"1\" class=\"dataframe\">\n",
       "  <thead>\n",
       "    <tr style=\"text-align: right;\">\n",
       "      <th></th>\n",
       "      <th>0</th>\n",
       "      <th>1</th>\n",
       "      <th>2</th>\n",
       "    </tr>\n",
       "  </thead>\n",
       "  <tbody>\n",
       "    <tr>\n",
       "      <th>0</th>\n",
       "      <td>2019</td>\n",
       "      <td>01</td>\n",
       "      <td>01</td>\n",
       "    </tr>\n",
       "    <tr>\n",
       "      <th>1</th>\n",
       "      <td>2019</td>\n",
       "      <td>01</td>\n",
       "      <td>02</td>\n",
       "    </tr>\n",
       "    <tr>\n",
       "      <th>2</th>\n",
       "      <td>2019</td>\n",
       "      <td>01</td>\n",
       "      <td>03</td>\n",
       "    </tr>\n",
       "    <tr>\n",
       "      <th>3</th>\n",
       "      <td>2019</td>\n",
       "      <td>01</td>\n",
       "      <td>04</td>\n",
       "    </tr>\n",
       "    <tr>\n",
       "      <th>4</th>\n",
       "      <td>2019</td>\n",
       "      <td>01</td>\n",
       "      <td>05</td>\n",
       "    </tr>\n",
       "  </tbody>\n",
       "</table>\n",
       "</div>"
      ],
      "text/plain": [
       "      0   1   2\n",
       "0  2019  01  01\n",
       "1  2019  01  02\n",
       "2  2019  01  03\n",
       "3  2019  01  04\n",
       "4  2019  01  05"
      ]
     },
     "execution_count": 18,
     "metadata": {},
     "output_type": "execute_result"
    }
   ],
   "source": [
    "df['날짜'].str.split('-', expand = True).head()"
   ]
  },
  {
   "cell_type": "code",
   "execution_count": 19,
   "metadata": {},
   "outputs": [],
   "source": [
    "df['월'] = df['날짜'].str.split('-', expand = True).iloc[:, 1]"
   ]
  },
  {
   "cell_type": "code",
   "execution_count": 20,
   "metadata": {},
   "outputs": [
    {
     "data": {
      "text/html": [
       "<div>\n",
       "<style scoped>\n",
       "    .dataframe tbody tr th:only-of-type {\n",
       "        vertical-align: middle;\n",
       "    }\n",
       "\n",
       "    .dataframe tbody tr th {\n",
       "        vertical-align: top;\n",
       "    }\n",
       "\n",
       "    .dataframe thead th {\n",
       "        text-align: right;\n",
       "    }\n",
       "</style>\n",
       "<table border=\"1\" class=\"dataframe\">\n",
       "  <thead>\n",
       "    <tr style=\"text-align: right;\">\n",
       "      <th></th>\n",
       "      <th>날짜</th>\n",
       "      <th>상품1</th>\n",
       "      <th>상품2</th>\n",
       "      <th>상품3</th>\n",
       "      <th>월</th>\n",
       "    </tr>\n",
       "  </thead>\n",
       "  <tbody>\n",
       "    <tr>\n",
       "      <th>0</th>\n",
       "      <td>2019-01-01</td>\n",
       "      <td>48</td>\n",
       "      <td>48</td>\n",
       "      <td>50</td>\n",
       "      <td>01</td>\n",
       "    </tr>\n",
       "    <tr>\n",
       "      <th>1</th>\n",
       "      <td>2019-01-02</td>\n",
       "      <td>48</td>\n",
       "      <td>44</td>\n",
       "      <td>49</td>\n",
       "      <td>01</td>\n",
       "    </tr>\n",
       "    <tr>\n",
       "      <th>2</th>\n",
       "      <td>2019-01-03</td>\n",
       "      <td>48</td>\n",
       "      <td>54</td>\n",
       "      <td>50</td>\n",
       "      <td>01</td>\n",
       "    </tr>\n",
       "    <tr>\n",
       "      <th>3</th>\n",
       "      <td>2019-01-04</td>\n",
       "      <td>53</td>\n",
       "      <td>42</td>\n",
       "      <td>48</td>\n",
       "      <td>01</td>\n",
       "    </tr>\n",
       "    <tr>\n",
       "      <th>4</th>\n",
       "      <td>2019-01-05</td>\n",
       "      <td>46</td>\n",
       "      <td>42</td>\n",
       "      <td>50</td>\n",
       "      <td>01</td>\n",
       "    </tr>\n",
       "  </tbody>\n",
       "</table>\n",
       "</div>"
      ],
      "text/plain": [
       "           날짜  상품1  상품2  상품3   월\n",
       "0  2019-01-01   48   48   50  01\n",
       "1  2019-01-02   48   44   49  01\n",
       "2  2019-01-03   48   54   50  01\n",
       "3  2019-01-04   53   42   48  01\n",
       "4  2019-01-05   46   42   50  01"
      ]
     },
     "execution_count": 20,
     "metadata": {},
     "output_type": "execute_result"
    }
   ],
   "source": [
    "df.head()"
   ]
  },
  {
   "cell_type": "code",
   "execution_count": 25,
   "metadata": {},
   "outputs": [
    {
     "data": {
      "text/plain": [
       "([<matplotlib.axis.XTick at 0x232fabf58b0>,\n",
       "  <matplotlib.axis.XTick at 0x232fabf5880>,\n",
       "  <matplotlib.axis.XTick at 0x232fb06ba30>,\n",
       "  <matplotlib.axis.XTick at 0x232fb07b6d0>,\n",
       "  <matplotlib.axis.XTick at 0x232fb07bbe0>,\n",
       "  <matplotlib.axis.XTick at 0x232fb07bca0>,\n",
       "  <matplotlib.axis.XTick at 0x232fb07b040>,\n",
       "  <matplotlib.axis.XTick at 0x232fb0832e0>,\n",
       "  <matplotlib.axis.XTick at 0x232fabe1b80>,\n",
       "  <matplotlib.axis.XTick at 0x232fb089100>,\n",
       "  <matplotlib.axis.XTick at 0x232fb089610>,\n",
       "  <matplotlib.axis.XTick at 0x232fb089b20>],\n",
       " [Text(0, 0, '1월'),\n",
       "  Text(0, 0, '2월'),\n",
       "  Text(0, 0, '3월'),\n",
       "  Text(0, 0, '4월'),\n",
       "  Text(0, 0, '5월'),\n",
       "  Text(0, 0, '6월'),\n",
       "  Text(0, 0, '7월'),\n",
       "  Text(0, 0, '8월'),\n",
       "  Text(0, 0, '9월'),\n",
       "  Text(0, 0, '10월'),\n",
       "  Text(0, 0, '11월'),\n",
       "  Text(0, 0, '12월')])"
      ]
     },
     "execution_count": 25,
     "metadata": {},
     "output_type": "execute_result"
    },
    {
     "data": {
      "image/png": "[encoded data removed]",
      "text/plain": [
       "<Figure size 2160x720 with 1 Axes>"
      ]
     },
     "metadata": {
      "needs_background": "light"
     },
     "output_type": "display_data"
    }
   ],
   "source": [
    "df.groupby('월')[['상품1','상품2','상품3']].sum().plot()\n",
    "plt.title('날짜별 상품 판매량')\n",
    "plt.xlabel('날짜')\n",
    "plt.ylabel(\"판매량 (개수)\")\n",
    "plt.xticks(range(12), [str(i + 1) + '월' for i in range(12)])"
   ]
  },
  {
   "cell_type": "code",
   "execution_count": 26,
   "metadata": {},
   "outputs": [
    {
     "data": {
      "text/html": [
       "<div>\n",
       "<style scoped>\n",
       "    .dataframe tbody tr th:only-of-type {\n",
       "        vertical-align: middle;\n",
       "    }\n",
       "\n",
       "    .dataframe tbody tr th {\n",
       "        vertical-align: top;\n",
       "    }\n",
       "\n",
       "    .dataframe thead th {\n",
       "        text-align: right;\n",
       "    }\n",
       "</style>\n",
       "<table border=\"1\" class=\"dataframe\">\n",
       "  <thead>\n",
       "    <tr style=\"text-align: right;\">\n",
       "      <th></th>\n",
       "      <th>년도(year)</th>\n",
       "      <th>월(month)</th>\n",
       "      <th>분기(4)</th>\n",
       "      <th>일자(day)</th>\n",
       "      <th>주차별 편중도</th>\n",
       "      <th>출하일</th>\n",
       "      <th>대리점</th>\n",
       "      <th>지역 구분</th>\n",
       "      <th>내수/수출 구분</th>\n",
       "      <th>제품군</th>\n",
       "      <th>수량</th>\n",
       "    </tr>\n",
       "  </thead>\n",
       "  <tbody>\n",
       "    <tr>\n",
       "      <th>0</th>\n",
       "      <td>2016</td>\n",
       "      <td>1</td>\n",
       "      <td>1분기</td>\n",
       "      <td>4</td>\n",
       "      <td>상</td>\n",
       "      <td>2016-01-04</td>\n",
       "      <td>대리점 6</td>\n",
       "      <td>국내</td>\n",
       "      <td>내수</td>\n",
       "      <td>제품 1</td>\n",
       "      <td>12</td>\n",
       "    </tr>\n",
       "    <tr>\n",
       "      <th>1</th>\n",
       "      <td>2016</td>\n",
       "      <td>1</td>\n",
       "      <td>1분기</td>\n",
       "      <td>4</td>\n",
       "      <td>상</td>\n",
       "      <td>2016-01-04</td>\n",
       "      <td>대리점 6</td>\n",
       "      <td>국내</td>\n",
       "      <td>내수</td>\n",
       "      <td>제품 1</td>\n",
       "      <td>4</td>\n",
       "    </tr>\n",
       "    <tr>\n",
       "      <th>2</th>\n",
       "      <td>2016</td>\n",
       "      <td>1</td>\n",
       "      <td>1분기</td>\n",
       "      <td>4</td>\n",
       "      <td>상</td>\n",
       "      <td>2016-01-04</td>\n",
       "      <td>대리점 6</td>\n",
       "      <td>국내</td>\n",
       "      <td>내수</td>\n",
       "      <td>제품 1</td>\n",
       "      <td>1</td>\n",
       "    </tr>\n",
       "    <tr>\n",
       "      <th>3</th>\n",
       "      <td>2016</td>\n",
       "      <td>1</td>\n",
       "      <td>1분기</td>\n",
       "      <td>4</td>\n",
       "      <td>상</td>\n",
       "      <td>2016-01-04</td>\n",
       "      <td>대리점 6</td>\n",
       "      <td>국내</td>\n",
       "      <td>내수</td>\n",
       "      <td>제품 5</td>\n",
       "      <td>122</td>\n",
       "    </tr>\n",
       "    <tr>\n",
       "      <th>4</th>\n",
       "      <td>2016</td>\n",
       "      <td>1</td>\n",
       "      <td>1분기</td>\n",
       "      <td>4</td>\n",
       "      <td>상</td>\n",
       "      <td>2016-01-04</td>\n",
       "      <td>대리점 6</td>\n",
       "      <td>국내</td>\n",
       "      <td>내수</td>\n",
       "      <td>제품 1</td>\n",
       "      <td>20</td>\n",
       "    </tr>\n",
       "  </tbody>\n",
       "</table>\n",
       "</div>"
      ],
      "text/plain": [
       "   년도(year)  월(month) 분기(4)  일자(day) 주차별 편중도         출하일    대리점 지역 구분  \\\n",
       "0      2016         1   1분기        4       상  2016-01-04  대리점 6    국내   \n",
       "1      2016         1   1분기        4       상  2016-01-04  대리점 6    국내   \n",
       "2      2016         1   1분기        4       상  2016-01-04  대리점 6    국내   \n",
       "3      2016         1   1분기        4       상  2016-01-04  대리점 6    국내   \n",
       "4      2016         1   1분기        4       상  2016-01-04  대리점 6    국내   \n",
       "\n",
       "  내수/수출 구분   제품군   수량  \n",
       "0       내수  제품 1   12  \n",
       "1       내수  제품 1    4  \n",
       "2       내수  제품 1    1  \n",
       "3       내수  제품 5  122  \n",
       "4       내수  제품 1   20  "
      ]
     },
     "execution_count": 26,
     "metadata": {},
     "output_type": "execute_result"
    }
   ],
   "source": [
    "df = pd.read_csv('판매실적통합본.csv', engine = 'python')\n",
    "df.head()"
   ]
  },
  {
   "cell_type": "code",
   "execution_count": 27,
   "metadata": {},
   "outputs": [],
   "source": [
    "plt.rcParams[\"font.family\"] = 'Malgun Gothic'\n",
    "plt.rcParams[\"font.size\"] = 20\n",
    "plt.rcParams[\"figure.figsize\"] = (10,10)"
   ]
  },
  {
   "cell_type": "code",
   "execution_count": 28,
   "metadata": {},
   "outputs": [
    {
     "data": {
      "text/plain": [
       "'12'"
      ]
     },
     "execution_count": 28,
     "metadata": {},
     "output_type": "execute_result"
    }
   ],
   "source": [
    "'1' + '2'"
   ]
  },
  {
   "cell_type": "code",
   "execution_count": 29,
   "metadata": {},
   "outputs": [
    {
     "data": {
      "text/plain": [
       "0    2016-1분기\n",
       "1    2016-1분기\n",
       "2    2016-1분기\n",
       "3    2016-1분기\n",
       "4    2016-1분기\n",
       "Name: 분기, dtype: object"
      ]
     },
     "execution_count": 29,
     "metadata": {},
     "output_type": "execute_result"
    }
   ],
   "source": [
    "df['분기'] = df['년도(year)'].astype(str) + '-' + df['분기(4)'].astype(str)\n",
    "df['분기'].head()"
   ]
  },
  {
   "cell_type": "code",
   "execution_count": 30,
   "metadata": {},
   "outputs": [
    {
     "data": {
      "text/html": [
       "<div>\n",
       "<style scoped>\n",
       "    .dataframe tbody tr th:only-of-type {\n",
       "        vertical-align: middle;\n",
       "    }\n",
       "\n",
       "    .dataframe tbody tr th {\n",
       "        vertical-align: top;\n",
       "    }\n",
       "\n",
       "    .dataframe thead th {\n",
       "        text-align: right;\n",
       "    }\n",
       "</style>\n",
       "<table border=\"1\" class=\"dataframe\">\n",
       "  <thead>\n",
       "    <tr style=\"text-align: right;\">\n",
       "      <th></th>\n",
       "      <th>분기</th>\n",
       "      <th>대리점</th>\n",
       "      <th>수량</th>\n",
       "    </tr>\n",
       "  </thead>\n",
       "  <tbody>\n",
       "    <tr>\n",
       "      <th>0</th>\n",
       "      <td>2016-1분기</td>\n",
       "      <td>대리점 1</td>\n",
       "      <td>39934</td>\n",
       "    </tr>\n",
       "    <tr>\n",
       "      <th>1</th>\n",
       "      <td>2016-1분기</td>\n",
       "      <td>대리점 10</td>\n",
       "      <td>4525</td>\n",
       "    </tr>\n",
       "    <tr>\n",
       "      <th>2</th>\n",
       "      <td>2016-1분기</td>\n",
       "      <td>대리점 2</td>\n",
       "      <td>19787</td>\n",
       "    </tr>\n",
       "    <tr>\n",
       "      <th>3</th>\n",
       "      <td>2016-1분기</td>\n",
       "      <td>대리점 3</td>\n",
       "      <td>24723</td>\n",
       "    </tr>\n",
       "    <tr>\n",
       "      <th>4</th>\n",
       "      <td>2016-1분기</td>\n",
       "      <td>대리점 4</td>\n",
       "      <td>9010</td>\n",
       "    </tr>\n",
       "    <tr>\n",
       "      <th>...</th>\n",
       "      <td>...</td>\n",
       "      <td>...</td>\n",
       "      <td>...</td>\n",
       "    </tr>\n",
       "    <tr>\n",
       "      <th>145</th>\n",
       "      <td>2019-3분기</td>\n",
       "      <td>대리점 5</td>\n",
       "      <td>82314</td>\n",
       "    </tr>\n",
       "    <tr>\n",
       "      <th>146</th>\n",
       "      <td>2019-3분기</td>\n",
       "      <td>대리점 6</td>\n",
       "      <td>6252</td>\n",
       "    </tr>\n",
       "    <tr>\n",
       "      <th>147</th>\n",
       "      <td>2019-3분기</td>\n",
       "      <td>대리점 7</td>\n",
       "      <td>30405</td>\n",
       "    </tr>\n",
       "    <tr>\n",
       "      <th>148</th>\n",
       "      <td>2019-3분기</td>\n",
       "      <td>대리점 8</td>\n",
       "      <td>10096</td>\n",
       "    </tr>\n",
       "    <tr>\n",
       "      <th>149</th>\n",
       "      <td>2019-3분기</td>\n",
       "      <td>대리점 9</td>\n",
       "      <td>18856</td>\n",
       "    </tr>\n",
       "  </tbody>\n",
       "</table>\n",
       "<p>150 rows × 3 columns</p>\n",
       "</div>"
      ],
      "text/plain": [
       "           분기     대리점     수량\n",
       "0    2016-1분기   대리점 1  39934\n",
       "1    2016-1분기  대리점 10   4525\n",
       "2    2016-1분기   대리점 2  19787\n",
       "3    2016-1분기   대리점 3  24723\n",
       "4    2016-1분기   대리점 4   9010\n",
       "..        ...     ...    ...\n",
       "145  2019-3분기   대리점 5  82314\n",
       "146  2019-3분기   대리점 6   6252\n",
       "147  2019-3분기   대리점 7  30405\n",
       "148  2019-3분기   대리점 8  10096\n",
       "149  2019-3분기   대리점 9  18856\n",
       "\n",
       "[150 rows x 3 columns]"
      ]
     },
     "execution_count": 30,
     "metadata": {},
     "output_type": "execute_result"
    }
   ],
   "source": [
    "grouped_df = df.groupby(['분기', '대리점'], as_index = False)['수량'].sum()\n",
    "grouped_df"
   ]
  },
  {
   "cell_type": "code",
   "execution_count": 35,
   "metadata": {},
   "outputs": [
    {
     "data": {
      "image/png": "[encoded data removed]",
      "text/plain": [
       "<Figure size 720x720 with 1 Axes>"
      ]
     },
     "metadata": {
      "needs_background": "light"
     },
     "output_type": "display_data"
    }
   ],
   "source": [
    "plt.title('날짜 및 대리점별 출하량')\n",
    "plt.xlabel('분기')\n",
    "plt.ylabel('출하량 (개수)')\n",
    "xtick_range = range(len(grouped_df['분기'].unique()))\n",
    "xtick_label = grouped_df['분기'].unique()\n",
    "plt.xticks(xtick_range, xtick_label)\n",
    "for agent in grouped_df['대리점'].unique():\n",
    "    cond = grouped_df['대리점'] == agent\n",
    "    plt.scatter(grouped_df.loc[cond]['분기'], grouped_df.loc[cond]['수량'], s = 100, marker = '*')"
   ]
  },
  {
   "cell_type": "code",
   "execution_count": 33,
   "metadata": {},
   "outputs": [
    {
     "data": {
      "text/plain": [
       "array(['2016-1분기', '2016-2분기', '2016-3분기', '2016-4분기', '2017-1분기',\n",
       "       '2017-2분기', '2017-3분기', '2017-4분기', '2018-1분기', '2018-2분기',\n",
       "       '2018-3분기', '2018-4분기', '2019-1분기', '2019-2분기', '2019-3분기'],\n",
       "      dtype=object)"
      ]
     },
     "execution_count": 33,
     "metadata": {},
     "output_type": "execute_result"
    }
   ],
   "source": [
    "xtick_label = grouped_df['분기'].unique()\n",
    "xtick_label"
   ]
  },
  {
   "cell_type": "code",
   "execution_count": 34,
   "metadata": {},
   "outputs": [
    {
     "data": {
      "text/plain": [
       "range(0, 15)"
      ]
     },
     "execution_count": 34,
     "metadata": {},
     "output_type": "execute_result"
    }
   ],
   "source": [
    "xtick_range = range(len(grouped_df['분기'].unique()))\n",
    "xtick_range"
   ]
  },
  {
   "cell_type": "code",
   "execution_count": 36,
   "metadata": {},
   "outputs": [
    {
     "data": {
      "text/html": [
       "<div>\n",
       "<style scoped>\n",
       "    .dataframe tbody tr th:only-of-type {\n",
       "        vertical-align: middle;\n",
       "    }\n",
       "\n",
       "    .dataframe tbody tr th {\n",
       "        vertical-align: top;\n",
       "    }\n",
       "\n",
       "    .dataframe thead th {\n",
       "        text-align: right;\n",
       "    }\n",
       "</style>\n",
       "<table border=\"1\" class=\"dataframe\">\n",
       "  <thead>\n",
       "    <tr style=\"text-align: right;\">\n",
       "      <th></th>\n",
       "      <th>분기</th>\n",
       "      <th>대리점</th>\n",
       "      <th>수량</th>\n",
       "    </tr>\n",
       "  </thead>\n",
       "  <tbody>\n",
       "    <tr>\n",
       "      <th>0</th>\n",
       "      <td>2016-1분기</td>\n",
       "      <td>대리점 1</td>\n",
       "      <td>39934</td>\n",
       "    </tr>\n",
       "    <tr>\n",
       "      <th>1</th>\n",
       "      <td>2016-1분기</td>\n",
       "      <td>대리점 10</td>\n",
       "      <td>4525</td>\n",
       "    </tr>\n",
       "    <tr>\n",
       "      <th>2</th>\n",
       "      <td>2016-1분기</td>\n",
       "      <td>대리점 2</td>\n",
       "      <td>19787</td>\n",
       "    </tr>\n",
       "    <tr>\n",
       "      <th>3</th>\n",
       "      <td>2016-1분기</td>\n",
       "      <td>대리점 3</td>\n",
       "      <td>24723</td>\n",
       "    </tr>\n",
       "    <tr>\n",
       "      <th>4</th>\n",
       "      <td>2016-1분기</td>\n",
       "      <td>대리점 4</td>\n",
       "      <td>9010</td>\n",
       "    </tr>\n",
       "  </tbody>\n",
       "</table>\n",
       "</div>"
      ],
      "text/plain": [
       "         분기     대리점     수량\n",
       "0  2016-1분기   대리점 1  39934\n",
       "1  2016-1분기  대리점 10   4525\n",
       "2  2016-1분기   대리점 2  19787\n",
       "3  2016-1분기   대리점 3  24723\n",
       "4  2016-1분기   대리점 4   9010"
      ]
     },
     "execution_count": 36,
     "metadata": {},
     "output_type": "execute_result"
    }
   ],
   "source": [
    "grouped_df.head() \n"
   ]
  },
  {
   "cell_type": "code",
   "execution_count": 38,
   "metadata": {},
   "outputs": [
    {
     "data": {
      "text/html": [
       "<div>\n",
       "<style scoped>\n",
       "    .dataframe tbody tr th:only-of-type {\n",
       "        vertical-align: middle;\n",
       "    }\n",
       "\n",
       "    .dataframe tbody tr th {\n",
       "        vertical-align: top;\n",
       "    }\n",
       "\n",
       "    .dataframe thead th {\n",
       "        text-align: right;\n",
       "    }\n",
       "</style>\n",
       "<table border=\"1\" class=\"dataframe\">\n",
       "  <thead>\n",
       "    <tr style=\"text-align: right;\">\n",
       "      <th>대리점</th>\n",
       "      <th>대리점 1_출하량</th>\n",
       "      <th>대리점 10_출하량</th>\n",
       "      <th>대리점 2_출하량</th>\n",
       "      <th>대리점 3_출하량</th>\n",
       "      <th>대리점 4_출하량</th>\n",
       "      <th>대리점 5_출하량</th>\n",
       "      <th>대리점 6_출하량</th>\n",
       "      <th>대리점 7_출하량</th>\n",
       "      <th>대리점 8_출하량</th>\n",
       "      <th>대리점 9_출하량</th>\n",
       "    </tr>\n",
       "    <tr>\n",
       "      <th>분기</th>\n",
       "      <th></th>\n",
       "      <th></th>\n",
       "      <th></th>\n",
       "      <th></th>\n",
       "      <th></th>\n",
       "      <th></th>\n",
       "      <th></th>\n",
       "      <th></th>\n",
       "      <th></th>\n",
       "      <th></th>\n",
       "    </tr>\n",
       "  </thead>\n",
       "  <tbody>\n",
       "    <tr>\n",
       "      <th>2016-1분기</th>\n",
       "      <td>39934</td>\n",
       "      <td>4525</td>\n",
       "      <td>19787</td>\n",
       "      <td>24723</td>\n",
       "      <td>9010</td>\n",
       "      <td>21249</td>\n",
       "      <td>76005</td>\n",
       "      <td>112276</td>\n",
       "      <td>32743</td>\n",
       "      <td>98266</td>\n",
       "    </tr>\n",
       "    <tr>\n",
       "      <th>2016-2분기</th>\n",
       "      <td>56799</td>\n",
       "      <td>4519</td>\n",
       "      <td>17783</td>\n",
       "      <td>34247</td>\n",
       "      <td>14592</td>\n",
       "      <td>43818</td>\n",
       "      <td>103226</td>\n",
       "      <td>114176</td>\n",
       "      <td>46088</td>\n",
       "      <td>93726</td>\n",
       "    </tr>\n",
       "    <tr>\n",
       "      <th>2016-3분기</th>\n",
       "      <td>57184</td>\n",
       "      <td>6701</td>\n",
       "      <td>15878</td>\n",
       "      <td>31367</td>\n",
       "      <td>8300</td>\n",
       "      <td>37634</td>\n",
       "      <td>63977</td>\n",
       "      <td>120829</td>\n",
       "      <td>44548</td>\n",
       "      <td>87417</td>\n",
       "    </tr>\n",
       "    <tr>\n",
       "      <th>2016-4분기</th>\n",
       "      <td>130682</td>\n",
       "      <td>7704</td>\n",
       "      <td>14592</td>\n",
       "      <td>23857</td>\n",
       "      <td>8780</td>\n",
       "      <td>36622</td>\n",
       "      <td>22512</td>\n",
       "      <td>122822</td>\n",
       "      <td>35805</td>\n",
       "      <td>85516</td>\n",
       "    </tr>\n",
       "    <tr>\n",
       "      <th>2017-1분기</th>\n",
       "      <td>119085</td>\n",
       "      <td>6027</td>\n",
       "      <td>13951</td>\n",
       "      <td>35692</td>\n",
       "      <td>9375</td>\n",
       "      <td>37151</td>\n",
       "      <td>25148</td>\n",
       "      <td>152077</td>\n",
       "      <td>36627</td>\n",
       "      <td>82569</td>\n",
       "    </tr>\n",
       "    <tr>\n",
       "      <th>2017-2분기</th>\n",
       "      <td>147784</td>\n",
       "      <td>3780</td>\n",
       "      <td>18633</td>\n",
       "      <td>46604</td>\n",
       "      <td>9357</td>\n",
       "      <td>41749</td>\n",
       "      <td>45136</td>\n",
       "      <td>155935</td>\n",
       "      <td>34654</td>\n",
       "      <td>120782</td>\n",
       "    </tr>\n",
       "    <tr>\n",
       "      <th>2017-3분기</th>\n",
       "      <td>114819</td>\n",
       "      <td>7356</td>\n",
       "      <td>25919</td>\n",
       "      <td>37974</td>\n",
       "      <td>9397</td>\n",
       "      <td>59254</td>\n",
       "      <td>56074</td>\n",
       "      <td>157376</td>\n",
       "      <td>45479</td>\n",
       "      <td>98911</td>\n",
       "    </tr>\n",
       "    <tr>\n",
       "      <th>2017-4분기</th>\n",
       "      <td>126994</td>\n",
       "      <td>7853</td>\n",
       "      <td>22245</td>\n",
       "      <td>21024</td>\n",
       "      <td>11952</td>\n",
       "      <td>44728</td>\n",
       "      <td>31915</td>\n",
       "      <td>138685</td>\n",
       "      <td>46461</td>\n",
       "      <td>109366</td>\n",
       "    </tr>\n",
       "    <tr>\n",
       "      <th>2018-1분기</th>\n",
       "      <td>129271</td>\n",
       "      <td>6554</td>\n",
       "      <td>8176</td>\n",
       "      <td>28597</td>\n",
       "      <td>12280</td>\n",
       "      <td>51422</td>\n",
       "      <td>38133</td>\n",
       "      <td>144976</td>\n",
       "      <td>39479</td>\n",
       "      <td>121972</td>\n",
       "    </tr>\n",
       "    <tr>\n",
       "      <th>2018-2분기</th>\n",
       "      <td>140480</td>\n",
       "      <td>5213</td>\n",
       "      <td>18579</td>\n",
       "      <td>29031</td>\n",
       "      <td>12378</td>\n",
       "      <td>66396</td>\n",
       "      <td>35929</td>\n",
       "      <td>123158</td>\n",
       "      <td>32632</td>\n",
       "      <td>98351</td>\n",
       "    </tr>\n",
       "    <tr>\n",
       "      <th>2018-3분기</th>\n",
       "      <td>138943</td>\n",
       "      <td>6609</td>\n",
       "      <td>2981</td>\n",
       "      <td>30057</td>\n",
       "      <td>13090</td>\n",
       "      <td>80112</td>\n",
       "      <td>35970</td>\n",
       "      <td>123736</td>\n",
       "      <td>50112</td>\n",
       "      <td>114684</td>\n",
       "    </tr>\n",
       "    <tr>\n",
       "      <th>2018-4분기</th>\n",
       "      <td>125215</td>\n",
       "      <td>9497</td>\n",
       "      <td>20762</td>\n",
       "      <td>43933</td>\n",
       "      <td>8383</td>\n",
       "      <td>90915</td>\n",
       "      <td>41378</td>\n",
       "      <td>192948</td>\n",
       "      <td>56313</td>\n",
       "      <td>152470</td>\n",
       "    </tr>\n",
       "    <tr>\n",
       "      <th>2019-1분기</th>\n",
       "      <td>67250</td>\n",
       "      <td>3760</td>\n",
       "      <td>8400</td>\n",
       "      <td>36596</td>\n",
       "      <td>23533</td>\n",
       "      <td>99771</td>\n",
       "      <td>33672</td>\n",
       "      <td>133339</td>\n",
       "      <td>34202</td>\n",
       "      <td>123676</td>\n",
       "    </tr>\n",
       "    <tr>\n",
       "      <th>2019-2분기</th>\n",
       "      <td>146956</td>\n",
       "      <td>5323</td>\n",
       "      <td>27363</td>\n",
       "      <td>27931</td>\n",
       "      <td>18422</td>\n",
       "      <td>32349</td>\n",
       "      <td>44100</td>\n",
       "      <td>134556</td>\n",
       "      <td>38022</td>\n",
       "      <td>112485</td>\n",
       "    </tr>\n",
       "    <tr>\n",
       "      <th>2019-3분기</th>\n",
       "      <td>72324</td>\n",
       "      <td>672</td>\n",
       "      <td>1468</td>\n",
       "      <td>8606</td>\n",
       "      <td>1996</td>\n",
       "      <td>82314</td>\n",
       "      <td>6252</td>\n",
       "      <td>30405</td>\n",
       "      <td>10096</td>\n",
       "      <td>18856</td>\n",
       "    </tr>\n",
       "  </tbody>\n",
       "</table>\n",
       "</div>"
      ],
      "text/plain": [
       "대리점       대리점 1_출하량  대리점 10_출하량  대리점 2_출하량  대리점 3_출하량  대리점 4_출하량  대리점 5_출하량  \\\n",
       "분기                                                                            \n",
       "2016-1분기      39934        4525      19787      24723       9010      21249   \n",
       "2016-2분기      56799        4519      17783      34247      14592      43818   \n",
       "2016-3분기      57184        6701      15878      31367       8300      37634   \n",
       "2016-4분기     130682        7704      14592      23857       8780      36622   \n",
       "2017-1분기     119085        6027      13951      35692       9375      37151   \n",
       "2017-2분기     147784        3780      18633      46604       9357      41749   \n",
       "2017-3분기     114819        7356      25919      37974       9397      59254   \n",
       "2017-4분기     126994        7853      22245      21024      11952      44728   \n",
       "2018-1분기     129271        6554       8176      28597      12280      51422   \n",
       "2018-2분기     140480        5213      18579      29031      12378      66396   \n",
       "2018-3분기     138943        6609       2981      30057      13090      80112   \n",
       "2018-4분기     125215        9497      20762      43933       8383      90915   \n",
       "2019-1분기      67250        3760       8400      36596      23533      99771   \n",
       "2019-2분기     146956        5323      27363      27931      18422      32349   \n",
       "2019-3분기      72324         672       1468       8606       1996      82314   \n",
       "\n",
       "대리점       대리점 6_출하량  대리점 7_출하량  대리점 8_출하량  대리점 9_출하량  \n",
       "분기                                                    \n",
       "2016-1분기      76005     112276      32743      98266  \n",
       "2016-2분기     103226     114176      46088      93726  \n",
       "2016-3분기      63977     120829      44548      87417  \n",
       "2016-4분기      22512     122822      35805      85516  \n",
       "2017-1분기      25148     152077      36627      82569  \n",
       "2017-2분기      45136     155935      34654     120782  \n",
       "2017-3분기      56074     157376      45479      98911  \n",
       "2017-4분기      31915     138685      46461     109366  \n",
       "2018-1분기      38133     144976      39479     121972  \n",
       "2018-2분기      35929     123158      32632      98351  \n",
       "2018-3분기      35970     123736      50112     114684  \n",
       "2018-4분기      41378     192948      56313     152470  \n",
       "2019-1분기      33672     133339      34202     123676  \n",
       "2019-2분기      44100     134556      38022     112485  \n",
       "2019-3분기       6252      30405      10096      18856  "
      ]
     },
     "execution_count": 38,
     "metadata": {},
     "output_type": "execute_result"
    }
   ],
   "source": [
    "pivot_df = pd.pivot_table(data = grouped_df, values = '수량', index = '분기', columns = '대리점', aggfunc = 'sum')\n",
    "pivot_df = pivot_df.add_suffix(\"_출하량\") # 대리점명이 전부 컬럼으로 되기 때문에, suffix를 추가시킴\n",
    "\n",
    "pivot_df"
   ]
  },
  {
   "cell_type": "code",
   "execution_count": 39,
   "metadata": {},
   "outputs": [
    {
     "data": {
      "text/plain": [
       "분기\n",
       "2016-1분기    0\n",
       "2016-2분기    1\n",
       "2016-3분기    2\n",
       "2016-4분기    3\n",
       "2017-1분기    4\n",
       "Name: 분기, dtype: int64"
      ]
     },
     "execution_count": 39,
     "metadata": {},
     "output_type": "execute_result"
    }
   ],
   "source": [
    "pivot_df['분기'] = list(range(len(pivot_df))) # x축에 쓰기 위해 임의의 변수를 생성함\n",
    "pivot_df['분기'].head()"
   ]
  },
  {
   "cell_type": "code",
   "execution_count": 43,
   "metadata": {},
   "outputs": [
    {
     "data": {
      "text/plain": [
       "[0, 1, 2, 3, 4, 5, 6, 7, 8, 9, 10, 11, 12, 13, 14]"
      ]
     },
     "execution_count": 43,
     "metadata": {},
     "output_type": "execute_result"
    }
   ],
   "source": [
    "list(range(len(pivot_df)))"
   ]
  },
  {
   "cell_type": "code",
   "execution_count": 44,
   "metadata": {},
   "outputs": [
    {
     "data": {
      "text/plain": [
       "([<matplotlib.axis.XTick at 0x23280fa44f0>,\n",
       "  <matplotlib.axis.XTick at 0x23280fa44c0>,\n",
       "  <matplotlib.axis.XTick at 0x23280f85d30>,\n",
       "  <matplotlib.axis.XTick at 0x23280f90370>,\n",
       "  <matplotlib.axis.XTick at 0x23280f90880>,\n",
       "  <matplotlib.axis.XTick at 0x23280f90d90>,\n",
       "  <matplotlib.axis.XTick at 0x23280f9d2e0>,\n",
       "  <matplotlib.axis.XTick at 0x23280f9d7f0>,\n",
       "  <matplotlib.axis.XTick at 0x23280f9dd00>,\n",
       "  <matplotlib.axis.XTick at 0x23280f9d430>,\n",
       "  <matplotlib.axis.XTick at 0x232ffda2550>,\n",
       "  <matplotlib.axis.XTick at 0x23280f85ca0>,\n",
       "  <matplotlib.axis.XTick at 0x23280fa93a0>,\n",
       "  <matplotlib.axis.XTick at 0x23280fa98b0>,\n",
       "  <matplotlib.axis.XTick at 0x23280fa9dc0>],\n",
       " [Text(0, 0, '2016-1분기'),\n",
       "  Text(0, 0, '2016-2분기'),\n",
       "  Text(0, 0, '2016-3분기'),\n",
       "  Text(0, 0, '2016-4분기'),\n",
       "  Text(0, 0, '2017-1분기'),\n",
       "  Text(0, 0, '2017-2분기'),\n",
       "  Text(0, 0, '2017-3분기'),\n",
       "  Text(0, 0, '2017-4분기'),\n",
       "  Text(0, 0, '2018-1분기'),\n",
       "  Text(0, 0, '2018-2분기'),\n",
       "  Text(0, 0, '2018-3분기'),\n",
       "  Text(0, 0, '2018-4분기'),\n",
       "  Text(0, 0, '2019-1분기'),\n",
       "  Text(0, 0, '2019-2분기'),\n",
       "  Text(0, 0, '2019-3분기')])"
      ]
     },
     "execution_count": 44,
     "metadata": {},
     "output_type": "execute_result"
    },
    {
     "data": {
      "image/png": "[encoded data removed]",
      "text/plain": [
       "<Figure size 720x720 with 1 Axes>"
      ]
     },
     "metadata": {
      "needs_background": "light"
     },
     "output_type": "display_data"
    }
   ],
   "source": [
    "# 그래프 기본 설정\n",
    "pivot_df.plot(kind = 'scatter', x = '분기', y = '대리점 1_출하량')\n",
    "plt.title(\"날짜별 상품 판매량\")\n",
    "plt.xlabel(\"분기\")\n",
    "plt.ylabel(\"출하량 (개수)\")\n",
    "\n",
    "xtick_range = range(len(grouped_df['분기'].unique()))\n",
    "xtick_label = grouped_df['분기'].unique()\n",
    "\n",
    "plt.xticks(xtick_range, xtick_label)"
   ]
  },
  {
   "cell_type": "code",
   "execution_count": 1,
   "metadata": {},
   "outputs": [],
   "source": [
    "import os\n",
    "import pandas as pd\n",
    "import matplotlib.pyplot as plt\n",
    "import numpy as np\n",
    "%matplotlib inline\n",
    "os.chdir(r'C:\\Users\\신상훈\\Desktop\\preprocessing\\part-1.-데이터-핸들링\\1. 데이터 핸들링\\데이터')"
   ]
  },
  {
   "cell_type": "code",
   "execution_count": 2,
   "metadata": {},
   "outputs": [
    {
     "data": {
      "text/html": [
       "<div>\n",
       "<style scoped>\n",
       "    .dataframe tbody tr th:only-of-type {\n",
       "        vertical-align: middle;\n",
       "    }\n",
       "\n",
       "    .dataframe tbody tr th {\n",
       "        vertical-align: top;\n",
       "    }\n",
       "\n",
       "    .dataframe thead th {\n",
       "        text-align: right;\n",
       "    }\n",
       "</style>\n",
       "<table border=\"1\" class=\"dataframe\">\n",
       "  <thead>\n",
       "    <tr style=\"text-align: right;\">\n",
       "      <th></th>\n",
       "      <th>년도(year)</th>\n",
       "      <th>월(month)</th>\n",
       "      <th>분기(4)</th>\n",
       "      <th>일자(day)</th>\n",
       "      <th>주차별 편중도</th>\n",
       "      <th>출하일</th>\n",
       "      <th>대리점</th>\n",
       "      <th>지역 구분</th>\n",
       "      <th>내수/수출 구분</th>\n",
       "      <th>제품군</th>\n",
       "      <th>수량</th>\n",
       "    </tr>\n",
       "  </thead>\n",
       "  <tbody>\n",
       "    <tr>\n",
       "      <th>0</th>\n",
       "      <td>2016</td>\n",
       "      <td>1</td>\n",
       "      <td>1분기</td>\n",
       "      <td>4</td>\n",
       "      <td>상</td>\n",
       "      <td>2016-01-04</td>\n",
       "      <td>대리점 6</td>\n",
       "      <td>국내</td>\n",
       "      <td>내수</td>\n",
       "      <td>제품 1</td>\n",
       "      <td>12</td>\n",
       "    </tr>\n",
       "    <tr>\n",
       "      <th>1</th>\n",
       "      <td>2016</td>\n",
       "      <td>1</td>\n",
       "      <td>1분기</td>\n",
       "      <td>4</td>\n",
       "      <td>상</td>\n",
       "      <td>2016-01-04</td>\n",
       "      <td>대리점 6</td>\n",
       "      <td>국내</td>\n",
       "      <td>내수</td>\n",
       "      <td>제품 1</td>\n",
       "      <td>4</td>\n",
       "    </tr>\n",
       "    <tr>\n",
       "      <th>2</th>\n",
       "      <td>2016</td>\n",
       "      <td>1</td>\n",
       "      <td>1분기</td>\n",
       "      <td>4</td>\n",
       "      <td>상</td>\n",
       "      <td>2016-01-04</td>\n",
       "      <td>대리점 6</td>\n",
       "      <td>국내</td>\n",
       "      <td>내수</td>\n",
       "      <td>제품 1</td>\n",
       "      <td>1</td>\n",
       "    </tr>\n",
       "    <tr>\n",
       "      <th>3</th>\n",
       "      <td>2016</td>\n",
       "      <td>1</td>\n",
       "      <td>1분기</td>\n",
       "      <td>4</td>\n",
       "      <td>상</td>\n",
       "      <td>2016-01-04</td>\n",
       "      <td>대리점 6</td>\n",
       "      <td>국내</td>\n",
       "      <td>내수</td>\n",
       "      <td>제품 5</td>\n",
       "      <td>122</td>\n",
       "    </tr>\n",
       "    <tr>\n",
       "      <th>4</th>\n",
       "      <td>2016</td>\n",
       "      <td>1</td>\n",
       "      <td>1분기</td>\n",
       "      <td>4</td>\n",
       "      <td>상</td>\n",
       "      <td>2016-01-04</td>\n",
       "      <td>대리점 6</td>\n",
       "      <td>국내</td>\n",
       "      <td>내수</td>\n",
       "      <td>제품 1</td>\n",
       "      <td>20</td>\n",
       "    </tr>\n",
       "  </tbody>\n",
       "</table>\n",
       "</div>"
      ],
      "text/plain": [
       "   년도(year)  월(month) 분기(4)  일자(day) 주차별 편중도         출하일    대리점 지역 구분  \\\n",
       "0      2016         1   1분기        4       상  2016-01-04  대리점 6    국내   \n",
       "1      2016         1   1분기        4       상  2016-01-04  대리점 6    국내   \n",
       "2      2016         1   1분기        4       상  2016-01-04  대리점 6    국내   \n",
       "3      2016         1   1분기        4       상  2016-01-04  대리점 6    국내   \n",
       "4      2016         1   1분기        4       상  2016-01-04  대리점 6    국내   \n",
       "\n",
       "  내수/수출 구분   제품군   수량  \n",
       "0       내수  제품 1   12  \n",
       "1       내수  제품 1    4  \n",
       "2       내수  제품 1    1  \n",
       "3       내수  제품 5  122  \n",
       "4       내수  제품 1   20  "
      ]
     },
     "execution_count": 2,
     "metadata": {},
     "output_type": "execute_result"
    }
   ],
   "source": [
    "df = pd.read_csv('판매실적통합본.csv', engine = 'python')\n",
    "df.head()"
   ]
  },
  {
   "cell_type": "code",
   "execution_count": 4,
   "metadata": {},
   "outputs": [
    {
     "data": {
      "text/html": [
       "<div>\n",
       "<style scoped>\n",
       "    .dataframe tbody tr th:only-of-type {\n",
       "        vertical-align: middle;\n",
       "    }\n",
       "\n",
       "    .dataframe tbody tr th {\n",
       "        vertical-align: top;\n",
       "    }\n",
       "\n",
       "    .dataframe thead th {\n",
       "        text-align: right;\n",
       "    }\n",
       "</style>\n",
       "<table border=\"1\" class=\"dataframe\">\n",
       "  <thead>\n",
       "    <tr style=\"text-align: right;\">\n",
       "      <th></th>\n",
       "      <th>제품군</th>\n",
       "      <th>수량</th>\n",
       "    </tr>\n",
       "  </thead>\n",
       "  <tbody>\n",
       "    <tr>\n",
       "      <th>0</th>\n",
       "      <td>제품 1</td>\n",
       "      <td>2690307</td>\n",
       "    </tr>\n",
       "    <tr>\n",
       "      <th>1</th>\n",
       "      <td>제품 2</td>\n",
       "      <td>4223384</td>\n",
       "    </tr>\n",
       "    <tr>\n",
       "      <th>2</th>\n",
       "      <td>제품 3</td>\n",
       "      <td>531946</td>\n",
       "    </tr>\n",
       "    <tr>\n",
       "      <th>3</th>\n",
       "      <td>제품 4</td>\n",
       "      <td>277193</td>\n",
       "    </tr>\n",
       "    <tr>\n",
       "      <th>4</th>\n",
       "      <td>제품 5</td>\n",
       "      <td>126323</td>\n",
       "    </tr>\n",
       "    <tr>\n",
       "      <th>5</th>\n",
       "      <td>제품 6</td>\n",
       "      <td>262774</td>\n",
       "    </tr>\n",
       "  </tbody>\n",
       "</table>\n",
       "</div>"
      ],
      "text/plain": [
       "    제품군       수량\n",
       "0  제품 1  2690307\n",
       "1  제품 2  4223384\n",
       "2  제품 3   531946\n",
       "3  제품 4   277193\n",
       "4  제품 5   126323\n",
       "5  제품 6   262774"
      ]
     },
     "execution_count": 4,
     "metadata": {},
     "output_type": "execute_result"
    }
   ],
   "source": [
    "# 제품군별 수량 합계 계산\n",
    "grouped_df1 = df.groupby(['제품군'], as_index = False)['수량'].sum()\n",
    "grouped_df1"
   ]
  },
  {
   "cell_type": "code",
   "execution_count": 5,
   "metadata": {},
   "outputs": [],
   "source": [
    "plt.rcParams[\"font.family\"] = 'Malgun Gothic'\n",
    "plt.rcParams[\"font.size\"] = 20\n",
    "plt.rcParams[\"figure.figsize\"] = (10, 8)"
   ]
  },
  {
   "cell_type": "code",
   "execution_count": 6,
   "metadata": {},
   "outputs": [
    {
     "data": {
      "text/plain": [
       "<BarContainer object of 6 artists>"
      ]
     },
     "execution_count": 6,
     "metadata": {},
     "output_type": "execute_result"
    },
    {
     "data": {
      "image/png": "[encoded data removed]",
      "text/plain": [
       "<Figure size 720x576 with 1 Axes>"
      ]
     },
     "metadata": {
      "needs_background": "light"
     },
     "output_type": "display_data"
    }
   ],
   "source": [
    "# 제품군별 출하량 합계 계산\n",
    "plt.title('제품군별 출하량 합계')\n",
    "plt.xlabel('제품군')\n",
    "plt.ylabel('출하량 합계 (계수)')\n",
    "plt.bar(grouped_df1['제품군'], grouped_df1['수량'], width = 0.5)"
   ]
  },
  {
   "cell_type": "code",
   "execution_count": 7,
   "metadata": {},
   "outputs": [
    {
     "data": {
      "text/plain": [
       "제품군   년도(year)\n",
       "제품 1  2016         637130\n",
       "      2017         763450\n",
       "      2018         807846\n",
       "      2019         481881\n",
       "제품 2  2016        1029868\n",
       "      2017        1215031\n",
       "      2018        1307538\n",
       "      2019         670947\n",
       "제품 3  2016         134693\n",
       "      2017         154208\n",
       "      2018         157031\n",
       "      2019          86014\n",
       "제품 4  2016          56774\n",
       "      2017          82124\n",
       "      2018          83692\n",
       "      2019          54603\n",
       "제품 5  2016          30142\n",
       "      2017          36363\n",
       "      2018          39851\n",
       "      2019          19967\n",
       "제품 6  2016          41612\n",
       "      2017          64722\n",
       "      2018          85157\n",
       "      2019          71283\n",
       "Name: 수량, dtype: int64"
      ]
     },
     "execution_count": 7,
     "metadata": {},
     "output_type": "execute_result"
    }
   ],
   "source": [
    "plt.rcParams[\"figure.figsize\"] = (40, 15)\n",
    "grouped_df2 = df.groupby(['제품군', '년도(year)'], as_index = True)['수량'].sum()\n",
    "grouped_df2"
   ]
  },
  {
   "cell_type": "code",
   "execution_count": 11,
   "metadata": {},
   "outputs": [
    {
     "data": {
      "text/plain": [
       "<matplotlib.axes._subplots.AxesSubplot at 0x1e441f36070>"
      ]
     },
     "execution_count": 11,
     "metadata": {},
     "output_type": "execute_result"
    },
    {
     "data": {
      "image/png": "[encoded data removed]",
      "text/plain": [
       "<Figure size 2880x1080 with 1 Axes>"
      ]
     },
     "metadata": {
      "needs_background": "light"
     },
     "output_type": "display_data"
    }
   ],
   "source": [
    "grouped_df2.unstack().plot(kind = 'bar')"
   ]
  },
  {
   "cell_type": "code",
   "execution_count": 12,
   "metadata": {},
   "outputs": [
    {
     "data": {
      "text/plain": [
       "4     126323\n",
       "5     262774\n",
       "3     277193\n",
       "2     531946\n",
       "0    2690307\n",
       "1    4223384\n",
       "Name: 수량, dtype: int64"
      ]
     },
     "execution_count": 12,
     "metadata": {},
     "output_type": "execute_result"
    }
   ],
   "source": [
    "grouped_df1.sort_values(by = '수량')['수량']"
   ]
  },
  {
   "cell_type": "code",
   "execution_count": 13,
   "metadata": {},
   "outputs": [
    {
     "data": {
      "text/html": [
       "<div>\n",
       "<style scoped>\n",
       "    .dataframe tbody tr th:only-of-type {\n",
       "        vertical-align: middle;\n",
       "    }\n",
       "\n",
       "    .dataframe tbody tr th {\n",
       "        vertical-align: top;\n",
       "    }\n",
       "\n",
       "    .dataframe thead th {\n",
       "        text-align: right;\n",
       "    }\n",
       "</style>\n",
       "<table border=\"1\" class=\"dataframe\">\n",
       "  <thead>\n",
       "    <tr style=\"text-align: right;\">\n",
       "      <th></th>\n",
       "      <th>제품군</th>\n",
       "      <th>수량</th>\n",
       "    </tr>\n",
       "  </thead>\n",
       "  <tbody>\n",
       "    <tr>\n",
       "      <th>0</th>\n",
       "      <td>기타</td>\n",
       "      <td>1198236</td>\n",
       "    </tr>\n",
       "  </tbody>\n",
       "</table>\n",
       "</div>"
      ],
      "text/plain": [
       "  제품군       수량\n",
       "0  기타  1198236"
      ]
     },
     "execution_count": 13,
     "metadata": {},
     "output_type": "execute_result"
    }
   ],
   "source": [
    "other_row = pd.DataFrame({\"제품군\":['기타'], \n",
    "                          '수량':[grouped_df1.sort_values(by = '수량')['수량'].iloc[:4].sum()]})\n",
    "other_row"
   ]
  },
  {
   "cell_type": "code",
   "execution_count": 14,
   "metadata": {},
   "outputs": [
    {
     "data": {
      "text/html": [
       "<div>\n",
       "<style scoped>\n",
       "    .dataframe tbody tr th:only-of-type {\n",
       "        vertical-align: middle;\n",
       "    }\n",
       "\n",
       "    .dataframe tbody tr th {\n",
       "        vertical-align: top;\n",
       "    }\n",
       "\n",
       "    .dataframe thead th {\n",
       "        text-align: right;\n",
       "    }\n",
       "</style>\n",
       "<table border=\"1\" class=\"dataframe\">\n",
       "  <thead>\n",
       "    <tr style=\"text-align: right;\">\n",
       "      <th></th>\n",
       "      <th>제품군</th>\n",
       "      <th>수량</th>\n",
       "    </tr>\n",
       "  </thead>\n",
       "  <tbody>\n",
       "    <tr>\n",
       "      <th>1</th>\n",
       "      <td>제품 2</td>\n",
       "      <td>4223384</td>\n",
       "    </tr>\n",
       "    <tr>\n",
       "      <th>0</th>\n",
       "      <td>제품 1</td>\n",
       "      <td>2690307</td>\n",
       "    </tr>\n",
       "    <tr>\n",
       "      <th>6</th>\n",
       "      <td>기타</td>\n",
       "      <td>1198236</td>\n",
       "    </tr>\n",
       "  </tbody>\n",
       "</table>\n",
       "</div>"
      ],
      "text/plain": [
       "    제품군       수량\n",
       "1  제품 2  4223384\n",
       "0  제품 1  2690307\n",
       "6    기타  1198236"
      ]
     },
     "execution_count": 14,
     "metadata": {},
     "output_type": "execute_result"
    }
   ],
   "source": [
    "grouped_df = pd.concat([grouped_df1, other_row], axis = 0, ignore_index = True)\n",
    "grouped_df = grouped_df.sort_values(by = '수량', ascending = False).iloc[:3]\n",
    "grouped_df"
   ]
  },
  {
   "cell_type": "code",
   "execution_count": 15,
   "metadata": {},
   "outputs": [
    {
     "data": {
      "text/plain": [
       "([<matplotlib.patches.Wedge at 0x1e4412b3070>,\n",
       "  <matplotlib.patches.Wedge at 0x1e4412b3550>,\n",
       "  <matplotlib.patches.Wedge at 0x1e4412b3be0>],\n",
       " [Text(-0.019438006431517805, 0.29936961085916564, '제품 2'),\n",
       "  Text(-0.11660851500795197, -0.27640993872804254, '제품 1'),\n",
       "  Text(0.2682736687188585, -0.13427300053295957, '기타')],\n",
       " [Text(-0.03887601286303561, 0.5987392217183313, '52.1%'),\n",
       "  Text(-0.23321703001590394, -0.5528198774560851, '33.2%'),\n",
       "  Text(0.536547337437717, -0.26854600106591914, '14.8%')])"
      ]
     },
     "execution_count": 15,
     "metadata": {},
     "output_type": "execute_result"
    },
    {
     "data": {
      "image/png": "[encoded data removed]",
      "text/plain": [
       "<Figure size 2880x1080 with 1 Axes>"
      ]
     },
     "metadata": {},
     "output_type": "display_data"
    }
   ],
   "source": [
    "# 제품군별 출하량 합계 계산\n",
    "plt.title(\"제품군별 출하량 비율\")\n",
    "\n",
    "plt.pie(x = grouped_df['수량'],\n",
    "        labels = grouped_df['제품군'],\n",
    "       labeldistance = 0.3,\n",
    "       autopct = '%1.1f%%')"
   ]
  },
  {
   "cell_type": "code",
   "execution_count": 16,
   "metadata": {},
   "outputs": [],
   "source": [
    "import pandas as pd\n",
    "import os\n",
    "from matplotlib import pyplot as plt\n",
    "import numpy as np\n",
    "%matplotlib inline\n",
    "os.chdir(r'C:\\Users\\신상훈\\Desktop\\preprocessing\\part-1.-데이터-핸들링\\1. 데이터 핸들링\\데이터')\n",
    "\n",
    "\n",
    "plt.rcParams[\"font.family\"] = 'Malgun Gothic'\n",
    "plt.rcParams[\"font.size\"] = 15\n",
    "plt.rcParams[\"figure.figsize\"] = (15, 8)"
   ]
  },
  {
   "cell_type": "code",
   "execution_count": 17,
   "metadata": {},
   "outputs": [
    {
     "data": {
      "text/html": [
       "<div>\n",
       "<style scoped>\n",
       "    .dataframe tbody tr th:only-of-type {\n",
       "        vertical-align: middle;\n",
       "    }\n",
       "\n",
       "    .dataframe tbody tr th {\n",
       "        vertical-align: top;\n",
       "    }\n",
       "\n",
       "    .dataframe thead th {\n",
       "        text-align: right;\n",
       "    }\n",
       "</style>\n",
       "<table border=\"1\" class=\"dataframe\">\n",
       "  <thead>\n",
       "    <tr style=\"text-align: right;\">\n",
       "      <th></th>\n",
       "      <th>쇼핑몰</th>\n",
       "      <th>제품</th>\n",
       "      <th>수량</th>\n",
       "      <th>판매금액</th>\n",
       "      <th>쇼핑몰 유형</th>\n",
       "    </tr>\n",
       "  </thead>\n",
       "  <tbody>\n",
       "    <tr>\n",
       "      <th>0</th>\n",
       "      <td>쿠팡</td>\n",
       "      <td>제품_16</td>\n",
       "      <td>8</td>\n",
       "      <td>1134400</td>\n",
       "      <td>쿠팡</td>\n",
       "    </tr>\n",
       "    <tr>\n",
       "      <th>1</th>\n",
       "      <td>쿠팡</td>\n",
       "      <td>제품_57</td>\n",
       "      <td>8</td>\n",
       "      <td>439200</td>\n",
       "      <td>쿠팡</td>\n",
       "    </tr>\n",
       "    <tr>\n",
       "      <th>2</th>\n",
       "      <td>쿠팡</td>\n",
       "      <td>제품_25</td>\n",
       "      <td>4</td>\n",
       "      <td>495200</td>\n",
       "      <td>쿠팡</td>\n",
       "    </tr>\n",
       "    <tr>\n",
       "      <th>3</th>\n",
       "      <td>쿠팡</td>\n",
       "      <td>제품_18</td>\n",
       "      <td>4</td>\n",
       "      <td>578000</td>\n",
       "      <td>쿠팡</td>\n",
       "    </tr>\n",
       "    <tr>\n",
       "      <th>4</th>\n",
       "      <td>쿠팡</td>\n",
       "      <td>제품_90</td>\n",
       "      <td>2</td>\n",
       "      <td>75000</td>\n",
       "      <td>쿠팡</td>\n",
       "    </tr>\n",
       "  </tbody>\n",
       "</table>\n",
       "</div>"
      ],
      "text/plain": [
       "  쇼핑몰     제품  수량     판매금액 쇼핑몰 유형\n",
       "0  쿠팡  제품_16   8  1134400     쿠팡\n",
       "1  쿠팡  제품_57   8   439200     쿠팡\n",
       "2  쿠팡  제품_25   4   495200     쿠팡\n",
       "3  쿠팡  제품_18   4   578000     쿠팡\n",
       "4  쿠팡  제품_90   2    75000     쿠팡"
      ]
     },
     "execution_count": 17,
     "metadata": {},
     "output_type": "execute_result"
    }
   ],
   "source": [
    "df = pd.read_csv('온라인_판매기록.csv', engine = 'python')\n",
    "df.head()"
   ]
  },
  {
   "cell_type": "code",
   "execution_count": 18,
   "metadata": {},
   "outputs": [
    {
     "data": {
      "text/plain": [
       "array(['쿠팡', '위메프', '주식회사 펫츠비', '밍키스맘', '[고양]다니엘동물병원', '강아지왕국', '개명동물병원',\n",
       "       '주식회사 펫뱅크', '독스파파', '퍼피아쇼핑몰', '텐바이텐', '1300k', '이리온 동물병원(청담점)',\n",
       "       '까페멍', 'GALAXYPET', '아모르디', '[안산]미유펫', '유집사네개들', '선진펫', '자인 멍멍이네',\n",
       "       '[경남 진주] 야옹아 멍멍해봐', '빅브라더', '스누피동물병원', '펫앤비코리아', '펫누리(펫클럽)',\n",
       "       '멍냥이네', '컴패니언', '인터펫코리아', '오독오독', '딩동이네', '도꾸도꾸', '수호동물병원', '코코마펫',\n",
       "       '그린펫', '코리아대동', '데일리독', '줄서는집', '폴리파크', 'KPET', '올라인', '펫스토어',\n",
       "       'Kopet', 'US글로벌', '[대리점]빛돌 커뮤니케이션', '신세계이마트', '아이꾸러미', '하나유통',\n",
       "       '올치', '에스이랜드', '위더스(윈리엔)', '펫모두(누리보듬)', '애니피아동물병원', 'POOM(아트박스)',\n",
       "       '인브로스', '딱펫', '메리멍', '펫프렌즈', '강아지대통령', '펫클럽(남양주)', '엔빵',\n",
       "       '[대리점]수진유통', '오렌지펫', '라임동물병원', '더독몰-반포샵', '도그씨', '기프트펫', '카카오선물하기',\n",
       "       '(주)신일코리아아울렛펫코', '강사모 백화점 원종점', '강아지와요와요', '애니펫동물병원(수지)',\n",
       "       '이리온동물병원(판교)', '나라애견', '도그스푼', '아로하플라워', '아트박스 오프라인', '에버펫동물병원',\n",
       "       '속초애견프라자', '마곡나무동물병원', '몬스터펫샵 분당오포좀', '리오펫', '모모펫살롱', '워킹펫',\n",
       "       '펫하우스', '이쁘개귀엽냥', '헬로아이엠', '파트라슈', '드림동물병원', '금천 24시 k동물의료센터',\n",
       "       '아프지말게동물병원', '범서조은동물병원', '핑크애견', '두잇', '이누&네꼬petshop', '한마음애견용품',\n",
       "       '애니멀푸드', '엠에스유통', '태진상사', '펫동산', '바르다펫', '에이원동물병원', '이랜드몰',\n",
       "       '애견아우랫'], dtype=object)"
      ]
     },
     "execution_count": 18,
     "metadata": {},
     "output_type": "execute_result"
    }
   ],
   "source": [
    "df['쇼핑몰'].unique()"
   ]
  },
  {
   "cell_type": "code",
   "execution_count": 19,
   "metadata": {},
   "outputs": [
    {
     "data": {
      "text/plain": [
       "쇼핑몰 유형\n",
       "동물병원      [338400, 202600, 238800, 1088000, 135800, 8768...\n",
       "온라인II     [400800, 586600, 291900, 654000, 684000, 40400...\n",
       "온라인사이트    [10400, 631400, 516400, 318000, 300000, 306600...\n",
       "유통대리점     [220200, 10100, 112500, 56000, 236600, 928900,...\n",
       "전시회       [498000, 195300, 143500, 478200, 358400, 10731...\n",
       "쿠팡        [1134400, 439200, 495200, 578000, 75000, 19550...\n",
       "할인점       [39100, 670400, 1533000, 438400, 403200, 19250...\n",
       "할인점II     [119100, 101300, 124200, 101400, 291900, 37350...\n",
       "Name: 판매금액, dtype: object"
      ]
     },
     "execution_count": 19,
     "metadata": {},
     "output_type": "execute_result"
    }
   ],
   "source": [
    "X = df.groupby('쇼핑몰 유형')['판매금액'].apply(list)\n",
    "X"
   ]
  },
  {
   "cell_type": "code",
   "execution_count": 21,
   "metadata": {},
   "outputs": [
    {
     "data": {
      "text/plain": [
       "([<matplotlib.axis.XTick at 0x1e43de1a670>,\n",
       "  <matplotlib.axis.XTick at 0x1e43de1a280>,\n",
       "  <matplotlib.axis.XTick at 0x1e43d363040>,\n",
       "  <matplotlib.axis.XTick at 0x1e443e2db20>,\n",
       "  <matplotlib.axis.XTick at 0x1e443e1a070>,\n",
       "  <matplotlib.axis.XTick at 0x1e443e1a580>,\n",
       "  <matplotlib.axis.XTick at 0x1e443e1aa90>,\n",
       "  <matplotlib.axis.XTick at 0x1e443e2d820>],\n",
       " [Text(0, 0, '동물병원'),\n",
       "  Text(0, 0, '온라인II'),\n",
       "  Text(0, 0, '온라인사이트'),\n",
       "  Text(0, 0, '유통대리점'),\n",
       "  Text(0, 0, '전시회'),\n",
       "  Text(0, 0, '쿠팡'),\n",
       "  Text(0, 0, '할인점'),\n",
       "  Text(0, 0, '할인점II')])"
      ]
     },
     "execution_count": 21,
     "metadata": {},
     "output_type": "execute_result"
    },
    {
     "data": {
      "image/png": "[encoded data removed]",
      "text/plain": [
       "<Figure size 1080x576 with 1 Axes>"
      ]
     },
     "metadata": {
      "needs_background": "light"
     },
     "output_type": "display_data"
    }
   ],
   "source": [
    "plt.title('쇼핑몰 유형에 따른 판매금액 분포')\n",
    "plt.boxplot(X.values)\n",
    "plt.xticks(np.arange(1,len(X)+1), X.index)"
   ]
  },
  {
   "cell_type": "code",
   "execution_count": 22,
   "metadata": {},
   "outputs": [
    {
     "data": {
      "text/html": [
       "<div>\n",
       "<style scoped>\n",
       "    .dataframe tbody tr th:only-of-type {\n",
       "        vertical-align: middle;\n",
       "    }\n",
       "\n",
       "    .dataframe tbody tr th {\n",
       "        vertical-align: top;\n",
       "    }\n",
       "\n",
       "    .dataframe thead th {\n",
       "        text-align: right;\n",
       "    }\n",
       "</style>\n",
       "<table border=\"1\" class=\"dataframe\">\n",
       "  <thead>\n",
       "    <tr style=\"text-align: right;\">\n",
       "      <th></th>\n",
       "      <th>실험1</th>\n",
       "      <th>실험2</th>\n",
       "      <th>실험3</th>\n",
       "    </tr>\n",
       "  </thead>\n",
       "  <tbody>\n",
       "    <tr>\n",
       "      <th>0</th>\n",
       "      <td>10.302872</td>\n",
       "      <td>12.267735</td>\n",
       "      <td>7.830711</td>\n",
       "    </tr>\n",
       "    <tr>\n",
       "      <th>1</th>\n",
       "      <td>12.308751</td>\n",
       "      <td>13.808464</td>\n",
       "      <td>11.383059</td>\n",
       "    </tr>\n",
       "    <tr>\n",
       "      <th>2</th>\n",
       "      <td>13.255124</td>\n",
       "      <td>12.114200</td>\n",
       "      <td>16.324624</td>\n",
       "    </tr>\n",
       "    <tr>\n",
       "      <th>3</th>\n",
       "      <td>11.347572</td>\n",
       "      <td>8.090203</td>\n",
       "      <td>8.917121</td>\n",
       "    </tr>\n",
       "    <tr>\n",
       "      <th>4</th>\n",
       "      <td>9.901972</td>\n",
       "      <td>8.778033</td>\n",
       "      <td>7.508750</td>\n",
       "    </tr>\n",
       "  </tbody>\n",
       "</table>\n",
       "</div>"
      ],
      "text/plain": [
       "         실험1        실험2        실험3\n",
       "0  10.302872  12.267735   7.830711\n",
       "1  12.308751  13.808464  11.383059\n",
       "2  13.255124  12.114200  16.324624\n",
       "3  11.347572   8.090203   8.917121\n",
       "4   9.901972   8.778033   7.508750"
      ]
     },
     "execution_count": 22,
     "metadata": {},
     "output_type": "execute_result"
    }
   ],
   "source": [
    "# DataFrame method를 이용한 boxplot 그리기\n",
    "df = pd.DataFrame({\"실험1\": np.random.normal(10, 2, size = 100),\n",
    "                  \"실험2\": np.random.normal(8, 3, size = 100),\n",
    "                  \"실험3\": np.random.normal(9, 4, size = 100)})\n",
    "\n",
    "df.head()"
   ]
  },
  {
   "cell_type": "code",
   "execution_count": 23,
   "metadata": {},
   "outputs": [
    {
     "data": {
      "text/plain": [
       "<matplotlib.axes._subplots.AxesSubplot at 0x1e43de35a60>"
      ]
     },
     "execution_count": 23,
     "metadata": {},
     "output_type": "execute_result"
    },
    {
     "name": "stderr",
     "output_type": "stream",
     "text": [
      "C:\\ProgramData\\Anaconda3\\lib\\site-packages\\matplotlib\\backends\\backend_agg.py:214: RuntimeWarning: Glyph 8722 missing from current font.\n",
      "  font.set_text(s, 0.0, flags=flags)\n",
      "C:\\ProgramData\\Anaconda3\\lib\\site-packages\\matplotlib\\backends\\backend_agg.py:183: RuntimeWarning: Glyph 8722 missing from current font.\n",
      "  font.set_text(s, 0, flags=flags)\n"
     ]
    },
    {
     "data": {
      "image/png": "[encoded data removed]",
      "text/plain": [
       "<Figure size 1080x576 with 1 Axes>"
      ]
     },
     "metadata": {
      "needs_background": "light"
     },
     "output_type": "display_data"
    }
   ],
   "source": [
    "df.boxplot(column = ['실험1', '실험2', '실험3'])"
   ]
  }
 ],
 "metadata": {
  "kernelspec": {
   "display_name": "Python 3",
   "language": "python",
   "name": "python3"
  },
  "language_info": {
   "codemirror_mode": {
    "name": "ipython",
    "version": 3
   },
   "file_extension": ".py",
   "mimetype": "text/x-python",
   "name": "python",
   "nbconvert_exporter": "python",
   "pygments_lexer": "ipython3",
   "version": "3.8.3"
  }
 },
 "nbformat": 4,
 "nbformat_minor": 4
}
