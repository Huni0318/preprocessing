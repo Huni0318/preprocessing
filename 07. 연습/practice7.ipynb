{
 "cells": [
  {
   "cell_type": "code",
   "execution_count": 1,
   "metadata": {},
   "outputs": [],
   "source": [
    "import os\n",
    "import pandas as pd\n",
    "os.chdir(r'C:\\Users\\신상훈\\Desktop\\preprocessing\\part-2.-탐색적-데이터-분석\\2. 탐색적 데이터 분석\\데이터')"
   ]
  },
  {
   "cell_type": "code",
   "execution_count": 5,
   "metadata": {},
   "outputs": [
    {
     "data": {
      "text/plain": [
       "24852    0.013524\n",
       "13176    0.011180\n",
       "21137    0.007868\n",
       "21903    0.007066\n",
       "47626    0.005875\n",
       "           ...   \n",
       "8193     0.001024\n",
       "9387     0.000996\n",
       "37687    0.000984\n",
       "20995    0.000983\n",
       "34243    0.000976\n",
       "Name: product_id, Length: 100, dtype: float64"
      ]
     },
     "execution_count": 5,
     "metadata": {},
     "output_type": "execute_result"
    }
   ],
   "source": [
    "df['product_id'].value_counts(normalize = True).head(100)"
   ]
  },
  {
   "cell_type": "code",
   "execution_count": 6,
   "metadata": {},
   "outputs": [],
   "source": [
    "product_list_per_order = df.groupby('order_id')['product_id'].apply(list)"
   ]
  },
  {
   "cell_type": "code",
   "execution_count": 7,
   "metadata": {},
   "outputs": [
    {
     "data": {
      "text/plain": [
       "order_id\n",
       "1          [49302, 11109, 10246, 49683, 43633, 13176, 472...\n",
       "36         [39612, 19660, 49235, 43086, 46620, 34497, 486...\n",
       "38         [11913, 18159, 4461, 21616, 23622, 32433, 2884...\n",
       "96         [20574, 30391, 40706, 25610, 27966, 24489, 39275]\n",
       "98         [8859, 19731, 43654, 13176, 4357, 37664, 34065...\n",
       "                                 ...                        \n",
       "3421049           [40800, 17706, 33424, 17299, 26800, 34243]\n",
       "3421056                    [5750, 9340, 21709, 16475, 12432]\n",
       "3421058    [15629, 4347, 34466, 6244, 6858, 30316, 35578,...\n",
       "3421063                         [49235, 13565, 14233, 35548]\n",
       "3421070                                 [35951, 16953, 4724]\n",
       "Name: product_id, Length: 131209, dtype: object"
      ]
     },
     "execution_count": 7,
     "metadata": {},
     "output_type": "execute_result"
    }
   ],
   "source": [
    "product_list_per_order"
   ]
  },
  {
   "cell_type": "code",
   "execution_count": 8,
   "metadata": {},
   "outputs": [
    {
     "data": {
      "text/html": [
       "<div>\n",
       "<style scoped>\n",
       "    .dataframe tbody tr th:only-of-type {\n",
       "        vertical-align: middle;\n",
       "    }\n",
       "\n",
       "    .dataframe tbody tr th {\n",
       "        vertical-align: top;\n",
       "    }\n",
       "\n",
       "    .dataframe thead th {\n",
       "        text-align: right;\n",
       "    }\n",
       "</style>\n",
       "<table border=\"1\" class=\"dataframe\">\n",
       "  <thead>\n",
       "    <tr style=\"text-align: right;\">\n",
       "      <th></th>\n",
       "      <th>1</th>\n",
       "      <th>2</th>\n",
       "      <th>3</th>\n",
       "      <th>4</th>\n",
       "      <th>5</th>\n",
       "      <th>7</th>\n",
       "      <th>8</th>\n",
       "      <th>9</th>\n",
       "      <th>10</th>\n",
       "      <th>11</th>\n",
       "      <th>...</th>\n",
       "      <th>49677</th>\n",
       "      <th>49678</th>\n",
       "      <th>49679</th>\n",
       "      <th>49680</th>\n",
       "      <th>49681</th>\n",
       "      <th>49682</th>\n",
       "      <th>49683</th>\n",
       "      <th>49686</th>\n",
       "      <th>49687</th>\n",
       "      <th>49688</th>\n",
       "    </tr>\n",
       "  </thead>\n",
       "  <tbody>\n",
       "    <tr>\n",
       "      <th>0</th>\n",
       "      <td>False</td>\n",
       "      <td>False</td>\n",
       "      <td>False</td>\n",
       "      <td>False</td>\n",
       "      <td>False</td>\n",
       "      <td>False</td>\n",
       "      <td>False</td>\n",
       "      <td>False</td>\n",
       "      <td>False</td>\n",
       "      <td>False</td>\n",
       "      <td>...</td>\n",
       "      <td>False</td>\n",
       "      <td>False</td>\n",
       "      <td>False</td>\n",
       "      <td>False</td>\n",
       "      <td>False</td>\n",
       "      <td>False</td>\n",
       "      <td>True</td>\n",
       "      <td>False</td>\n",
       "      <td>False</td>\n",
       "      <td>False</td>\n",
       "    </tr>\n",
       "    <tr>\n",
       "      <th>1</th>\n",
       "      <td>False</td>\n",
       "      <td>False</td>\n",
       "      <td>False</td>\n",
       "      <td>False</td>\n",
       "      <td>False</td>\n",
       "      <td>False</td>\n",
       "      <td>False</td>\n",
       "      <td>False</td>\n",
       "      <td>False</td>\n",
       "      <td>False</td>\n",
       "      <td>...</td>\n",
       "      <td>False</td>\n",
       "      <td>False</td>\n",
       "      <td>False</td>\n",
       "      <td>False</td>\n",
       "      <td>False</td>\n",
       "      <td>False</td>\n",
       "      <td>False</td>\n",
       "      <td>False</td>\n",
       "      <td>False</td>\n",
       "      <td>False</td>\n",
       "    </tr>\n",
       "    <tr>\n",
       "      <th>2</th>\n",
       "      <td>False</td>\n",
       "      <td>False</td>\n",
       "      <td>False</td>\n",
       "      <td>False</td>\n",
       "      <td>False</td>\n",
       "      <td>False</td>\n",
       "      <td>False</td>\n",
       "      <td>False</td>\n",
       "      <td>False</td>\n",
       "      <td>False</td>\n",
       "      <td>...</td>\n",
       "      <td>False</td>\n",
       "      <td>False</td>\n",
       "      <td>False</td>\n",
       "      <td>False</td>\n",
       "      <td>False</td>\n",
       "      <td>False</td>\n",
       "      <td>False</td>\n",
       "      <td>False</td>\n",
       "      <td>False</td>\n",
       "      <td>False</td>\n",
       "    </tr>\n",
       "    <tr>\n",
       "      <th>3</th>\n",
       "      <td>False</td>\n",
       "      <td>False</td>\n",
       "      <td>False</td>\n",
       "      <td>False</td>\n",
       "      <td>False</td>\n",
       "      <td>False</td>\n",
       "      <td>False</td>\n",
       "      <td>False</td>\n",
       "      <td>False</td>\n",
       "      <td>False</td>\n",
       "      <td>...</td>\n",
       "      <td>False</td>\n",
       "      <td>False</td>\n",
       "      <td>False</td>\n",
       "      <td>False</td>\n",
       "      <td>False</td>\n",
       "      <td>False</td>\n",
       "      <td>False</td>\n",
       "      <td>False</td>\n",
       "      <td>False</td>\n",
       "      <td>False</td>\n",
       "    </tr>\n",
       "    <tr>\n",
       "      <th>4</th>\n",
       "      <td>False</td>\n",
       "      <td>False</td>\n",
       "      <td>False</td>\n",
       "      <td>False</td>\n",
       "      <td>False</td>\n",
       "      <td>False</td>\n",
       "      <td>False</td>\n",
       "      <td>False</td>\n",
       "      <td>False</td>\n",
       "      <td>False</td>\n",
       "      <td>...</td>\n",
       "      <td>False</td>\n",
       "      <td>False</td>\n",
       "      <td>False</td>\n",
       "      <td>False</td>\n",
       "      <td>False</td>\n",
       "      <td>False</td>\n",
       "      <td>False</td>\n",
       "      <td>False</td>\n",
       "      <td>False</td>\n",
       "      <td>False</td>\n",
       "    </tr>\n",
       "  </tbody>\n",
       "</table>\n",
       "<p>5 rows × 39123 columns</p>\n",
       "</div>"
      ],
      "text/plain": [
       "   1      2      3      4      5      7      8      9      10     11     ...  \\\n",
       "0  False  False  False  False  False  False  False  False  False  False  ...   \n",
       "1  False  False  False  False  False  False  False  False  False  False  ...   \n",
       "2  False  False  False  False  False  False  False  False  False  False  ...   \n",
       "3  False  False  False  False  False  False  False  False  False  False  ...   \n",
       "4  False  False  False  False  False  False  False  False  False  False  ...   \n",
       "\n",
       "   49677  49678  49679  49680  49681  49682  49683  49686  49687  49688  \n",
       "0  False  False  False  False  False  False   True  False  False  False  \n",
       "1  False  False  False  False  False  False  False  False  False  False  \n",
       "2  False  False  False  False  False  False  False  False  False  False  \n",
       "3  False  False  False  False  False  False  False  False  False  False  \n",
       "4  False  False  False  False  False  False  False  False  False  False  \n",
       "\n",
       "[5 rows x 39123 columns]"
      ]
     },
     "execution_count": 8,
     "metadata": {},
     "output_type": "execute_result"
    }
   ],
   "source": [
    "# 구매 기록 데이터 -> One hot encoding 데이터\n",
    "from mlxtend.preprocessing import TransactionEncoder\n",
    "encoder = TransactionEncoder() # 인스턴스화\n",
    "one_hot_df = encoder.fit(product_list_per_order).transform(product_list_per_order) # 결과 : ndarray\n",
    "one_hot_df = pd.DataFrame(one_hot_df, columns = encoder.columns_)\n",
    "one_hot_df.head()"
   ]
  },
  {
   "cell_type": "code",
   "execution_count": 9,
   "metadata": {},
   "outputs": [],
   "source": [
    "from mlxtend.frequent_patterns import *\n",
    "frequent_item_df = apriori(one_hot_df, min_support = 0.003)\n",
    "result = association_rules(frequent_item_df, metric = 'confidence', min_threshold = 0.1)\n",
    "result[['antecedents', 'consequents', 'support', 'confidence']].sort_values(by = 'confidence', ascending = False).to_csv(\"연관규칙탐사결과.csv\", index = False)"
   ]
  },
  {
   "cell_type": "code",
   "execution_count": 10,
   "metadata": {},
   "outputs": [
    {
     "data": {
      "text/html": [
       "<div>\n",
       "<style scoped>\n",
       "    .dataframe tbody tr th:only-of-type {\n",
       "        vertical-align: middle;\n",
       "    }\n",
       "\n",
       "    .dataframe tbody tr th {\n",
       "        vertical-align: top;\n",
       "    }\n",
       "\n",
       "    .dataframe thead th {\n",
       "        text-align: right;\n",
       "    }\n",
       "</style>\n",
       "<table border=\"1\" class=\"dataframe\">\n",
       "  <thead>\n",
       "    <tr style=\"text-align: right;\">\n",
       "      <th></th>\n",
       "      <th>antecedents</th>\n",
       "      <th>consequents</th>\n",
       "      <th>antecedent support</th>\n",
       "      <th>consequent support</th>\n",
       "      <th>support</th>\n",
       "      <th>confidence</th>\n",
       "      <th>lift</th>\n",
       "      <th>leverage</th>\n",
       "      <th>conviction</th>\n",
       "    </tr>\n",
       "  </thead>\n",
       "  <tbody>\n",
       "    <tr>\n",
       "      <th>0</th>\n",
       "      <td>(12022)</td>\n",
       "      <td>(1815)</td>\n",
       "      <td>0.014206</td>\n",
       "      <td>0.008887</td>\n",
       "      <td>0.003018</td>\n",
       "      <td>0.212446</td>\n",
       "      <td>23.906409</td>\n",
       "      <td>0.002892</td>\n",
       "      <td>1.258471</td>\n",
       "    </tr>\n",
       "    <tr>\n",
       "      <th>1</th>\n",
       "      <td>(1815)</td>\n",
       "      <td>(12022)</td>\n",
       "      <td>0.008887</td>\n",
       "      <td>0.014206</td>\n",
       "      <td>0.003018</td>\n",
       "      <td>0.339623</td>\n",
       "      <td>23.906409</td>\n",
       "      <td>0.002892</td>\n",
       "      <td>1.492773</td>\n",
       "    </tr>\n",
       "    <tr>\n",
       "      <th>2</th>\n",
       "      <td>(3640)</td>\n",
       "      <td>(17300)</td>\n",
       "      <td>0.028672</td>\n",
       "      <td>0.074568</td>\n",
       "      <td>0.004146</td>\n",
       "      <td>0.144604</td>\n",
       "      <td>1.939221</td>\n",
       "      <td>0.002008</td>\n",
       "      <td>1.081875</td>\n",
       "    </tr>\n",
       "    <tr>\n",
       "      <th>3</th>\n",
       "      <td>(3640)</td>\n",
       "      <td>(19574)</td>\n",
       "      <td>0.028672</td>\n",
       "      <td>0.142719</td>\n",
       "      <td>0.008163</td>\n",
       "      <td>0.284689</td>\n",
       "      <td>1.994754</td>\n",
       "      <td>0.004071</td>\n",
       "      <td>1.198473</td>\n",
       "    </tr>\n",
       "    <tr>\n",
       "      <th>4</th>\n",
       "      <td>(3640)</td>\n",
       "      <td>(20648)</td>\n",
       "      <td>0.028672</td>\n",
       "      <td>0.045980</td>\n",
       "      <td>0.003780</td>\n",
       "      <td>0.131845</td>\n",
       "      <td>2.867432</td>\n",
       "      <td>0.002462</td>\n",
       "      <td>1.098905</td>\n",
       "    </tr>\n",
       "  </tbody>\n",
       "</table>\n",
       "</div>"
      ],
      "text/plain": [
       "  antecedents consequents  antecedent support  consequent support   support  \\\n",
       "0     (12022)      (1815)            0.014206            0.008887  0.003018   \n",
       "1      (1815)     (12022)            0.008887            0.014206  0.003018   \n",
       "2      (3640)     (17300)            0.028672            0.074568  0.004146   \n",
       "3      (3640)     (19574)            0.028672            0.142719  0.008163   \n",
       "4      (3640)     (20648)            0.028672            0.045980  0.003780   \n",
       "\n",
       "   confidence       lift  leverage  conviction  \n",
       "0    0.212446  23.906409  0.002892    1.258471  \n",
       "1    0.339623  23.906409  0.002892    1.492773  \n",
       "2    0.144604   1.939221  0.002008    1.081875  \n",
       "3    0.284689   1.994754  0.004071    1.198473  \n",
       "4    0.131845   2.867432  0.002462    1.098905  "
      ]
     },
     "execution_count": 10,
     "metadata": {},
     "output_type": "execute_result"
    }
   ],
   "source": [
    "result.head()"
   ]
  },
  {
   "cell_type": "code",
   "execution_count": 11,
   "metadata": {},
   "outputs": [
    {
     "data": {
      "text/plain": [
       "order_id\n",
       "1          [49302, 11109, 10246, 49683, 43633, 13176, 472...\n",
       "36         [39612, 19660, 49235, 43086, 46620, 34497, 486...\n",
       "38         [11913, 18159, 4461, 21616, 23622, 32433, 2884...\n",
       "96         [20574, 30391, 40706, 25610, 27966, 24489, 39275]\n",
       "98         [8859, 19731, 43654, 13176, 4357, 37664, 34065...\n",
       "                                 ...                        \n",
       "3421049           [40800, 17706, 33424, 17299, 26800, 34243]\n",
       "3421056                    [5750, 9340, 21709, 16475, 12432]\n",
       "3421058    [15629, 4347, 34466, 6244, 6858, 30316, 35578,...\n",
       "3421063                         [49235, 13565, 14233, 35548]\n",
       "3421070                                 [35951, 16953, 4724]\n",
       "Name: product_id, Length: 131209, dtype: object"
      ]
     },
     "execution_count": 11,
     "metadata": {},
     "output_type": "execute_result"
    }
   ],
   "source": [
    "product_list_per_order"
   ]
  },
  {
   "cell_type": "code",
   "execution_count": 1,
   "metadata": {},
   "outputs": [],
   "source": [
    "import os\n",
    "import numpy as np\n",
    "import pandas as pd\n",
    "os.chdir(r'C:\\Users\\신상훈\\Desktop\\preprocessing\\part-2.-탐색적-데이터-분석\\2. 탐색적 데이터 분석\\데이터')"
   ]
  },
  {
   "cell_type": "code",
   "execution_count": 2,
   "metadata": {},
   "outputs": [],
   "source": [
    "df = pd.read_csv(\"페이지내_사용자_이동.csv\", engine = \"python\")"
   ]
  },
  {
   "cell_type": "code",
   "execution_count": 3,
   "metadata": {},
   "outputs": [
    {
     "data": {
      "text/html": [
       "<div>\n",
       "<style scoped>\n",
       "    .dataframe tbody tr th:only-of-type {\n",
       "        vertical-align: middle;\n",
       "    }\n",
       "\n",
       "    .dataframe tbody tr th {\n",
       "        vertical-align: top;\n",
       "    }\n",
       "\n",
       "    .dataframe thead th {\n",
       "        text-align: right;\n",
       "    }\n",
       "</style>\n",
       "<table border=\"1\" class=\"dataframe\">\n",
       "  <thead>\n",
       "    <tr style=\"text-align: right;\">\n",
       "      <th></th>\n",
       "      <th>고객ID</th>\n",
       "      <th>방문 페이지</th>\n",
       "      <th>순서</th>\n",
       "    </tr>\n",
       "  </thead>\n",
       "  <tbody>\n",
       "    <tr>\n",
       "      <th>0</th>\n",
       "      <td>0</td>\n",
       "      <td>페이지C</td>\n",
       "      <td>1</td>\n",
       "    </tr>\n",
       "    <tr>\n",
       "      <th>1</th>\n",
       "      <td>0</td>\n",
       "      <td>페이지E</td>\n",
       "      <td>2</td>\n",
       "    </tr>\n",
       "    <tr>\n",
       "      <th>2</th>\n",
       "      <td>0</td>\n",
       "      <td>페이지B</td>\n",
       "      <td>3</td>\n",
       "    </tr>\n",
       "    <tr>\n",
       "      <th>3</th>\n",
       "      <td>0</td>\n",
       "      <td>페이지F</td>\n",
       "      <td>4</td>\n",
       "    </tr>\n",
       "    <tr>\n",
       "      <th>4</th>\n",
       "      <td>0</td>\n",
       "      <td>페이지C</td>\n",
       "      <td>5</td>\n",
       "    </tr>\n",
       "  </tbody>\n",
       "</table>\n",
       "</div>"
      ],
      "text/plain": [
       "   고객ID 방문 페이지  순서\n",
       "0     0   페이지C   1\n",
       "1     0   페이지E   2\n",
       "2     0   페이지B   3\n",
       "3     0   페이지F   4\n",
       "4     0   페이지C   5"
      ]
     },
     "execution_count": 3,
     "metadata": {},
     "output_type": "execute_result"
    }
   ],
   "source": [
    "df.head()"
   ]
  },
  {
   "cell_type": "code",
   "execution_count": 4,
   "metadata": {},
   "outputs": [],
   "source": [
    "# 주문별 카트에 추가한 순서를 고려하기 위해, 정렬이 필요\n",
    "df.sort_values(by=['고객ID','순서'], inplace = True)"
   ]
  },
  {
   "cell_type": "code",
   "execution_count": 5,
   "metadata": {},
   "outputs": [
    {
     "data": {
      "text/plain": [
       "array(['페이지C', '페이지E', '페이지B', '페이지F', '페이지D', '페이지J', '메인', '페이지G',\n",
       "       '페이지A', '페이지I'], dtype=object)"
      ]
     },
     "execution_count": 5,
     "metadata": {},
     "output_type": "execute_result"
    }
   ],
   "source": [
    "page_set = df['방문 페이지'].unique()\n",
    "page_set[:10]"
   ]
  },
  {
   "cell_type": "code",
   "execution_count": 6,
   "metadata": {},
   "outputs": [],
   "source": [
    "page_sequence_per_order = df.groupby('고객ID')['방문 페이지'].apply(np.array)"
   ]
  },
  {
   "cell_type": "code",
   "execution_count": 7,
   "metadata": {},
   "outputs": [
    {
     "data": {
      "text/plain": [
       "고객ID\n",
       "0    [페이지C, 페이지E, 페이지B, 페이지F, 페이지C, 페이지D, 페이지J, 메인,...\n",
       "1    [페이지B, 메인, 메인, 페이지A, 페이지F, 페이지C, 페이지I, 페이지E, 페...\n",
       "2    [페이지F, 페이지J, 페이지D, 페이지G, 페이지C, 메인, 페이지I, 페이지J,...\n",
       "3    [페이지I, 페이지I, 페이지J, 페이지J, 페이지C, 페이지A, 페이지H, 페이지...\n",
       "4    [페이지J, 페이지H, 페이지G, 페이지G, 페이지E, 페이지C, 페이지A, 페이지...\n",
       "Name: 방문 페이지, dtype: object"
      ]
     },
     "execution_count": 7,
     "metadata": {},
     "output_type": "execute_result"
    }
   ],
   "source": [
    "page_sequence_per_order.head()"
   ]
  },
  {
   "cell_type": "code",
   "execution_count": null,
   "metadata": {},
   "outputs": [],
   "source": []
  }
 ],
 "metadata": {
  "kernelspec": {
   "display_name": "Python 3",
   "language": "python",
   "name": "python3"
  },
  "language_info": {
   "codemirror_mode": {
    "name": "ipython",
    "version": 3
   },
   "file_extension": ".py",
   "mimetype": "text/x-python",
   "name": "python",
   "nbconvert_exporter": "python",
   "pygments_lexer": "ipython3",
   "version": "3.8.3"
  }
 },
 "nbformat": 4,
 "nbformat_minor": 4
}
