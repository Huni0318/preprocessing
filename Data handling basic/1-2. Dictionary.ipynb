{
 "cells": [
  {
   "cell_type": "markdown",
   "metadata": {},
   "source": [
    "- 사전(dictionary)란 키(key)와 값(value)쌍으로 이루어진 해시 테이블(hash table)\n",
    "\n",
    "| key | value |\n",
    "|------|------|\n",
    "| key1 | value1 |\n",
    "| key2 | value2 |                      \n",
    "| key3 | value3 |\n",
    "| key4 | value4 |\n",
    "> <----> {key1: value1, key2: value2, key3: value3, key4: value4}"
   ]
  },
  {
   "cell_type": "code",
   "execution_count": 7,
   "metadata": {},
   "outputs": [
    {
     "name": "stdout",
     "output_type": "stream",
     "text": [
      "1\n"
     ]
    }
   ],
   "source": [
    "# 사전 생성하기\n",
    "dic = {1:1, 2:4, 3:9, 4:16}\n",
    "print(dic[1]) # 사전 요소 접근하기"
   ]
  },
  {
   "cell_type": "code",
   "execution_count": 8,
   "metadata": {},
   "outputs": [
    {
     "data": {
      "text/plain": [
       "4"
      ]
     },
     "execution_count": 8,
     "metadata": {},
     "output_type": "execute_result"
    }
   ],
   "source": [
    "dic[2]"
   ]
  },
  {
   "cell_type": "code",
   "execution_count": 9,
   "metadata": {},
   "outputs": [
    {
     "name": "stdout",
     "output_type": "stream",
     "text": [
      "20\n"
     ]
    }
   ],
   "source": [
    "dic[5] = 20 # 새로운 요소 추가\n",
    "print(dic[5])"
   ]
  },
  {
   "cell_type": "code",
   "execution_count": 10,
   "metadata": {},
   "outputs": [
    {
     "data": {
      "text/plain": [
       "{1: 1, 2: 4, 3: 9, 4: 16, 5: 20}"
      ]
     },
     "execution_count": 10,
     "metadata": {},
     "output_type": "execute_result"
    }
   ],
   "source": [
    "dic"
   ]
  },
  {
   "cell_type": "code",
   "execution_count": 11,
   "metadata": {},
   "outputs": [
    {
     "name": "stdout",
     "output_type": "stream",
     "text": [
      "dict_keys([1, 2, 3, 4, 5])\n",
      "dict_values([1, 4, 9, 16, 20])\n",
      "dict_items([(1, 1), (2, 4), (3, 9), (4, 16), (5, 20)])\n"
     ]
    }
   ],
   "source": [
    "# 사전 관련 함수: 요소 확인하기\n",
    "print(dic.keys())\n",
    "print(dic.values())\n",
    "print(dic.items())"
   ]
  },
  {
   "cell_type": "code",
   "execution_count": 15,
   "metadata": {},
   "outputs": [
    {
     "name": "stdout",
     "output_type": "stream",
     "text": [
      "[1, 2, 3, 4, 5]\n",
      "[1, 4, 9, 16, 20]\n",
      "[(1, 1), (2, 4), (3, 9), (4, 16), (5, 20)]\n"
     ]
    }
   ],
   "source": [
    "# list형태로 바꿀수 있다\n",
    "print(list(dic.keys()))\n",
    "print(list(dic.values()))\n",
    "print(list(dic.items()))"
   ]
  },
  {
   "cell_type": "code",
   "execution_count": 16,
   "metadata": {},
   "outputs": [
    {
     "name": "stdout",
     "output_type": "stream",
     "text": [
      "1 1\n",
      "2 4\n",
      "3 9\n",
      "4 16\n",
      "5 20\n"
     ]
    }
   ],
   "source": [
    "# 순회 예시\n",
    "for key, val in dic.items():\n",
    "    print(key, val)"
   ]
  },
  {
   "cell_type": "code",
   "execution_count": 17,
   "metadata": {},
   "outputs": [
    {
     "name": "stdout",
     "output_type": "stream",
     "text": [
      "{1: 0.5, 2: 2.0, 3: 4.5, 4: 8.0, 5: 10.0}\n"
     ]
    }
   ],
   "source": [
    "# 값 변경 예시\n",
    "for key in dic.keys():\n",
    "    dic[key] = dic[key] * 0.5\n",
    "\n",
    "print(dic)"
   ]
  }
 ],
 "metadata": {
  "kernelspec": {
   "display_name": "Python 3",
   "language": "python",
   "name": "python3"
  },
  "language_info": {
   "codemirror_mode": {
    "name": "ipython",
    "version": 3
   },
   "file_extension": ".py",
   "mimetype": "text/x-python",
   "name": "python",
   "nbconvert_exporter": "python",
   "pygments_lexer": "ipython3",
   "version": "3.8.3"
  }
 },
 "nbformat": 4,
 "nbformat_minor": 4
}
