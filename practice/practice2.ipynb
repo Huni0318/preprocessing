{
 "cells": [
  {
   "cell_type": "code",
   "execution_count": 1,
   "metadata": {},
   "outputs": [],
   "source": [
    "import os\n",
    "import pandas as pd\n",
    "os.chdir(r'C:\\Users\\신상훈\\Desktop\\preprocessing\\part-1.-데이터-핸들링\\1. 데이터 핸들링\\데이터')"
   ]
  },
  {
   "cell_type": "code",
   "execution_count": 2,
   "metadata": {},
   "outputs": [],
   "source": [
    "df = pd.read_csv('온라인_판매기록.csv',engine = 'python')"
   ]
  },
  {
   "cell_type": "code",
   "execution_count": 3,
   "metadata": {},
   "outputs": [
    {
     "data": {
      "text/html": [
       "<div>\n",
       "<style scoped>\n",
       "    .dataframe tbody tr th:only-of-type {\n",
       "        vertical-align: middle;\n",
       "    }\n",
       "\n",
       "    .dataframe tbody tr th {\n",
       "        vertical-align: top;\n",
       "    }\n",
       "\n",
       "    .dataframe thead th {\n",
       "        text-align: right;\n",
       "    }\n",
       "</style>\n",
       "<table border=\"1\" class=\"dataframe\">\n",
       "  <thead>\n",
       "    <tr style=\"text-align: right;\">\n",
       "      <th></th>\n",
       "      <th>쇼핑몰</th>\n",
       "      <th>제품</th>\n",
       "      <th>수량</th>\n",
       "      <th>판매금액</th>\n",
       "      <th>쇼핑몰 유형</th>\n",
       "    </tr>\n",
       "  </thead>\n",
       "  <tbody>\n",
       "    <tr>\n",
       "      <th>0</th>\n",
       "      <td>쿠팡</td>\n",
       "      <td>제품_16</td>\n",
       "      <td>8</td>\n",
       "      <td>1134400</td>\n",
       "      <td>쿠팡</td>\n",
       "    </tr>\n",
       "    <tr>\n",
       "      <th>1</th>\n",
       "      <td>쿠팡</td>\n",
       "      <td>제품_57</td>\n",
       "      <td>8</td>\n",
       "      <td>439200</td>\n",
       "      <td>쿠팡</td>\n",
       "    </tr>\n",
       "    <tr>\n",
       "      <th>2</th>\n",
       "      <td>쿠팡</td>\n",
       "      <td>제품_25</td>\n",
       "      <td>4</td>\n",
       "      <td>495200</td>\n",
       "      <td>쿠팡</td>\n",
       "    </tr>\n",
       "    <tr>\n",
       "      <th>3</th>\n",
       "      <td>쿠팡</td>\n",
       "      <td>제품_18</td>\n",
       "      <td>4</td>\n",
       "      <td>578000</td>\n",
       "      <td>쿠팡</td>\n",
       "    </tr>\n",
       "    <tr>\n",
       "      <th>4</th>\n",
       "      <td>쿠팡</td>\n",
       "      <td>제품_90</td>\n",
       "      <td>2</td>\n",
       "      <td>75000</td>\n",
       "      <td>쿠팡</td>\n",
       "    </tr>\n",
       "  </tbody>\n",
       "</table>\n",
       "</div>"
      ],
      "text/plain": [
       "  쇼핑몰     제품  수량     판매금액 쇼핑몰 유형\n",
       "0  쿠팡  제품_16   8  1134400     쿠팡\n",
       "1  쿠팡  제품_57   8   439200     쿠팡\n",
       "2  쿠팡  제품_25   4   495200     쿠팡\n",
       "3  쿠팡  제품_18   4   578000     쿠팡\n",
       "4  쿠팡  제품_90   2    75000     쿠팡"
      ]
     },
     "execution_count": 3,
     "metadata": {},
     "output_type": "execute_result"
    }
   ],
   "source": [
    "df.head()"
   ]
  },
  {
   "cell_type": "code",
   "execution_count": 4,
   "metadata": {},
   "outputs": [
    {
     "data": {
      "text/plain": [
       "수량           5.502837\n",
       "판매금액    448851.831470\n",
       "dtype: float64"
      ]
     },
     "execution_count": 4,
     "metadata": {},
     "output_type": "execute_result"
    }
   ],
   "source": [
    "df[['수량','판매금액']].mean()"
   ]
  },
  {
   "cell_type": "code",
   "execution_count": 5,
   "metadata": {},
   "outputs": [
    {
     "data": {
      "text/plain": [
       "수량          2.0\n",
       "판매금액    79700.0\n",
       "Name: 0.1, dtype: float64"
      ]
     },
     "execution_count": 5,
     "metadata": {},
     "output_type": "execute_result"
    }
   ],
   "source": [
    "df[['수량','판매금액']].quantile(0.1)"
   ]
  },
  {
   "cell_type": "code",
   "execution_count": 7,
   "metadata": {},
   "outputs": [
    {
     "data": {
      "text/html": [
       "<div>\n",
       "<style scoped>\n",
       "    .dataframe tbody tr th:only-of-type {\n",
       "        vertical-align: middle;\n",
       "    }\n",
       "\n",
       "    .dataframe tbody tr th {\n",
       "        vertical-align: top;\n",
       "    }\n",
       "\n",
       "    .dataframe thead th {\n",
       "        text-align: right;\n",
       "    }\n",
       "</style>\n",
       "<table border=\"1\" class=\"dataframe\">\n",
       "  <thead>\n",
       "    <tr style=\"text-align: right;\">\n",
       "      <th></th>\n",
       "      <th>count</th>\n",
       "      <th>mean</th>\n",
       "      <th>std</th>\n",
       "      <th>min</th>\n",
       "      <th>25%</th>\n",
       "      <th>50%</th>\n",
       "      <th>75%</th>\n",
       "      <th>max</th>\n",
       "    </tr>\n",
       "  </thead>\n",
       "  <tbody>\n",
       "    <tr>\n",
       "      <th>수량</th>\n",
       "      <td>5815.0</td>\n",
       "      <td>5.502837</td>\n",
       "      <td>2.867373</td>\n",
       "      <td>1.0</td>\n",
       "      <td>3.0</td>\n",
       "      <td>6.0</td>\n",
       "      <td>8.0</td>\n",
       "      <td>10.0</td>\n",
       "    </tr>\n",
       "    <tr>\n",
       "      <th>판매금액</th>\n",
       "      <td>5815.0</td>\n",
       "      <td>448851.831470</td>\n",
       "      <td>349121.909542</td>\n",
       "      <td>10100.0</td>\n",
       "      <td>152800.0</td>\n",
       "      <td>358400.0</td>\n",
       "      <td>667800.0</td>\n",
       "      <td>1533000.0</td>\n",
       "    </tr>\n",
       "  </tbody>\n",
       "</table>\n",
       "</div>"
      ],
      "text/plain": [
       "       count           mean            std      min       25%       50%  \\\n",
       "수량    5815.0       5.502837       2.867373      1.0       3.0       6.0   \n",
       "판매금액  5815.0  448851.831470  349121.909542  10100.0  152800.0  358400.0   \n",
       "\n",
       "           75%        max  \n",
       "수량         8.0       10.0  \n",
       "판매금액  667800.0  1533000.0  "
      ]
     },
     "execution_count": 7,
     "metadata": {},
     "output_type": "execute_result"
    }
   ],
   "source": [
    "df[['수량','판매금액']].describe().T"
   ]
  },
  {
   "cell_type": "code",
   "execution_count": 8,
   "metadata": {},
   "outputs": [
    {
     "data": {
      "text/html": [
       "<div>\n",
       "<style scoped>\n",
       "    .dataframe tbody tr th:only-of-type {\n",
       "        vertical-align: middle;\n",
       "    }\n",
       "\n",
       "    .dataframe tbody tr th {\n",
       "        vertical-align: top;\n",
       "    }\n",
       "\n",
       "    .dataframe thead th {\n",
       "        text-align: right;\n",
       "    }\n",
       "</style>\n",
       "<table border=\"1\" class=\"dataframe\">\n",
       "  <thead>\n",
       "    <tr style=\"text-align: right;\">\n",
       "      <th></th>\n",
       "      <th>쇼핑몰</th>\n",
       "      <th>제품</th>\n",
       "      <th>수량</th>\n",
       "      <th>판매금액</th>\n",
       "      <th>쇼핑몰 유형</th>\n",
       "    </tr>\n",
       "  </thead>\n",
       "  <tbody>\n",
       "    <tr>\n",
       "      <th>0</th>\n",
       "      <td>쿠팡</td>\n",
       "      <td>제품_16</td>\n",
       "      <td>8</td>\n",
       "      <td>1134400</td>\n",
       "      <td>쿠팡</td>\n",
       "    </tr>\n",
       "    <tr>\n",
       "      <th>1</th>\n",
       "      <td>쿠팡</td>\n",
       "      <td>제품_57</td>\n",
       "      <td>8</td>\n",
       "      <td>439200</td>\n",
       "      <td>쿠팡</td>\n",
       "    </tr>\n",
       "    <tr>\n",
       "      <th>2</th>\n",
       "      <td>쿠팡</td>\n",
       "      <td>제품_25</td>\n",
       "      <td>4</td>\n",
       "      <td>495200</td>\n",
       "      <td>쿠팡</td>\n",
       "    </tr>\n",
       "    <tr>\n",
       "      <th>3</th>\n",
       "      <td>쿠팡</td>\n",
       "      <td>제품_18</td>\n",
       "      <td>4</td>\n",
       "      <td>578000</td>\n",
       "      <td>쿠팡</td>\n",
       "    </tr>\n",
       "    <tr>\n",
       "      <th>4</th>\n",
       "      <td>쿠팡</td>\n",
       "      <td>제품_90</td>\n",
       "      <td>2</td>\n",
       "      <td>75000</td>\n",
       "      <td>쿠팡</td>\n",
       "    </tr>\n",
       "  </tbody>\n",
       "</table>\n",
       "</div>"
      ],
      "text/plain": [
       "  쇼핑몰     제품  수량     판매금액 쇼핑몰 유형\n",
       "0  쿠팡  제품_16   8  1134400     쿠팡\n",
       "1  쿠팡  제품_57   8   439200     쿠팡\n",
       "2  쿠팡  제품_25   4   495200     쿠팡\n",
       "3  쿠팡  제품_18   4   578000     쿠팡\n",
       "4  쿠팡  제품_90   2    75000     쿠팡"
      ]
     },
     "execution_count": 8,
     "metadata": {},
     "output_type": "execute_result"
    }
   ],
   "source": [
    "df.head()"
   ]
  },
  {
   "cell_type": "code",
   "execution_count": 9,
   "metadata": {},
   "outputs": [
    {
     "data": {
      "text/html": [
       "<div>\n",
       "<style scoped>\n",
       "    .dataframe tbody tr th:only-of-type {\n",
       "        vertical-align: middle;\n",
       "    }\n",
       "\n",
       "    .dataframe tbody tr th {\n",
       "        vertical-align: top;\n",
       "    }\n",
       "\n",
       "    .dataframe thead th {\n",
       "        text-align: right;\n",
       "    }\n",
       "</style>\n",
       "<table border=\"1\" class=\"dataframe\">\n",
       "  <thead>\n",
       "    <tr style=\"text-align: right;\">\n",
       "      <th>쇼핑몰 유형</th>\n",
       "      <th>동물병원</th>\n",
       "      <th>온라인II</th>\n",
       "      <th>온라인사이트</th>\n",
       "      <th>유통대리점</th>\n",
       "      <th>전시회</th>\n",
       "      <th>쿠팡</th>\n",
       "      <th>할인점</th>\n",
       "      <th>할인점II</th>\n",
       "    </tr>\n",
       "    <tr>\n",
       "      <th>제품</th>\n",
       "      <th></th>\n",
       "      <th></th>\n",
       "      <th></th>\n",
       "      <th></th>\n",
       "      <th></th>\n",
       "      <th></th>\n",
       "      <th></th>\n",
       "      <th></th>\n",
       "    </tr>\n",
       "  </thead>\n",
       "  <tbody>\n",
       "    <tr>\n",
       "      <th>제품_01</th>\n",
       "      <td>463600.000000</td>\n",
       "      <td>483120.000000</td>\n",
       "      <td>395280.000000</td>\n",
       "      <td>390400.000000</td>\n",
       "      <td>366000.000000</td>\n",
       "      <td>439200.000000</td>\n",
       "      <td>146400.0</td>\n",
       "      <td>366000.0</td>\n",
       "    </tr>\n",
       "    <tr>\n",
       "      <th>제품_02</th>\n",
       "      <td>79920.000000</td>\n",
       "      <td>108000.000000</td>\n",
       "      <td>64800.000000</td>\n",
       "      <td>89100.000000</td>\n",
       "      <td>145800.000000</td>\n",
       "      <td>97200.000000</td>\n",
       "      <td>72900.0</td>\n",
       "      <td>NaN</td>\n",
       "    </tr>\n",
       "    <tr>\n",
       "      <th>제품_03</th>\n",
       "      <td>229712.500000</td>\n",
       "      <td>247633.333333</td>\n",
       "      <td>228584.615385</td>\n",
       "      <td>166175.000000</td>\n",
       "      <td>263925.000000</td>\n",
       "      <td>209718.181818</td>\n",
       "      <td>140760.0</td>\n",
       "      <td>NaN</td>\n",
       "    </tr>\n",
       "    <tr>\n",
       "      <th>제품_04</th>\n",
       "      <td>226843.750000</td>\n",
       "      <td>277550.000000</td>\n",
       "      <td>258711.764706</td>\n",
       "      <td>261537.500000</td>\n",
       "      <td>181475.000000</td>\n",
       "      <td>195708.333333</td>\n",
       "      <td>170800.0</td>\n",
       "      <td>128100.0</td>\n",
       "    </tr>\n",
       "    <tr>\n",
       "      <th>제품_05</th>\n",
       "      <td>774720.000000</td>\n",
       "      <td>792327.272727</td>\n",
       "      <td>667120.000000</td>\n",
       "      <td>847350.000000</td>\n",
       "      <td>376600.000000</td>\n",
       "      <td>670917.647059</td>\n",
       "      <td>538000.0</td>\n",
       "      <td>NaN</td>\n",
       "    </tr>\n",
       "    <tr>\n",
       "      <th>...</th>\n",
       "      <td>...</td>\n",
       "      <td>...</td>\n",
       "      <td>...</td>\n",
       "      <td>...</td>\n",
       "      <td>...</td>\n",
       "      <td>...</td>\n",
       "      <td>...</td>\n",
       "      <td>...</td>\n",
       "    </tr>\n",
       "    <tr>\n",
       "      <th>제품_95</th>\n",
       "      <td>561346.153846</td>\n",
       "      <td>540555.555556</td>\n",
       "      <td>495345.454545</td>\n",
       "      <td>472600.000000</td>\n",
       "      <td>632450.000000</td>\n",
       "      <td>456093.750000</td>\n",
       "      <td>608125.0</td>\n",
       "      <td>389200.0</td>\n",
       "    </tr>\n",
       "    <tr>\n",
       "      <th>제품_96</th>\n",
       "      <td>436666.666667</td>\n",
       "      <td>385140.000000</td>\n",
       "      <td>445400.000000</td>\n",
       "      <td>314400.000000</td>\n",
       "      <td>510900.000000</td>\n",
       "      <td>377280.000000</td>\n",
       "      <td>510900.0</td>\n",
       "      <td>NaN</td>\n",
       "    </tr>\n",
       "    <tr>\n",
       "      <th>제품_97</th>\n",
       "      <td>466020.000000</td>\n",
       "      <td>582525.000000</td>\n",
       "      <td>443828.571429</td>\n",
       "      <td>383555.555556</td>\n",
       "      <td>373966.666667</td>\n",
       "      <td>431500.000000</td>\n",
       "      <td>345200.0</td>\n",
       "      <td>776700.0</td>\n",
       "    </tr>\n",
       "    <tr>\n",
       "      <th>제품_98</th>\n",
       "      <td>578100.000000</td>\n",
       "      <td>492000.000000</td>\n",
       "      <td>524800.000000</td>\n",
       "      <td>492000.000000</td>\n",
       "      <td>664200.000000</td>\n",
       "      <td>605538.461538</td>\n",
       "      <td>885600.0</td>\n",
       "      <td>688800.0</td>\n",
       "    </tr>\n",
       "    <tr>\n",
       "      <th>제품_99</th>\n",
       "      <td>88554.545455</td>\n",
       "      <td>120966.666667</td>\n",
       "      <td>114600.000000</td>\n",
       "      <td>87860.000000</td>\n",
       "      <td>66850.000000</td>\n",
       "      <td>76400.000000</td>\n",
       "      <td>85950.0</td>\n",
       "      <td>114600.0</td>\n",
       "    </tr>\n",
       "  </tbody>\n",
       "</table>\n",
       "<p>100 rows × 8 columns</p>\n",
       "</div>"
      ],
      "text/plain": [
       "쇼핑몰 유형           동물병원          온라인II         온라인사이트          유통대리점  \\\n",
       "제품                                                                   \n",
       "제품_01   463600.000000  483120.000000  395280.000000  390400.000000   \n",
       "제품_02    79920.000000  108000.000000   64800.000000   89100.000000   \n",
       "제품_03   229712.500000  247633.333333  228584.615385  166175.000000   \n",
       "제품_04   226843.750000  277550.000000  258711.764706  261537.500000   \n",
       "제품_05   774720.000000  792327.272727  667120.000000  847350.000000   \n",
       "...               ...            ...            ...            ...   \n",
       "제품_95   561346.153846  540555.555556  495345.454545  472600.000000   \n",
       "제품_96   436666.666667  385140.000000  445400.000000  314400.000000   \n",
       "제품_97   466020.000000  582525.000000  443828.571429  383555.555556   \n",
       "제품_98   578100.000000  492000.000000  524800.000000  492000.000000   \n",
       "제품_99    88554.545455  120966.666667  114600.000000   87860.000000   \n",
       "\n",
       "쇼핑몰 유형            전시회             쿠팡       할인점     할인점II  \n",
       "제품                                                        \n",
       "제품_01   366000.000000  439200.000000  146400.0  366000.0  \n",
       "제품_02   145800.000000   97200.000000   72900.0       NaN  \n",
       "제품_03   263925.000000  209718.181818  140760.0       NaN  \n",
       "제품_04   181475.000000  195708.333333  170800.0  128100.0  \n",
       "제품_05   376600.000000  670917.647059  538000.0       NaN  \n",
       "...               ...            ...       ...       ...  \n",
       "제품_95   632450.000000  456093.750000  608125.0  389200.0  \n",
       "제품_96   510900.000000  377280.000000  510900.0       NaN  \n",
       "제품_97   373966.666667  431500.000000  345200.0  776700.0  \n",
       "제품_98   664200.000000  605538.461538  885600.0  688800.0  \n",
       "제품_99    66850.000000   76400.000000   85950.0  114600.0  \n",
       "\n",
       "[100 rows x 8 columns]"
      ]
     },
     "execution_count": 9,
     "metadata": {},
     "output_type": "execute_result"
    }
   ],
   "source": [
    "pt1 = pd.pivot_table(df, index = '제품',columns = '쇼핑몰 유형',values = '판매금액',aggfunc = 'mean')\n",
    "pt1"
   ]
  },
  {
   "cell_type": "code",
   "execution_count": 11,
   "metadata": {},
   "outputs": [
    {
     "data": {
      "text/html": [
       "<div>\n",
       "<style scoped>\n",
       "    .dataframe tbody tr th:only-of-type {\n",
       "        vertical-align: middle;\n",
       "    }\n",
       "\n",
       "    .dataframe tbody tr th {\n",
       "        vertical-align: top;\n",
       "    }\n",
       "\n",
       "    .dataframe thead tr th {\n",
       "        text-align: left;\n",
       "    }\n",
       "\n",
       "    .dataframe thead tr:last-of-type th {\n",
       "        text-align: right;\n",
       "    }\n",
       "</style>\n",
       "<table border=\"1\" class=\"dataframe\">\n",
       "  <thead>\n",
       "    <tr>\n",
       "      <th></th>\n",
       "      <th colspan=\"8\" halign=\"left\">수량</th>\n",
       "      <th colspan=\"8\" halign=\"left\">판매금액</th>\n",
       "    </tr>\n",
       "    <tr>\n",
       "      <th>쇼핑몰 유형</th>\n",
       "      <th>동물병원</th>\n",
       "      <th>온라인II</th>\n",
       "      <th>온라인사이트</th>\n",
       "      <th>유통대리점</th>\n",
       "      <th>전시회</th>\n",
       "      <th>쿠팡</th>\n",
       "      <th>할인점</th>\n",
       "      <th>할인점II</th>\n",
       "      <th>동물병원</th>\n",
       "      <th>온라인II</th>\n",
       "      <th>온라인사이트</th>\n",
       "      <th>유통대리점</th>\n",
       "      <th>전시회</th>\n",
       "      <th>쿠팡</th>\n",
       "      <th>할인점</th>\n",
       "      <th>할인점II</th>\n",
       "    </tr>\n",
       "    <tr>\n",
       "      <th>제품</th>\n",
       "      <th></th>\n",
       "      <th></th>\n",
       "      <th></th>\n",
       "      <th></th>\n",
       "      <th></th>\n",
       "      <th></th>\n",
       "      <th></th>\n",
       "      <th></th>\n",
       "      <th></th>\n",
       "      <th></th>\n",
       "      <th></th>\n",
       "      <th></th>\n",
       "      <th></th>\n",
       "      <th></th>\n",
       "      <th></th>\n",
       "      <th></th>\n",
       "    </tr>\n",
       "  </thead>\n",
       "  <tbody>\n",
       "    <tr>\n",
       "      <th>제품_01</th>\n",
       "      <td>10.0</td>\n",
       "      <td>8.0</td>\n",
       "      <td>10.0</td>\n",
       "      <td>10.0</td>\n",
       "      <td>7.0</td>\n",
       "      <td>10.0</td>\n",
       "      <td>3.0</td>\n",
       "      <td>8.0</td>\n",
       "      <td>732000.0</td>\n",
       "      <td>585600.0</td>\n",
       "      <td>732000.0</td>\n",
       "      <td>732000.0</td>\n",
       "      <td>512400.0</td>\n",
       "      <td>732000.0</td>\n",
       "      <td>219600.0</td>\n",
       "      <td>585600.0</td>\n",
       "    </tr>\n",
       "    <tr>\n",
       "      <th>제품_02</th>\n",
       "      <td>9.0</td>\n",
       "      <td>10.0</td>\n",
       "      <td>10.0</td>\n",
       "      <td>8.0</td>\n",
       "      <td>9.0</td>\n",
       "      <td>9.0</td>\n",
       "      <td>5.0</td>\n",
       "      <td>NaN</td>\n",
       "      <td>145800.0</td>\n",
       "      <td>162000.0</td>\n",
       "      <td>162000.0</td>\n",
       "      <td>129600.0</td>\n",
       "      <td>145800.0</td>\n",
       "      <td>145800.0</td>\n",
       "      <td>81000.0</td>\n",
       "      <td>NaN</td>\n",
       "    </tr>\n",
       "    <tr>\n",
       "      <th>제품_03</th>\n",
       "      <td>10.0</td>\n",
       "      <td>10.0</td>\n",
       "      <td>10.0</td>\n",
       "      <td>9.0</td>\n",
       "      <td>10.0</td>\n",
       "      <td>8.0</td>\n",
       "      <td>7.0</td>\n",
       "      <td>NaN</td>\n",
       "      <td>391000.0</td>\n",
       "      <td>391000.0</td>\n",
       "      <td>391000.0</td>\n",
       "      <td>351900.0</td>\n",
       "      <td>391000.0</td>\n",
       "      <td>312800.0</td>\n",
       "      <td>273700.0</td>\n",
       "      <td>NaN</td>\n",
       "    </tr>\n",
       "    <tr>\n",
       "      <th>제품_04</th>\n",
       "      <td>10.0</td>\n",
       "      <td>10.0</td>\n",
       "      <td>10.0</td>\n",
       "      <td>10.0</td>\n",
       "      <td>10.0</td>\n",
       "      <td>9.0</td>\n",
       "      <td>6.0</td>\n",
       "      <td>3.0</td>\n",
       "      <td>427000.0</td>\n",
       "      <td>427000.0</td>\n",
       "      <td>427000.0</td>\n",
       "      <td>427000.0</td>\n",
       "      <td>427000.0</td>\n",
       "      <td>384300.0</td>\n",
       "      <td>256200.0</td>\n",
       "      <td>128100.0</td>\n",
       "    </tr>\n",
       "    <tr>\n",
       "      <th>제품_05</th>\n",
       "      <td>10.0</td>\n",
       "      <td>10.0</td>\n",
       "      <td>10.0</td>\n",
       "      <td>10.0</td>\n",
       "      <td>4.0</td>\n",
       "      <td>10.0</td>\n",
       "      <td>5.0</td>\n",
       "      <td>NaN</td>\n",
       "      <td>1076000.0</td>\n",
       "      <td>1076000.0</td>\n",
       "      <td>1076000.0</td>\n",
       "      <td>1076000.0</td>\n",
       "      <td>430400.0</td>\n",
       "      <td>1076000.0</td>\n",
       "      <td>538000.0</td>\n",
       "      <td>NaN</td>\n",
       "    </tr>\n",
       "    <tr>\n",
       "      <th>...</th>\n",
       "      <td>...</td>\n",
       "      <td>...</td>\n",
       "      <td>...</td>\n",
       "      <td>...</td>\n",
       "      <td>...</td>\n",
       "      <td>...</td>\n",
       "      <td>...</td>\n",
       "      <td>...</td>\n",
       "      <td>...</td>\n",
       "      <td>...</td>\n",
       "      <td>...</td>\n",
       "      <td>...</td>\n",
       "      <td>...</td>\n",
       "      <td>...</td>\n",
       "      <td>...</td>\n",
       "      <td>...</td>\n",
       "    </tr>\n",
       "    <tr>\n",
       "      <th>제품_95</th>\n",
       "      <td>10.0</td>\n",
       "      <td>10.0</td>\n",
       "      <td>10.0</td>\n",
       "      <td>8.0</td>\n",
       "      <td>9.0</td>\n",
       "      <td>9.0</td>\n",
       "      <td>9.0</td>\n",
       "      <td>5.0</td>\n",
       "      <td>973000.0</td>\n",
       "      <td>973000.0</td>\n",
       "      <td>973000.0</td>\n",
       "      <td>778400.0</td>\n",
       "      <td>875700.0</td>\n",
       "      <td>875700.0</td>\n",
       "      <td>875700.0</td>\n",
       "      <td>486500.0</td>\n",
       "    </tr>\n",
       "    <tr>\n",
       "      <th>제품_96</th>\n",
       "      <td>10.0</td>\n",
       "      <td>10.0</td>\n",
       "      <td>10.0</td>\n",
       "      <td>10.0</td>\n",
       "      <td>8.0</td>\n",
       "      <td>10.0</td>\n",
       "      <td>7.0</td>\n",
       "      <td>NaN</td>\n",
       "      <td>786000.0</td>\n",
       "      <td>786000.0</td>\n",
       "      <td>786000.0</td>\n",
       "      <td>786000.0</td>\n",
       "      <td>628800.0</td>\n",
       "      <td>786000.0</td>\n",
       "      <td>550200.0</td>\n",
       "      <td>NaN</td>\n",
       "    </tr>\n",
       "    <tr>\n",
       "      <th>제품_97</th>\n",
       "      <td>9.0</td>\n",
       "      <td>10.0</td>\n",
       "      <td>6.0</td>\n",
       "      <td>10.0</td>\n",
       "      <td>8.0</td>\n",
       "      <td>10.0</td>\n",
       "      <td>7.0</td>\n",
       "      <td>9.0</td>\n",
       "      <td>776700.0</td>\n",
       "      <td>863000.0</td>\n",
       "      <td>517800.0</td>\n",
       "      <td>863000.0</td>\n",
       "      <td>690400.0</td>\n",
       "      <td>863000.0</td>\n",
       "      <td>604100.0</td>\n",
       "      <td>776700.0</td>\n",
       "    </tr>\n",
       "    <tr>\n",
       "      <th>제품_98</th>\n",
       "      <td>10.0</td>\n",
       "      <td>10.0</td>\n",
       "      <td>10.0</td>\n",
       "      <td>10.0</td>\n",
       "      <td>10.0</td>\n",
       "      <td>10.0</td>\n",
       "      <td>10.0</td>\n",
       "      <td>7.0</td>\n",
       "      <td>984000.0</td>\n",
       "      <td>984000.0</td>\n",
       "      <td>984000.0</td>\n",
       "      <td>984000.0</td>\n",
       "      <td>984000.0</td>\n",
       "      <td>984000.0</td>\n",
       "      <td>984000.0</td>\n",
       "      <td>688800.0</td>\n",
       "    </tr>\n",
       "    <tr>\n",
       "      <th>제품_99</th>\n",
       "      <td>8.0</td>\n",
       "      <td>10.0</td>\n",
       "      <td>10.0</td>\n",
       "      <td>8.0</td>\n",
       "      <td>6.0</td>\n",
       "      <td>8.0</td>\n",
       "      <td>7.0</td>\n",
       "      <td>6.0</td>\n",
       "      <td>152800.0</td>\n",
       "      <td>191000.0</td>\n",
       "      <td>191000.0</td>\n",
       "      <td>152800.0</td>\n",
       "      <td>114600.0</td>\n",
       "      <td>152800.0</td>\n",
       "      <td>133700.0</td>\n",
       "      <td>114600.0</td>\n",
       "    </tr>\n",
       "  </tbody>\n",
       "</table>\n",
       "<p>100 rows × 16 columns</p>\n",
       "</div>"
      ],
      "text/plain": [
       "          수량                                                  판매금액             \\\n",
       "쇼핑몰 유형  동물병원 온라인II 온라인사이트 유통대리점   전시회    쿠팡   할인점 할인점II       동물병원      온라인II   \n",
       "제품                                                                              \n",
       "제품_01   10.0   8.0   10.0  10.0   7.0  10.0   3.0   8.0   732000.0   585600.0   \n",
       "제품_02    9.0  10.0   10.0   8.0   9.0   9.0   5.0   NaN   145800.0   162000.0   \n",
       "제품_03   10.0  10.0   10.0   9.0  10.0   8.0   7.0   NaN   391000.0   391000.0   \n",
       "제품_04   10.0  10.0   10.0  10.0  10.0   9.0   6.0   3.0   427000.0   427000.0   \n",
       "제품_05   10.0  10.0   10.0  10.0   4.0  10.0   5.0   NaN  1076000.0  1076000.0   \n",
       "...      ...   ...    ...   ...   ...   ...   ...   ...        ...        ...   \n",
       "제품_95   10.0  10.0   10.0   8.0   9.0   9.0   9.0   5.0   973000.0   973000.0   \n",
       "제품_96   10.0  10.0   10.0  10.0   8.0  10.0   7.0   NaN   786000.0   786000.0   \n",
       "제품_97    9.0  10.0    6.0  10.0   8.0  10.0   7.0   9.0   776700.0   863000.0   \n",
       "제품_98   10.0  10.0   10.0  10.0  10.0  10.0  10.0   7.0   984000.0   984000.0   \n",
       "제품_99    8.0  10.0   10.0   8.0   6.0   8.0   7.0   6.0   152800.0   191000.0   \n",
       "\n",
       "                                                                       \n",
       "쇼핑몰 유형     온라인사이트      유통대리점       전시회         쿠팡       할인점     할인점II  \n",
       "제품                                                                     \n",
       "제품_01    732000.0   732000.0  512400.0   732000.0  219600.0  585600.0  \n",
       "제품_02    162000.0   129600.0  145800.0   145800.0   81000.0       NaN  \n",
       "제품_03    391000.0   351900.0  391000.0   312800.0  273700.0       NaN  \n",
       "제품_04    427000.0   427000.0  427000.0   384300.0  256200.0  128100.0  \n",
       "제품_05   1076000.0  1076000.0  430400.0  1076000.0  538000.0       NaN  \n",
       "...           ...        ...       ...        ...       ...       ...  \n",
       "제품_95    973000.0   778400.0  875700.0   875700.0  875700.0  486500.0  \n",
       "제품_96    786000.0   786000.0  628800.0   786000.0  550200.0       NaN  \n",
       "제품_97    517800.0   863000.0  690400.0   863000.0  604100.0  776700.0  \n",
       "제품_98    984000.0   984000.0  984000.0   984000.0  984000.0  688800.0  \n",
       "제품_99    191000.0   152800.0  114600.0   152800.0  133700.0  114600.0  \n",
       "\n",
       "[100 rows x 16 columns]"
      ]
     },
     "execution_count": 11,
     "metadata": {},
     "output_type": "execute_result"
    }
   ],
   "source": [
    "pt2 = pd.pivot_table(df, index = '제품',columns = '쇼핑몰 유형',values = ['판매금액','수량'],aggfunc = 'max')\n",
    "pt2"
   ]
  },
  {
   "cell_type": "code",
   "execution_count": 12,
   "metadata": {},
   "outputs": [
    {
     "data": {
      "text/html": [
       "<div>\n",
       "<style scoped>\n",
       "    .dataframe tbody tr th:only-of-type {\n",
       "        vertical-align: middle;\n",
       "    }\n",
       "\n",
       "    .dataframe tbody tr th {\n",
       "        vertical-align: top;\n",
       "    }\n",
       "\n",
       "    .dataframe thead th {\n",
       "        text-align: right;\n",
       "    }\n",
       "</style>\n",
       "<table border=\"1\" class=\"dataframe\">\n",
       "  <thead>\n",
       "    <tr style=\"text-align: right;\">\n",
       "      <th></th>\n",
       "      <th>쇼핑몰</th>\n",
       "      <th>제품</th>\n",
       "      <th>수량</th>\n",
       "      <th>판매금액</th>\n",
       "      <th>쇼핑몰 유형</th>\n",
       "    </tr>\n",
       "  </thead>\n",
       "  <tbody>\n",
       "    <tr>\n",
       "      <th>0</th>\n",
       "      <td>쿠팡</td>\n",
       "      <td>제품_16</td>\n",
       "      <td>8</td>\n",
       "      <td>1134400</td>\n",
       "      <td>쿠팡</td>\n",
       "    </tr>\n",
       "    <tr>\n",
       "      <th>1</th>\n",
       "      <td>쿠팡</td>\n",
       "      <td>제품_57</td>\n",
       "      <td>8</td>\n",
       "      <td>439200</td>\n",
       "      <td>쿠팡</td>\n",
       "    </tr>\n",
       "    <tr>\n",
       "      <th>2</th>\n",
       "      <td>쿠팡</td>\n",
       "      <td>제품_25</td>\n",
       "      <td>4</td>\n",
       "      <td>495200</td>\n",
       "      <td>쿠팡</td>\n",
       "    </tr>\n",
       "    <tr>\n",
       "      <th>3</th>\n",
       "      <td>쿠팡</td>\n",
       "      <td>제품_18</td>\n",
       "      <td>4</td>\n",
       "      <td>578000</td>\n",
       "      <td>쿠팡</td>\n",
       "    </tr>\n",
       "    <tr>\n",
       "      <th>4</th>\n",
       "      <td>쿠팡</td>\n",
       "      <td>제품_90</td>\n",
       "      <td>2</td>\n",
       "      <td>75000</td>\n",
       "      <td>쿠팡</td>\n",
       "    </tr>\n",
       "  </tbody>\n",
       "</table>\n",
       "</div>"
      ],
      "text/plain": [
       "  쇼핑몰     제품  수량     판매금액 쇼핑몰 유형\n",
       "0  쿠팡  제품_16   8  1134400     쿠팡\n",
       "1  쿠팡  제품_57   8   439200     쿠팡\n",
       "2  쿠팡  제품_25   4   495200     쿠팡\n",
       "3  쿠팡  제품_18   4   578000     쿠팡\n",
       "4  쿠팡  제품_90   2    75000     쿠팡"
      ]
     },
     "execution_count": 12,
     "metadata": {},
     "output_type": "execute_result"
    }
   ],
   "source": [
    "df.head()"
   ]
  },
  {
   "cell_type": "code",
   "execution_count": 13,
   "metadata": {},
   "outputs": [
    {
     "data": {
      "text/plain": [
       "쇼핑몰 유형\n",
       "동물병원      5.512889\n",
       "온라인II     5.807143\n",
       "온라인사이트    5.477670\n",
       "유통대리점     5.493333\n",
       "전시회       5.556701\n",
       "쿠팡        5.396389\n",
       "할인점       5.288525\n",
       "할인점II     5.469565\n",
       "Name: 수량, dtype: float64"
      ]
     },
     "execution_count": 13,
     "metadata": {},
     "output_type": "execute_result"
    }
   ],
   "source": [
    "df.groupby('쇼핑몰 유형')['수량'].mean()"
   ]
  },
  {
   "cell_type": "code",
   "execution_count": 15,
   "metadata": {},
   "outputs": [
    {
     "data": {
      "text/html": [
       "<div>\n",
       "<style scoped>\n",
       "    .dataframe tbody tr th:only-of-type {\n",
       "        vertical-align: middle;\n",
       "    }\n",
       "\n",
       "    .dataframe tbody tr th {\n",
       "        vertical-align: top;\n",
       "    }\n",
       "\n",
       "    .dataframe thead th {\n",
       "        text-align: right;\n",
       "    }\n",
       "</style>\n",
       "<table border=\"1\" class=\"dataframe\">\n",
       "  <thead>\n",
       "    <tr style=\"text-align: right;\">\n",
       "      <th></th>\n",
       "      <th>쇼핑몰 유형</th>\n",
       "      <th>수량</th>\n",
       "    </tr>\n",
       "  </thead>\n",
       "  <tbody>\n",
       "    <tr>\n",
       "      <th>0</th>\n",
       "      <td>동물병원</td>\n",
       "      <td>5.512889</td>\n",
       "    </tr>\n",
       "    <tr>\n",
       "      <th>1</th>\n",
       "      <td>온라인II</td>\n",
       "      <td>5.807143</td>\n",
       "    </tr>\n",
       "    <tr>\n",
       "      <th>2</th>\n",
       "      <td>온라인사이트</td>\n",
       "      <td>5.477670</td>\n",
       "    </tr>\n",
       "    <tr>\n",
       "      <th>3</th>\n",
       "      <td>유통대리점</td>\n",
       "      <td>5.493333</td>\n",
       "    </tr>\n",
       "    <tr>\n",
       "      <th>4</th>\n",
       "      <td>전시회</td>\n",
       "      <td>5.556701</td>\n",
       "    </tr>\n",
       "    <tr>\n",
       "      <th>5</th>\n",
       "      <td>쿠팡</td>\n",
       "      <td>5.396389</td>\n",
       "    </tr>\n",
       "    <tr>\n",
       "      <th>6</th>\n",
       "      <td>할인점</td>\n",
       "      <td>5.288525</td>\n",
       "    </tr>\n",
       "    <tr>\n",
       "      <th>7</th>\n",
       "      <td>할인점II</td>\n",
       "      <td>5.469565</td>\n",
       "    </tr>\n",
       "  </tbody>\n",
       "</table>\n",
       "</div>"
      ],
      "text/plain": [
       "   쇼핑몰 유형        수량\n",
       "0    동물병원  5.512889\n",
       "1   온라인II  5.807143\n",
       "2  온라인사이트  5.477670\n",
       "3   유통대리점  5.493333\n",
       "4     전시회  5.556701\n",
       "5      쿠팡  5.396389\n",
       "6     할인점  5.288525\n",
       "7   할인점II  5.469565"
      ]
     },
     "execution_count": 15,
     "metadata": {},
     "output_type": "execute_result"
    }
   ],
   "source": [
    "df.groupby('쇼핑몰 유형', as_index = False)['수량'].mean()"
   ]
  },
  {
   "cell_type": "code",
   "execution_count": 17,
   "metadata": {},
   "outputs": [
    {
     "name": "stderr",
     "output_type": "stream",
     "text": [
      "<ipython-input-17-9908c5a6d8f4>:1: FutureWarning: Indexing with multiple keys (implicitly converted to a tuple of keys) will be deprecated, use a list instead.\n",
      "  df.groupby('쇼핑몰 유형')['수량','판매금액'].agg(['mean','max'])\n"
     ]
    },
    {
     "data": {
      "text/html": [
       "<div>\n",
       "<style scoped>\n",
       "    .dataframe tbody tr th:only-of-type {\n",
       "        vertical-align: middle;\n",
       "    }\n",
       "\n",
       "    .dataframe tbody tr th {\n",
       "        vertical-align: top;\n",
       "    }\n",
       "\n",
       "    .dataframe thead tr th {\n",
       "        text-align: left;\n",
       "    }\n",
       "\n",
       "    .dataframe thead tr:last-of-type th {\n",
       "        text-align: right;\n",
       "    }\n",
       "</style>\n",
       "<table border=\"1\" class=\"dataframe\">\n",
       "  <thead>\n",
       "    <tr>\n",
       "      <th></th>\n",
       "      <th colspan=\"2\" halign=\"left\">수량</th>\n",
       "      <th colspan=\"2\" halign=\"left\">판매금액</th>\n",
       "    </tr>\n",
       "    <tr>\n",
       "      <th></th>\n",
       "      <th>mean</th>\n",
       "      <th>max</th>\n",
       "      <th>mean</th>\n",
       "      <th>max</th>\n",
       "    </tr>\n",
       "    <tr>\n",
       "      <th>쇼핑몰 유형</th>\n",
       "      <th></th>\n",
       "      <th></th>\n",
       "      <th></th>\n",
       "      <th></th>\n",
       "    </tr>\n",
       "  </thead>\n",
       "  <tbody>\n",
       "    <tr>\n",
       "      <th>동물병원</th>\n",
       "      <td>5.512889</td>\n",
       "      <td>10</td>\n",
       "      <td>439390.844444</td>\n",
       "      <td>1515000</td>\n",
       "    </tr>\n",
       "    <tr>\n",
       "      <th>온라인II</th>\n",
       "      <td>5.807143</td>\n",
       "      <td>10</td>\n",
       "      <td>475726.428571</td>\n",
       "      <td>1530000</td>\n",
       "    </tr>\n",
       "    <tr>\n",
       "      <th>온라인사이트</th>\n",
       "      <td>5.477670</td>\n",
       "      <td>10</td>\n",
       "      <td>454746.019417</td>\n",
       "      <td>1533000</td>\n",
       "    </tr>\n",
       "    <tr>\n",
       "      <th>유통대리점</th>\n",
       "      <td>5.493333</td>\n",
       "      <td>10</td>\n",
       "      <td>462627.384615</td>\n",
       "      <td>1530000</td>\n",
       "    </tr>\n",
       "    <tr>\n",
       "      <th>전시회</th>\n",
       "      <td>5.556701</td>\n",
       "      <td>10</td>\n",
       "      <td>447135.051546</td>\n",
       "      <td>1486000</td>\n",
       "    </tr>\n",
       "    <tr>\n",
       "      <th>쿠팡</th>\n",
       "      <td>5.396389</td>\n",
       "      <td>10</td>\n",
       "      <td>433447.802198</td>\n",
       "      <td>1533000</td>\n",
       "    </tr>\n",
       "    <tr>\n",
       "      <th>할인점</th>\n",
       "      <td>5.288525</td>\n",
       "      <td>10</td>\n",
       "      <td>427162.295082</td>\n",
       "      <td>1533000</td>\n",
       "    </tr>\n",
       "    <tr>\n",
       "      <th>할인점II</th>\n",
       "      <td>5.469565</td>\n",
       "      <td>10</td>\n",
       "      <td>440754.782609</td>\n",
       "      <td>1515000</td>\n",
       "    </tr>\n",
       "  </tbody>\n",
       "</table>\n",
       "</div>"
      ],
      "text/plain": [
       "              수량               판매금액         \n",
       "            mean max           mean      max\n",
       "쇼핑몰 유형                                      \n",
       "동물병원    5.512889  10  439390.844444  1515000\n",
       "온라인II   5.807143  10  475726.428571  1530000\n",
       "온라인사이트  5.477670  10  454746.019417  1533000\n",
       "유통대리점   5.493333  10  462627.384615  1530000\n",
       "전시회     5.556701  10  447135.051546  1486000\n",
       "쿠팡      5.396389  10  433447.802198  1533000\n",
       "할인점     5.288525  10  427162.295082  1533000\n",
       "할인점II   5.469565  10  440754.782609  1515000"
      ]
     },
     "execution_count": 17,
     "metadata": {},
     "output_type": "execute_result"
    }
   ],
   "source": [
    "df.groupby('쇼핑몰 유형')['수량','판매금액'].agg(['mean','max'])"
   ]
  },
  {
   "cell_type": "code",
   "execution_count": 18,
   "metadata": {},
   "outputs": [
    {
     "name": "stderr",
     "output_type": "stream",
     "text": [
      "<ipython-input-18-54ca1f23d5fe>:4: FutureWarning: Indexing with multiple keys (implicitly converted to a tuple of keys) will be deprecated, use a list instead.\n",
      "  df.groupby(['쇼핑몰 유형','제품'])['수량','판매금액'].agg(my_func)\n"
     ]
    },
    {
     "data": {
      "text/html": [
       "<div>\n",
       "<style scoped>\n",
       "    .dataframe tbody tr th:only-of-type {\n",
       "        vertical-align: middle;\n",
       "    }\n",
       "\n",
       "    .dataframe tbody tr th {\n",
       "        vertical-align: top;\n",
       "    }\n",
       "\n",
       "    .dataframe thead th {\n",
       "        text-align: right;\n",
       "    }\n",
       "</style>\n",
       "<table border=\"1\" class=\"dataframe\">\n",
       "  <thead>\n",
       "    <tr style=\"text-align: right;\">\n",
       "      <th></th>\n",
       "      <th></th>\n",
       "      <th>수량</th>\n",
       "      <th>판매금액</th>\n",
       "    </tr>\n",
       "    <tr>\n",
       "      <th>쇼핑몰 유형</th>\n",
       "      <th>제품</th>\n",
       "      <th></th>\n",
       "      <th></th>\n",
       "    </tr>\n",
       "  </thead>\n",
       "  <tbody>\n",
       "    <tr>\n",
       "      <th rowspan=\"5\" valign=\"top\">동물병원</th>\n",
       "      <th>제품_01</th>\n",
       "      <td>7</td>\n",
       "      <td>512400</td>\n",
       "    </tr>\n",
       "    <tr>\n",
       "      <th>제품_02</th>\n",
       "      <td>8</td>\n",
       "      <td>129600</td>\n",
       "    </tr>\n",
       "    <tr>\n",
       "      <th>제품_03</th>\n",
       "      <td>9</td>\n",
       "      <td>351900</td>\n",
       "    </tr>\n",
       "    <tr>\n",
       "      <th>제품_04</th>\n",
       "      <td>8</td>\n",
       "      <td>341600</td>\n",
       "    </tr>\n",
       "    <tr>\n",
       "      <th>제품_05</th>\n",
       "      <td>8</td>\n",
       "      <td>860800</td>\n",
       "    </tr>\n",
       "    <tr>\n",
       "      <th>...</th>\n",
       "      <th>...</th>\n",
       "      <td>...</td>\n",
       "      <td>...</td>\n",
       "    </tr>\n",
       "    <tr>\n",
       "      <th rowspan=\"5\" valign=\"top\">할인점II</th>\n",
       "      <th>제품_93</th>\n",
       "      <td>0</td>\n",
       "      <td>0</td>\n",
       "    </tr>\n",
       "    <tr>\n",
       "      <th>제품_95</th>\n",
       "      <td>2</td>\n",
       "      <td>194600</td>\n",
       "    </tr>\n",
       "    <tr>\n",
       "      <th>제품_97</th>\n",
       "      <td>0</td>\n",
       "      <td>0</td>\n",
       "    </tr>\n",
       "    <tr>\n",
       "      <th>제품_98</th>\n",
       "      <td>0</td>\n",
       "      <td>0</td>\n",
       "    </tr>\n",
       "    <tr>\n",
       "      <th>제품_99</th>\n",
       "      <td>0</td>\n",
       "      <td>0</td>\n",
       "    </tr>\n",
       "  </tbody>\n",
       "</table>\n",
       "<p>762 rows × 2 columns</p>\n",
       "</div>"
      ],
      "text/plain": [
       "              수량    판매금액\n",
       "쇼핑몰 유형 제품               \n",
       "동물병원   제품_01   7  512400\n",
       "       제품_02   8  129600\n",
       "       제품_03   9  351900\n",
       "       제품_04   8  341600\n",
       "       제품_05   8  860800\n",
       "...           ..     ...\n",
       "할인점II  제품_93   0       0\n",
       "       제품_95   2  194600\n",
       "       제품_97   0       0\n",
       "       제품_98   0       0\n",
       "       제품_99   0       0\n",
       "\n",
       "[762 rows x 2 columns]"
      ]
     },
     "execution_count": 18,
     "metadata": {},
     "output_type": "execute_result"
    }
   ],
   "source": [
    "def my_func(value):\n",
    "    return max(value) - min(value)\n",
    "\n",
    "df.groupby(['쇼핑몰 유형','제품'])['수량','판매금액'].agg(my_func)"
   ]
  },
  {
   "cell_type": "code",
   "execution_count": 1,
   "metadata": {},
   "outputs": [],
   "source": [
    "L = [1, 4, 3, 5, 2, 5]\n",
    "L.sort() #출력이 None이고 L 자체가 수정됨"
   ]
  },
  {
   "cell_type": "code",
   "execution_count": 2,
   "metadata": {},
   "outputs": [
    {
     "data": {
      "text/plain": [
       "[1, 2, 3, 4, 5, 5]"
      ]
     },
     "execution_count": 2,
     "metadata": {},
     "output_type": "execute_result"
    }
   ],
   "source": [
    "L"
   ]
  },
  {
   "cell_type": "code",
   "execution_count": 3,
   "metadata": {},
   "outputs": [
    {
     "data": {
      "text/plain": [
       "[5, 5, 4, 3, 2, 1]"
      ]
     },
     "execution_count": 3,
     "metadata": {},
     "output_type": "execute_result"
    }
   ],
   "source": [
    "L = [1, 4, 3, 5, 2, 5]\n",
    "L.sort(reverse = True) # 출력이 None이고 L자체가 수정됨\n",
    "L"
   ]
  },
  {
   "cell_type": "code",
   "execution_count": 8,
   "metadata": {},
   "outputs": [
    {
     "data": {
      "text/plain": [
       "[(3, 1), (1, 2), (10, 4), (4, 5)]"
      ]
     },
     "execution_count": 8,
     "metadata": {},
     "output_type": "execute_result"
    }
   ],
   "source": [
    "T = [(1, 2), (3, 1), (4, 5), (10, 4)]\n",
    "sorted(T, key = lambda x: x[1]) # x에서 1번째 요소를 기준으로 정렬"
   ]
  },
  {
   "cell_type": "code",
   "execution_count": 9,
   "metadata": {},
   "outputs": [
    {
     "data": {
      "text/plain": [
       "[(1, 2), (3, 1), (4, 5), (10, 4)]"
      ]
     },
     "execution_count": 9,
     "metadata": {},
     "output_type": "execute_result"
    }
   ],
   "source": [
    "T"
   ]
  },
  {
   "cell_type": "code",
   "execution_count": 10,
   "metadata": {},
   "outputs": [
    {
     "data": {
      "text/plain": [
       "[3, 4, 2, 1, 5, 5]"
      ]
     },
     "execution_count": 10,
     "metadata": {},
     "output_type": "execute_result"
    }
   ],
   "source": [
    "L = [1, 4, 3, 5, 2, 5]\n",
    "sorted(L, key = lambda x: abs(x-3)) # |x-3|을 기준으로 정렬"
   ]
  },
  {
   "cell_type": "code",
   "execution_count": 11,
   "metadata": {},
   "outputs": [
    {
     "data": {
      "text/plain": [
       "0    NaN\n",
       "1    NaN\n",
       "2    NaN\n",
       "3    6.0\n",
       "4    5.0\n",
       "dtype: float64"
      ]
     },
     "execution_count": 11,
     "metadata": {},
     "output_type": "execute_result"
    }
   ],
   "source": [
    "import pandas as pd\n",
    "import numpy as np\n",
    "S = pd.Series(np.random.randint(1,10,100))\n",
    "S.iloc[0:3] = np.nan\n",
    "S.head()"
   ]
  },
  {
   "cell_type": "code",
   "execution_count": 12,
   "metadata": {},
   "outputs": [
    {
     "data": {
      "text/plain": [
       "60    1.0\n",
       "37    1.0\n",
       "30    1.0\n",
       "47    1.0\n",
       "28    1.0\n",
       "     ... \n",
       "89    9.0\n",
       "98    9.0\n",
       "0     NaN\n",
       "1     NaN\n",
       "2     NaN\n",
       "Length: 100, dtype: float64"
      ]
     },
     "execution_count": 12,
     "metadata": {},
     "output_type": "execute_result"
    }
   ],
   "source": [
    "S.sort_values()"
   ]
  },
  {
   "cell_type": "code",
   "execution_count": 15,
   "metadata": {},
   "outputs": [
    {
     "data": {
      "text/plain": [
       "98    9.0\n",
       "89    9.0\n",
       "97    9.0\n",
       "6     9.0\n",
       "94    9.0\n",
       "     ... \n",
       "37    1.0\n",
       "60    1.0\n",
       "0     NaN\n",
       "1     NaN\n",
       "2     NaN\n",
       "Length: 100, dtype: float64"
      ]
     },
     "execution_count": 15,
     "metadata": {},
     "output_type": "execute_result"
    }
   ],
   "source": [
    "S.sort_values(ascending = False, na_position = 'last')"
   ]
  },
  {
   "cell_type": "code",
   "execution_count": 17,
   "metadata": {},
   "outputs": [
    {
     "data": {
      "text/plain": [
       "6.0    20\n",
       "4.0    15\n",
       "2.0    10\n",
       "1.0    10\n",
       "7.0    10\n",
       "5.0    10\n",
       "3.0     8\n",
       "9.0     8\n",
       "8.0     6\n",
       "dtype: int64"
      ]
     },
     "execution_count": 17,
     "metadata": {},
     "output_type": "execute_result"
    }
   ],
   "source": [
    "S.value_counts()"
   ]
  },
  {
   "cell_type": "code",
   "execution_count": 18,
   "metadata": {},
   "outputs": [
    {
     "data": {
      "text/plain": [
       "6.0    0.206186\n",
       "4.0    0.154639\n",
       "2.0    0.103093\n",
       "1.0    0.103093\n",
       "7.0    0.103093\n",
       "5.0    0.103093\n",
       "3.0    0.082474\n",
       "9.0    0.082474\n",
       "8.0    0.061856\n",
       "dtype: float64"
      ]
     },
     "execution_count": 18,
     "metadata": {},
     "output_type": "execute_result"
    }
   ],
   "source": [
    "S.value_counts(normalize = True)"
   ]
  },
  {
   "cell_type": "code",
   "execution_count": 19,
   "metadata": {},
   "outputs": [
    {
     "data": {
      "text/plain": [
       "8.0    0.061856\n",
       "9.0    0.082474\n",
       "3.0    0.082474\n",
       "5.0    0.103093\n",
       "7.0    0.103093\n",
       "1.0    0.103093\n",
       "2.0    0.103093\n",
       "4.0    0.154639\n",
       "6.0    0.206186\n",
       "dtype: float64"
      ]
     },
     "execution_count": 19,
     "metadata": {},
     "output_type": "execute_result"
    }
   ],
   "source": [
    "S.value_counts(ascending = True, normalize = True)"
   ]
  },
  {
   "cell_type": "code",
   "execution_count": 20,
   "metadata": {},
   "outputs": [
    {
     "data": {
      "text/plain": [
       "array([nan,  6.,  5.,  7.,  9.,  3.,  8.,  4.,  1.,  2.])"
      ]
     },
     "execution_count": 20,
     "metadata": {},
     "output_type": "execute_result"
    }
   ],
   "source": [
    "S.unique()"
   ]
  },
  {
   "cell_type": "code",
   "execution_count": 21,
   "metadata": {},
   "outputs": [
    {
     "data": {
      "text/plain": [
       "10"
      ]
     },
     "execution_count": 21,
     "metadata": {},
     "output_type": "execute_result"
    }
   ],
   "source": [
    "len(S.unique())"
   ]
  },
  {
   "cell_type": "code",
   "execution_count": 22,
   "metadata": {},
   "outputs": [
    {
     "data": {
      "text/html": [
       "<div>\n",
       "<style scoped>\n",
       "    .dataframe tbody tr th:only-of-type {\n",
       "        vertical-align: middle;\n",
       "    }\n",
       "\n",
       "    .dataframe tbody tr th {\n",
       "        vertical-align: top;\n",
       "    }\n",
       "\n",
       "    .dataframe thead th {\n",
       "        text-align: right;\n",
       "    }\n",
       "</style>\n",
       "<table border=\"1\" class=\"dataframe\">\n",
       "  <thead>\n",
       "    <tr style=\"text-align: right;\">\n",
       "      <th></th>\n",
       "      <th>A</th>\n",
       "      <th>B</th>\n",
       "      <th>C</th>\n",
       "    </tr>\n",
       "  </thead>\n",
       "  <tbody>\n",
       "    <tr>\n",
       "      <th>0</th>\n",
       "      <td>1</td>\n",
       "      <td>3</td>\n",
       "      <td>1</td>\n",
       "    </tr>\n",
       "    <tr>\n",
       "      <th>1</th>\n",
       "      <td>2</td>\n",
       "      <td>2</td>\n",
       "      <td>2</td>\n",
       "    </tr>\n",
       "    <tr>\n",
       "      <th>2</th>\n",
       "      <td>3</td>\n",
       "      <td>1</td>\n",
       "      <td>3</td>\n",
       "    </tr>\n",
       "    <tr>\n",
       "      <th>3</th>\n",
       "      <td>1</td>\n",
       "      <td>3</td>\n",
       "      <td>4</td>\n",
       "    </tr>\n",
       "    <tr>\n",
       "      <th>4</th>\n",
       "      <td>2</td>\n",
       "      <td>2</td>\n",
       "      <td>3</td>\n",
       "    </tr>\n",
       "    <tr>\n",
       "      <th>5</th>\n",
       "      <td>3</td>\n",
       "      <td>1</td>\n",
       "      <td>2</td>\n",
       "    </tr>\n",
       "  </tbody>\n",
       "</table>\n",
       "</div>"
      ],
      "text/plain": [
       "   A  B  C\n",
       "0  1  3  1\n",
       "1  2  2  2\n",
       "2  3  1  3\n",
       "3  1  3  4\n",
       "4  2  2  3\n",
       "5  3  1  2"
      ]
     },
     "execution_count": 22,
     "metadata": {},
     "output_type": "execute_result"
    }
   ],
   "source": [
    "df = pd.DataFrame({\"A\":[1,2,3,1,2,3], \"B\":[3,2,1,3,2,1], \"C\":[1,2,3,4,3,2]})\n",
    "df"
   ]
  },
  {
   "cell_type": "code",
   "execution_count": 23,
   "metadata": {},
   "outputs": [
    {
     "data": {
      "text/html": [
       "<div>\n",
       "<style scoped>\n",
       "    .dataframe tbody tr th:only-of-type {\n",
       "        vertical-align: middle;\n",
       "    }\n",
       "\n",
       "    .dataframe tbody tr th {\n",
       "        vertical-align: top;\n",
       "    }\n",
       "\n",
       "    .dataframe thead th {\n",
       "        text-align: right;\n",
       "    }\n",
       "</style>\n",
       "<table border=\"1\" class=\"dataframe\">\n",
       "  <thead>\n",
       "    <tr style=\"text-align: right;\">\n",
       "      <th></th>\n",
       "      <th>A</th>\n",
       "      <th>B</th>\n",
       "      <th>C</th>\n",
       "    </tr>\n",
       "  </thead>\n",
       "  <tbody>\n",
       "    <tr>\n",
       "      <th>0</th>\n",
       "      <td>1</td>\n",
       "      <td>3</td>\n",
       "      <td>1</td>\n",
       "    </tr>\n",
       "    <tr>\n",
       "      <th>3</th>\n",
       "      <td>1</td>\n",
       "      <td>3</td>\n",
       "      <td>4</td>\n",
       "    </tr>\n",
       "    <tr>\n",
       "      <th>1</th>\n",
       "      <td>2</td>\n",
       "      <td>2</td>\n",
       "      <td>2</td>\n",
       "    </tr>\n",
       "    <tr>\n",
       "      <th>4</th>\n",
       "      <td>2</td>\n",
       "      <td>2</td>\n",
       "      <td>3</td>\n",
       "    </tr>\n",
       "    <tr>\n",
       "      <th>2</th>\n",
       "      <td>3</td>\n",
       "      <td>1</td>\n",
       "      <td>3</td>\n",
       "    </tr>\n",
       "    <tr>\n",
       "      <th>5</th>\n",
       "      <td>3</td>\n",
       "      <td>1</td>\n",
       "      <td>2</td>\n",
       "    </tr>\n",
       "  </tbody>\n",
       "</table>\n",
       "</div>"
      ],
      "text/plain": [
       "   A  B  C\n",
       "0  1  3  1\n",
       "3  1  3  4\n",
       "1  2  2  2\n",
       "4  2  2  3\n",
       "2  3  1  3\n",
       "5  3  1  2"
      ]
     },
     "execution_count": 23,
     "metadata": {},
     "output_type": "execute_result"
    }
   ],
   "source": [
    "df.sort_values(by = 'A', ascending = True) # A를 기준으로 오름차순 정렬"
   ]
  },
  {
   "cell_type": "code",
   "execution_count": 24,
   "metadata": {},
   "outputs": [
    {
     "data": {
      "text/html": [
       "<div>\n",
       "<style scoped>\n",
       "    .dataframe tbody tr th:only-of-type {\n",
       "        vertical-align: middle;\n",
       "    }\n",
       "\n",
       "    .dataframe tbody tr th {\n",
       "        vertical-align: top;\n",
       "    }\n",
       "\n",
       "    .dataframe thead th {\n",
       "        text-align: right;\n",
       "    }\n",
       "</style>\n",
       "<table border=\"1\" class=\"dataframe\">\n",
       "  <thead>\n",
       "    <tr style=\"text-align: right;\">\n",
       "      <th></th>\n",
       "      <th>A</th>\n",
       "      <th>B</th>\n",
       "      <th>C</th>\n",
       "    </tr>\n",
       "  </thead>\n",
       "  <tbody>\n",
       "    <tr>\n",
       "      <th>0</th>\n",
       "      <td>1</td>\n",
       "      <td>3</td>\n",
       "      <td>1</td>\n",
       "    </tr>\n",
       "    <tr>\n",
       "      <th>3</th>\n",
       "      <td>1</td>\n",
       "      <td>3</td>\n",
       "      <td>4</td>\n",
       "    </tr>\n",
       "    <tr>\n",
       "      <th>1</th>\n",
       "      <td>2</td>\n",
       "      <td>2</td>\n",
       "      <td>2</td>\n",
       "    </tr>\n",
       "    <tr>\n",
       "      <th>4</th>\n",
       "      <td>2</td>\n",
       "      <td>2</td>\n",
       "      <td>3</td>\n",
       "    </tr>\n",
       "    <tr>\n",
       "      <th>5</th>\n",
       "      <td>3</td>\n",
       "      <td>1</td>\n",
       "      <td>2</td>\n",
       "    </tr>\n",
       "    <tr>\n",
       "      <th>2</th>\n",
       "      <td>3</td>\n",
       "      <td>1</td>\n",
       "      <td>3</td>\n",
       "    </tr>\n",
       "  </tbody>\n",
       "</table>\n",
       "</div>"
      ],
      "text/plain": [
       "   A  B  C\n",
       "0  1  3  1\n",
       "3  1  3  4\n",
       "1  2  2  2\n",
       "4  2  2  3\n",
       "5  3  1  2\n",
       "2  3  1  3"
      ]
     },
     "execution_count": 24,
     "metadata": {},
     "output_type": "execute_result"
    }
   ],
   "source": [
    "df.sort_values(['A','C'], ascending = True, na_position = 'last',)"
   ]
  },
  {
   "cell_type": "code",
   "execution_count": 25,
   "metadata": {},
   "outputs": [
    {
     "data": {
      "text/html": [
       "<div>\n",
       "<style scoped>\n",
       "    .dataframe tbody tr th:only-of-type {\n",
       "        vertical-align: middle;\n",
       "    }\n",
       "\n",
       "    .dataframe tbody tr th {\n",
       "        vertical-align: top;\n",
       "    }\n",
       "\n",
       "    .dataframe thead th {\n",
       "        text-align: right;\n",
       "    }\n",
       "</style>\n",
       "<table border=\"1\" class=\"dataframe\">\n",
       "  <thead>\n",
       "    <tr style=\"text-align: right;\">\n",
       "      <th></th>\n",
       "      <th>A</th>\n",
       "      <th>B</th>\n",
       "      <th>C</th>\n",
       "    </tr>\n",
       "  </thead>\n",
       "  <tbody>\n",
       "    <tr>\n",
       "      <th>0</th>\n",
       "      <td>1</td>\n",
       "      <td>3</td>\n",
       "      <td>1</td>\n",
       "    </tr>\n",
       "    <tr>\n",
       "      <th>1</th>\n",
       "      <td>2</td>\n",
       "      <td>2</td>\n",
       "      <td>2</td>\n",
       "    </tr>\n",
       "    <tr>\n",
       "      <th>2</th>\n",
       "      <td>3</td>\n",
       "      <td>1</td>\n",
       "      <td>3</td>\n",
       "    </tr>\n",
       "  </tbody>\n",
       "</table>\n",
       "</div>"
      ],
      "text/plain": [
       "   A  B  C\n",
       "0  1  3  1\n",
       "1  2  2  2\n",
       "2  3  1  3"
      ]
     },
     "execution_count": 25,
     "metadata": {},
     "output_type": "execute_result"
    }
   ],
   "source": [
    "df.drop_duplicates(subset = 'A')"
   ]
  },
  {
   "cell_type": "code",
   "execution_count": 27,
   "metadata": {},
   "outputs": [
    {
     "data": {
      "text/html": [
       "<div>\n",
       "<style scoped>\n",
       "    .dataframe tbody tr th:only-of-type {\n",
       "        vertical-align: middle;\n",
       "    }\n",
       "\n",
       "    .dataframe tbody tr th {\n",
       "        vertical-align: top;\n",
       "    }\n",
       "\n",
       "    .dataframe thead th {\n",
       "        text-align: right;\n",
       "    }\n",
       "</style>\n",
       "<table border=\"1\" class=\"dataframe\">\n",
       "  <thead>\n",
       "    <tr style=\"text-align: right;\">\n",
       "      <th></th>\n",
       "      <th>A</th>\n",
       "      <th>B</th>\n",
       "      <th>C</th>\n",
       "    </tr>\n",
       "  </thead>\n",
       "  <tbody>\n",
       "    <tr>\n",
       "      <th>3</th>\n",
       "      <td>1</td>\n",
       "      <td>3</td>\n",
       "      <td>4</td>\n",
       "    </tr>\n",
       "    <tr>\n",
       "      <th>4</th>\n",
       "      <td>2</td>\n",
       "      <td>2</td>\n",
       "      <td>3</td>\n",
       "    </tr>\n",
       "    <tr>\n",
       "      <th>5</th>\n",
       "      <td>3</td>\n",
       "      <td>1</td>\n",
       "      <td>2</td>\n",
       "    </tr>\n",
       "  </tbody>\n",
       "</table>\n",
       "</div>"
      ],
      "text/plain": [
       "   A  B  C\n",
       "3  1  3  4\n",
       "4  2  2  3\n",
       "5  3  1  2"
      ]
     },
     "execution_count": 27,
     "metadata": {},
     "output_type": "execute_result"
    }
   ],
   "source": [
    "df.drop_duplicates(subset = 'A', keep = 'last')"
   ]
  },
  {
   "cell_type": "code",
   "execution_count": 28,
   "metadata": {},
   "outputs": [
    {
     "data": {
      "text/html": [
       "<div>\n",
       "<style scoped>\n",
       "    .dataframe tbody tr th:only-of-type {\n",
       "        vertical-align: middle;\n",
       "    }\n",
       "\n",
       "    .dataframe tbody tr th {\n",
       "        vertical-align: top;\n",
       "    }\n",
       "\n",
       "    .dataframe thead th {\n",
       "        text-align: right;\n",
       "    }\n",
       "</style>\n",
       "<table border=\"1\" class=\"dataframe\">\n",
       "  <thead>\n",
       "    <tr style=\"text-align: right;\">\n",
       "      <th></th>\n",
       "      <th>A</th>\n",
       "      <th>B</th>\n",
       "      <th>C</th>\n",
       "    </tr>\n",
       "  </thead>\n",
       "  <tbody>\n",
       "  </tbody>\n",
       "</table>\n",
       "</div>"
      ],
      "text/plain": [
       "Empty DataFrame\n",
       "Columns: [A, B, C]\n",
       "Index: []"
      ]
     },
     "execution_count": 28,
     "metadata": {},
     "output_type": "execute_result"
    }
   ],
   "source": [
    "df.drop_duplicates(subset = ['A'], keep = False)"
   ]
  },
  {
   "cell_type": "code",
   "execution_count": null,
   "metadata": {},
   "outputs": [],
   "source": []
  },
  {
   "cell_type": "code",
   "execution_count": null,
   "metadata": {},
   "outputs": [],
   "source": []
  },
  {
   "cell_type": "code",
   "execution_count": null,
   "metadata": {},
   "outputs": [],
   "source": []
  },
  {
   "cell_type": "code",
   "execution_count": null,
   "metadata": {},
   "outputs": [],
   "source": []
  },
  {
   "cell_type": "code",
   "execution_count": null,
   "metadata": {},
   "outputs": [],
   "source": []
  },
  {
   "cell_type": "code",
   "execution_count": null,
   "metadata": {},
   "outputs": [],
   "source": []
  },
  {
   "cell_type": "code",
   "execution_count": null,
   "metadata": {},
   "outputs": [],
   "source": []
  },
  {
   "cell_type": "code",
   "execution_count": null,
   "metadata": {},
   "outputs": [],
   "source": []
  },
  {
   "cell_type": "code",
   "execution_count": null,
   "metadata": {},
   "outputs": [],
   "source": []
  },
  {
   "cell_type": "code",
   "execution_count": null,
   "metadata": {},
   "outputs": [],
   "source": []
  },
  {
   "cell_type": "code",
   "execution_count": null,
   "metadata": {},
   "outputs": [],
   "source": []
  }
 ],
 "metadata": {
  "kernelspec": {
   "display_name": "Python 3",
   "language": "python",
   "name": "python3"
  },
  "language_info": {
   "codemirror_mode": {
    "name": "ipython",
    "version": 3
   },
   "file_extension": ".py",
   "mimetype": "text/x-python",
   "name": "python",
   "nbconvert_exporter": "python",
   "pygments_lexer": "ipython3",
   "version": "3.8.3"
  }
 },
 "nbformat": 4,
 "nbformat_minor": 4
}
