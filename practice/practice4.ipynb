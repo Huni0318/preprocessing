{
 "cells": [
  {
   "cell_type": "code",
   "execution_count": 1,
   "metadata": {},
   "outputs": [],
   "source": [
    "import os\n",
    "import pandas as pd\n",
    "os.chdir(r'C:\\Users\\신상훈\\Desktop\\preprocessing\\part-1.-데이터-핸들링\\1. 데이터 핸들링\\데이터')"
   ]
  },
  {
   "cell_type": "code",
   "execution_count": 2,
   "metadata": {},
   "outputs": [
    {
     "data": {
      "text/plain": [
       "['1월', '2월', '3월', '4월', '5월', '6월', '7월', '8월', '9월', '10월', '11월', '12월']"
      ]
     },
     "execution_count": 2,
     "metadata": {},
     "output_type": "execute_result"
    }
   ],
   "source": [
    "sheet_name = [str(i+1) + '월' for i in range(12)]\n",
    "sheet_name"
   ]
  },
  {
   "cell_type": "code",
   "execution_count": 4,
   "metadata": {},
   "outputs": [],
   "source": [
    "merged_df = pd.DataFrame()\n",
    "for sn in sheet_name:\n",
    "    df = pd.read_excel('월별매출데이터.xlsx', sheet_name = sn, skiprows = range(6)).iloc[:,1:]\n",
    "    merged_df = pd.concat([merged_df,df], axis = 0, ignore_index = True)"
   ]
  },
  {
   "cell_type": "code",
   "execution_count": 5,
   "metadata": {},
   "outputs": [
    {
     "data": {
      "text/html": [
       "<div>\n",
       "<style scoped>\n",
       "    .dataframe tbody tr th:only-of-type {\n",
       "        vertical-align: middle;\n",
       "    }\n",
       "\n",
       "    .dataframe tbody tr th {\n",
       "        vertical-align: top;\n",
       "    }\n",
       "\n",
       "    .dataframe thead th {\n",
       "        text-align: right;\n",
       "    }\n",
       "</style>\n",
       "<table border=\"1\" class=\"dataframe\">\n",
       "  <thead>\n",
       "    <tr style=\"text-align: right;\">\n",
       "      <th></th>\n",
       "      <th>일자</th>\n",
       "      <th>지점</th>\n",
       "      <th>품명</th>\n",
       "      <th>수량</th>\n",
       "      <th>주문인 ID</th>\n",
       "      <th>수령 주소</th>\n",
       "      <th>주문 상태</th>\n",
       "      <th>결제 수단</th>\n",
       "    </tr>\n",
       "  </thead>\n",
       "  <tbody>\n",
       "    <tr>\n",
       "      <th>0</th>\n",
       "      <td>2018.1.1</td>\n",
       "      <td>지점1</td>\n",
       "      <td>제품B</td>\n",
       "      <td>3</td>\n",
       "      <td>C-168</td>\n",
       "      <td>서울특별시 동작구 흑석동</td>\n",
       "      <td>주문완료</td>\n",
       "      <td>인터넷뱅킹</td>\n",
       "    </tr>\n",
       "    <tr>\n",
       "      <th>1</th>\n",
       "      <td>2018.1.1</td>\n",
       "      <td>지점2</td>\n",
       "      <td>제품F</td>\n",
       "      <td>8</td>\n",
       "      <td>C-87</td>\n",
       "      <td>서울특별시 서대문구 신촌동</td>\n",
       "      <td>배송완료</td>\n",
       "      <td>신용카드</td>\n",
       "    </tr>\n",
       "    <tr>\n",
       "      <th>2</th>\n",
       "      <td>2018.1.1</td>\n",
       "      <td>지점4</td>\n",
       "      <td>제품B</td>\n",
       "      <td>2</td>\n",
       "      <td>C-158</td>\n",
       "      <td>서울특별시 종로구 종로5가</td>\n",
       "      <td>배송완료</td>\n",
       "      <td>휴대폰결제</td>\n",
       "    </tr>\n",
       "    <tr>\n",
       "      <th>3</th>\n",
       "      <td>2018.1.1</td>\n",
       "      <td>지점3</td>\n",
       "      <td>제품D</td>\n",
       "      <td>7</td>\n",
       "      <td>C-307</td>\n",
       "      <td>서울특별시 서대문구 냉천동</td>\n",
       "      <td>주문완료</td>\n",
       "      <td>휴대폰결제</td>\n",
       "    </tr>\n",
       "    <tr>\n",
       "      <th>4</th>\n",
       "      <td>2018.1.1</td>\n",
       "      <td>지점2</td>\n",
       "      <td>제품E</td>\n",
       "      <td>9</td>\n",
       "      <td>C-342</td>\n",
       "      <td>서울특별시 종로구 묘동</td>\n",
       "      <td>배송완료</td>\n",
       "      <td>인터넷뱅킹</td>\n",
       "    </tr>\n",
       "  </tbody>\n",
       "</table>\n",
       "</div>"
      ],
      "text/plain": [
       "         일자   지점   품명  수량 주문인 ID           수령 주소 주문 상태  결제 수단\n",
       "0  2018.1.1  지점1  제품B   3  C-168   서울특별시 동작구 흑석동  주문완료  인터넷뱅킹\n",
       "1  2018.1.1  지점2  제품F   8   C-87  서울특별시 서대문구 신촌동  배송완료   신용카드\n",
       "2  2018.1.1  지점4  제품B   2  C-158  서울특별시 종로구 종로5가  배송완료  휴대폰결제\n",
       "3  2018.1.1  지점3  제품D   7  C-307  서울특별시 서대문구 냉천동  주문완료  휴대폰결제\n",
       "4  2018.1.1  지점2  제품E   9  C-342    서울특별시 종로구 묘동  배송완료  인터넷뱅킹"
      ]
     },
     "execution_count": 5,
     "metadata": {},
     "output_type": "execute_result"
    }
   ],
   "source": [
    "merged_df.head()"
   ]
  },
  {
   "cell_type": "code",
   "execution_count": 6,
   "metadata": {},
   "outputs": [
    {
     "data": {
      "text/plain": [
       "0          2018-1-1\n",
       "1          2018-1-1\n",
       "2          2018-1-1\n",
       "3          2018-1-1\n",
       "4          2018-1-1\n",
       "            ...    \n",
       "18224    2018-12-31\n",
       "18225    2018-12-31\n",
       "18226    2018-12-31\n",
       "18227    2018-12-31\n",
       "18228    2018-12-31\n",
       "Name: 일자, Length: 18229, dtype: object"
      ]
     },
     "execution_count": 6,
     "metadata": {},
     "output_type": "execute_result"
    }
   ],
   "source": [
    "# str.replace를 사용하여 '.'을 '-'로 변경\n",
    "# 문자열 검색\n",
    "merged_df['일자'] = merged_df['일자'].str.replace('.','-')\n",
    "merged_df['일자']"
   ]
  },
  {
   "cell_type": "code",
   "execution_count": 7,
   "metadata": {},
   "outputs": [
    {
     "data": {
      "text/html": [
       "<div>\n",
       "<style scoped>\n",
       "    .dataframe tbody tr th:only-of-type {\n",
       "        vertical-align: middle;\n",
       "    }\n",
       "\n",
       "    .dataframe tbody tr th {\n",
       "        vertical-align: top;\n",
       "    }\n",
       "\n",
       "    .dataframe thead th {\n",
       "        text-align: right;\n",
       "    }\n",
       "</style>\n",
       "<table border=\"1\" class=\"dataframe\">\n",
       "  <thead>\n",
       "    <tr style=\"text-align: right;\">\n",
       "      <th></th>\n",
       "      <th>제품</th>\n",
       "      <th>제품A</th>\n",
       "      <th>제품B</th>\n",
       "      <th>제품C</th>\n",
       "      <th>제품D</th>\n",
       "      <th>제품E</th>\n",
       "      <th>제품F</th>\n",
       "    </tr>\n",
       "  </thead>\n",
       "  <tbody>\n",
       "    <tr>\n",
       "      <th>0</th>\n",
       "      <td>가격</td>\n",
       "      <td>20000</td>\n",
       "      <td>5000</td>\n",
       "      <td>10000</td>\n",
       "      <td>8000</td>\n",
       "      <td>30000</td>\n",
       "      <td>15000</td>\n",
       "    </tr>\n",
       "  </tbody>\n",
       "</table>\n",
       "</div>"
      ],
      "text/plain": [
       "   제품    제품A   제품B    제품C   제품D    제품E    제품F\n",
       "0  가격  20000  5000  10000  8000  30000  15000"
      ]
     },
     "execution_count": 7,
     "metadata": {},
     "output_type": "execute_result"
    }
   ],
   "source": [
    "price_df = pd.read_excel('제품별_가격정보.xlsx')\n",
    "price_df"
   ]
  },
  {
   "cell_type": "code",
   "execution_count": 8,
   "metadata": {},
   "outputs": [
    {
     "data": {
      "text/html": [
       "<div>\n",
       "<style scoped>\n",
       "    .dataframe tbody tr th:only-of-type {\n",
       "        vertical-align: middle;\n",
       "    }\n",
       "\n",
       "    .dataframe tbody tr th {\n",
       "        vertical-align: top;\n",
       "    }\n",
       "\n",
       "    .dataframe thead th {\n",
       "        text-align: right;\n",
       "    }\n",
       "</style>\n",
       "<table border=\"1\" class=\"dataframe\">\n",
       "  <thead>\n",
       "    <tr style=\"text-align: right;\">\n",
       "      <th></th>\n",
       "      <th>0</th>\n",
       "    </tr>\n",
       "  </thead>\n",
       "  <tbody>\n",
       "    <tr>\n",
       "      <th>제품</th>\n",
       "      <td>가격</td>\n",
       "    </tr>\n",
       "    <tr>\n",
       "      <th>제품A</th>\n",
       "      <td>20000</td>\n",
       "    </tr>\n",
       "    <tr>\n",
       "      <th>제품B</th>\n",
       "      <td>5000</td>\n",
       "    </tr>\n",
       "    <tr>\n",
       "      <th>제품C</th>\n",
       "      <td>10000</td>\n",
       "    </tr>\n",
       "    <tr>\n",
       "      <th>제품D</th>\n",
       "      <td>8000</td>\n",
       "    </tr>\n",
       "    <tr>\n",
       "      <th>제품E</th>\n",
       "      <td>30000</td>\n",
       "    </tr>\n",
       "    <tr>\n",
       "      <th>제품F</th>\n",
       "      <td>15000</td>\n",
       "    </tr>\n",
       "  </tbody>\n",
       "</table>\n",
       "</div>"
      ],
      "text/plain": [
       "         0\n",
       "제품      가격\n",
       "제품A  20000\n",
       "제품B   5000\n",
       "제품C  10000\n",
       "제품D   8000\n",
       "제품E  30000\n",
       "제품F  15000"
      ]
     },
     "execution_count": 8,
     "metadata": {},
     "output_type": "execute_result"
    }
   ],
   "source": [
    "price_df = price_df.T\n",
    "price_df"
   ]
  },
  {
   "cell_type": "code",
   "execution_count": 11,
   "metadata": {},
   "outputs": [
    {
     "data": {
      "text/plain": [
       "제품A    20000\n",
       "제품B     5000\n",
       "제품C    10000\n",
       "제품D     8000\n",
       "제품E    30000\n",
       "제품F    15000\n",
       "Name: 0, dtype: object"
      ]
     },
     "execution_count": 11,
     "metadata": {},
     "output_type": "execute_result"
    }
   ],
   "source": [
    "price_df.loc['제품A':'제품F', 0] # 새로운 데이터프레임의 컬럼명이 0임"
   ]
  },
  {
   "cell_type": "code",
   "execution_count": 15,
   "metadata": {},
   "outputs": [
    {
     "data": {
      "text/plain": [
       "{'제품A': 20000,\n",
       " '제품B': 5000,\n",
       " '제품C': 10000,\n",
       " '제품D': 8000,\n",
       " '제품E': 30000,\n",
       " '제품F': 15000}"
      ]
     },
     "execution_count": 15,
     "metadata": {},
     "output_type": "execute_result"
    }
   ],
   "source": [
    "price_dict = price_df.loc['제품A':'제품F',0].to_dict()\n",
    "price_dict"
   ]
  },
  {
   "cell_type": "code",
   "execution_count": 17,
   "metadata": {},
   "outputs": [
    {
     "data": {
      "text/plain": [
       "0    제품B\n",
       "1    제품F\n",
       "2    제품B\n",
       "3    제품D\n",
       "4    제품E\n",
       "Name: 품명, dtype: object"
      ]
     },
     "execution_count": 17,
     "metadata": {},
     "output_type": "execute_result"
    }
   ],
   "source": [
    "merged_df['품명'].head()"
   ]
  },
  {
   "cell_type": "code",
   "execution_count": 18,
   "metadata": {},
   "outputs": [],
   "source": [
    "merged_df['가격'] = merged_df['품명'].replace(price_dict)"
   ]
  },
  {
   "cell_type": "code",
   "execution_count": 19,
   "metadata": {},
   "outputs": [
    {
     "data": {
      "text/plain": [
       "0         5000\n",
       "1        15000\n",
       "2         5000\n",
       "3         8000\n",
       "4        30000\n",
       "         ...  \n",
       "18224    15000\n",
       "18225     8000\n",
       "18226     8000\n",
       "18227     5000\n",
       "18228     8000\n",
       "Name: 가격, Length: 18229, dtype: int64"
      ]
     },
     "execution_count": 19,
     "metadata": {},
     "output_type": "execute_result"
    }
   ],
   "source": [
    "merged_df['가격']"
   ]
  },
  {
   "cell_type": "code",
   "execution_count": 20,
   "metadata": {},
   "outputs": [],
   "source": [
    "merged_df['주문 금액'] = merged_df['수량'] * merged_df['가격'] * 1.1 "
   ]
  },
  {
   "cell_type": "code",
   "execution_count": 21,
   "metadata": {},
   "outputs": [
    {
     "data": {
      "text/html": [
       "<div>\n",
       "<style scoped>\n",
       "    .dataframe tbody tr th:only-of-type {\n",
       "        vertical-align: middle;\n",
       "    }\n",
       "\n",
       "    .dataframe tbody tr th {\n",
       "        vertical-align: top;\n",
       "    }\n",
       "\n",
       "    .dataframe thead th {\n",
       "        text-align: right;\n",
       "    }\n",
       "</style>\n",
       "<table border=\"1\" class=\"dataframe\">\n",
       "  <thead>\n",
       "    <tr style=\"text-align: right;\">\n",
       "      <th></th>\n",
       "      <th>일자</th>\n",
       "      <th>지점</th>\n",
       "      <th>품명</th>\n",
       "      <th>수량</th>\n",
       "      <th>주문인 ID</th>\n",
       "      <th>수령 주소</th>\n",
       "      <th>주문 상태</th>\n",
       "      <th>결제 수단</th>\n",
       "      <th>가격</th>\n",
       "      <th>주문 금액</th>\n",
       "    </tr>\n",
       "  </thead>\n",
       "  <tbody>\n",
       "    <tr>\n",
       "      <th>0</th>\n",
       "      <td>2018-1-1</td>\n",
       "      <td>지점1</td>\n",
       "      <td>제품B</td>\n",
       "      <td>3</td>\n",
       "      <td>C-168</td>\n",
       "      <td>서울특별시 동작구 흑석동</td>\n",
       "      <td>주문완료</td>\n",
       "      <td>인터넷뱅킹</td>\n",
       "      <td>5000</td>\n",
       "      <td>16500.0</td>\n",
       "    </tr>\n",
       "    <tr>\n",
       "      <th>1</th>\n",
       "      <td>2018-1-1</td>\n",
       "      <td>지점2</td>\n",
       "      <td>제품F</td>\n",
       "      <td>8</td>\n",
       "      <td>C-87</td>\n",
       "      <td>서울특별시 서대문구 신촌동</td>\n",
       "      <td>배송완료</td>\n",
       "      <td>신용카드</td>\n",
       "      <td>15000</td>\n",
       "      <td>132000.0</td>\n",
       "    </tr>\n",
       "    <tr>\n",
       "      <th>2</th>\n",
       "      <td>2018-1-1</td>\n",
       "      <td>지점4</td>\n",
       "      <td>제품B</td>\n",
       "      <td>2</td>\n",
       "      <td>C-158</td>\n",
       "      <td>서울특별시 종로구 종로5가</td>\n",
       "      <td>배송완료</td>\n",
       "      <td>휴대폰결제</td>\n",
       "      <td>5000</td>\n",
       "      <td>11000.0</td>\n",
       "    </tr>\n",
       "    <tr>\n",
       "      <th>3</th>\n",
       "      <td>2018-1-1</td>\n",
       "      <td>지점3</td>\n",
       "      <td>제품D</td>\n",
       "      <td>7</td>\n",
       "      <td>C-307</td>\n",
       "      <td>서울특별시 서대문구 냉천동</td>\n",
       "      <td>주문완료</td>\n",
       "      <td>휴대폰결제</td>\n",
       "      <td>8000</td>\n",
       "      <td>61600.0</td>\n",
       "    </tr>\n",
       "    <tr>\n",
       "      <th>4</th>\n",
       "      <td>2018-1-1</td>\n",
       "      <td>지점2</td>\n",
       "      <td>제품E</td>\n",
       "      <td>9</td>\n",
       "      <td>C-342</td>\n",
       "      <td>서울특별시 종로구 묘동</td>\n",
       "      <td>배송완료</td>\n",
       "      <td>인터넷뱅킹</td>\n",
       "      <td>30000</td>\n",
       "      <td>297000.0</td>\n",
       "    </tr>\n",
       "  </tbody>\n",
       "</table>\n",
       "</div>"
      ],
      "text/plain": [
       "         일자   지점   품명  수량 주문인 ID           수령 주소 주문 상태  결제 수단     가격     주문 금액\n",
       "0  2018-1-1  지점1  제품B   3  C-168   서울특별시 동작구 흑석동  주문완료  인터넷뱅킹   5000   16500.0\n",
       "1  2018-1-1  지점2  제품F   8   C-87  서울특별시 서대문구 신촌동  배송완료   신용카드  15000  132000.0\n",
       "2  2018-1-1  지점4  제품B   2  C-158  서울특별시 종로구 종로5가  배송완료  휴대폰결제   5000   11000.0\n",
       "3  2018-1-1  지점3  제품D   7  C-307  서울특별시 서대문구 냉천동  주문완료  휴대폰결제   8000   61600.0\n",
       "4  2018-1-1  지점2  제품E   9  C-342    서울특별시 종로구 묘동  배송완료  인터넷뱅킹  30000  297000.0"
      ]
     },
     "execution_count": 21,
     "metadata": {},
     "output_type": "execute_result"
    }
   ],
   "source": [
    "merged_df.head()"
   ]
  },
  {
   "cell_type": "code",
   "execution_count": null,
   "metadata": {},
   "outputs": [],
   "source": []
  },
  {
   "cell_type": "code",
   "execution_count": null,
   "metadata": {},
   "outputs": [],
   "source": []
  },
  {
   "cell_type": "code",
   "execution_count": null,
   "metadata": {},
   "outputs": [],
   "source": []
  },
  {
   "cell_type": "code",
   "execution_count": null,
   "metadata": {},
   "outputs": [],
   "source": []
  },
  {
   "cell_type": "code",
   "execution_count": null,
   "metadata": {},
   "outputs": [],
   "source": []
  },
  {
   "cell_type": "code",
   "execution_count": null,
   "metadata": {},
   "outputs": [],
   "source": []
  },
  {
   "cell_type": "code",
   "execution_count": null,
   "metadata": {},
   "outputs": [],
   "source": []
  },
  {
   "cell_type": "code",
   "execution_count": null,
   "metadata": {},
   "outputs": [],
   "source": []
  },
  {
   "cell_type": "code",
   "execution_count": null,
   "metadata": {},
   "outputs": [],
   "source": []
  },
  {
   "cell_type": "code",
   "execution_count": null,
   "metadata": {},
   "outputs": [],
   "source": []
  },
  {
   "cell_type": "code",
   "execution_count": null,
   "metadata": {},
   "outputs": [],
   "source": []
  },
  {
   "cell_type": "code",
   "execution_count": null,
   "metadata": {},
   "outputs": [],
   "source": []
  },
  {
   "cell_type": "code",
   "execution_count": null,
   "metadata": {},
   "outputs": [],
   "source": []
  },
  {
   "cell_type": "code",
   "execution_count": null,
   "metadata": {},
   "outputs": [],
   "source": []
  },
  {
   "cell_type": "code",
   "execution_count": null,
   "metadata": {},
   "outputs": [],
   "source": []
  },
  {
   "cell_type": "code",
   "execution_count": null,
   "metadata": {},
   "outputs": [],
   "source": []
  },
  {
   "cell_type": "code",
   "execution_count": null,
   "metadata": {},
   "outputs": [],
   "source": []
  }
 ],
 "metadata": {
  "kernelspec": {
   "display_name": "Python 3",
   "language": "python",
   "name": "python3"
  },
  "language_info": {
   "codemirror_mode": {
    "name": "ipython",
    "version": 3
   },
   "file_extension": ".py",
   "mimetype": "text/x-python",
   "name": "python",
   "nbconvert_exporter": "python",
   "pygments_lexer": "ipython3",
   "version": "3.8.3"
  }
 },
 "nbformat": 4,
 "nbformat_minor": 4
}
