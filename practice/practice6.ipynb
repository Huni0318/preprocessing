{
 "cells": [
  {
   "cell_type": "code",
   "execution_count": 1,
   "metadata": {},
   "outputs": [],
   "source": [
    "import numpy as np\n",
    "from scipy.stats import *\n",
    "import pandas as pd"
   ]
  },
  {
   "cell_type": "code",
   "execution_count": 3,
   "metadata": {},
   "outputs": [
    {
     "name": "stdout",
     "output_type": "stream",
     "text": [
      "3.0\n",
      "3.0\n",
      "3.0\n"
     ]
    }
   ],
   "source": [
    "x = [1,2,3,4,5]\n",
    "print(np.mean(x))\n",
    "print(np.array(x).mean())\n",
    "print(pd.Series(x).mean())"
   ]
  },
  {
   "cell_type": "code",
   "execution_count": 4,
   "metadata": {},
   "outputs": [
    {
     "name": "stdout",
     "output_type": "stream",
     "text": [
      "0.21897810218978103\n",
      "0.21897810218978103\n"
     ]
    }
   ],
   "source": [
    "x = np.array([0.1,0.2,0.3,0.4,0.5])\n",
    "print(len(x) / np.sum(1/x))\n",
    "print(hmean(x))"
   ]
  },
  {
   "cell_type": "markdown",
   "metadata": {},
   "source": [
    "#### 절사 평균이 필요한 이유"
   ]
  },
  {
   "cell_type": "code",
   "execution_count": 5,
   "metadata": {},
   "outputs": [
    {
     "name": "stdout",
     "output_type": "stream",
     "text": [
      "1975248.1267816287\n"
     ]
    }
   ],
   "source": [
    "income = np.random.normal(2000000,500000,100)\n",
    "print(np.mean(income))"
   ]
  },
  {
   "cell_type": "code",
   "execution_count": 7,
   "metadata": {},
   "outputs": [
    {
     "name": "stdout",
     "output_type": "stream",
     "text": [
      "21544360.90860944\n"
     ]
    }
   ],
   "source": [
    "income = np.append(income, 10**9)\n",
    "print(np.mean(income))"
   ]
  },
  {
   "cell_type": "code",
   "execution_count": 8,
   "metadata": {},
   "outputs": [
    {
     "data": {
      "text/plain": [
       "1966665.4503017948"
      ]
     },
     "execution_count": 8,
     "metadata": {},
     "output_type": "execute_result"
    }
   ],
   "source": [
    "trim_mean(income, 0.2)"
   ]
  },
  {
   "cell_type": "markdown",
   "metadata": {},
   "source": [
    "#### 최빈값 계산"
   ]
  },
  {
   "cell_type": "code",
   "execution_count": 9,
   "metadata": {},
   "outputs": [
    {
     "data": {
      "text/plain": [
       "array(['A', 'B', 'B', 'C', 'C', 'A', 'B', 'A', 'A', 'A'], dtype='<U1')"
      ]
     },
     "execution_count": 9,
     "metadata": {},
     "output_type": "execute_result"
    }
   ],
   "source": [
    "x = np.random.choice(['A','B','C'], 1000) # A, B, C라는 요소로 구성\n",
    "x[:10]"
   ]
  },
  {
   "cell_type": "code",
   "execution_count": 10,
   "metadata": {},
   "outputs": [
    {
     "data": {
      "text/plain": [
       "ModeResult(mode=array(['A'], dtype='<U1'), count=array([379]))"
      ]
     },
     "execution_count": 10,
     "metadata": {},
     "output_type": "execute_result"
    }
   ],
   "source": [
    "mode(x)"
   ]
  },
  {
   "cell_type": "code",
   "execution_count": 11,
   "metadata": {},
   "outputs": [
    {
     "data": {
      "text/plain": [
       "array(['A'], dtype='<U1')"
      ]
     },
     "execution_count": 11,
     "metadata": {},
     "output_type": "execute_result"
    }
   ],
   "source": [
    "mode(x)[0]"
   ]
  },
  {
   "cell_type": "code",
   "execution_count": 12,
   "metadata": {},
   "outputs": [
    {
     "data": {
      "text/plain": [
       "array([379])"
      ]
     },
     "execution_count": 12,
     "metadata": {},
     "output_type": "execute_result"
    }
   ],
   "source": [
    "mode(x)[1]"
   ]
  },
  {
   "cell_type": "code",
   "execution_count": 15,
   "metadata": {},
   "outputs": [
    {
     "data": {
      "text/plain": [
       "'A'"
      ]
     },
     "execution_count": 15,
     "metadata": {},
     "output_type": "execute_result"
    }
   ],
   "source": [
    "pd.Series(x).value_counts().index[0]"
   ]
  },
  {
   "cell_type": "code",
   "execution_count": 1,
   "metadata": {},
   "outputs": [],
   "source": [
    "import numpy as np\n",
    "from scipy.stats import *\n",
    "import pandas as pd"
   ]
  },
  {
   "cell_type": "code",
   "execution_count": 3,
   "metadata": {},
   "outputs": [
    {
     "name": "stdout",
     "output_type": "stream",
     "text": [
      "2.5\n",
      "2.0\n",
      "2.0\n"
     ]
    }
   ],
   "source": [
    "x = [1,2,3,4,5]\n",
    "print(np.var(x, ddof = 1)) # 분모 = n - 1\n",
    "print(np.array(x).var())\n",
    "print(pd.Series(x).var(ddof = 0)) #분모 = n"
   ]
  },
  {
   "cell_type": "code",
   "execution_count": 4,
   "metadata": {},
   "outputs": [
    {
     "name": "stdout",
     "output_type": "stream",
     "text": [
      "1.5811388300841898\n",
      "1.4142135623730951\n",
      "1.5811388300841898\n"
     ]
    }
   ],
   "source": [
    "x = [1, 2, 3, 4, 5]\n",
    "print(np.std(x, ddof = 1))\n",
    "print(np.array(x).std())\n",
    "print(pd.Series(x).std(ddof = 1))"
   ]
  },
  {
   "cell_type": "markdown",
   "metadata": {},
   "source": [
    "#### 변동계수의 필요성"
   ]
  },
  {
   "cell_type": "code",
   "execution_count": 5,
   "metadata": {},
   "outputs": [
    {
     "name": "stdout",
     "output_type": "stream",
     "text": [
      "1.5811388300841898\n",
      "15.811388300841896\n"
     ]
    }
   ],
   "source": [
    "x1 = np.array([1, 2, 3, 4, 5])\n",
    "x2 = x1 * 10\n",
    "\n",
    "print(np.std(x1, ddof = 1))\n",
    "print(np.std(x2, ddof = 1))"
   ]
  },
  {
   "cell_type": "code",
   "execution_count": 6,
   "metadata": {},
   "outputs": [
    {
     "name": "stdout",
     "output_type": "stream",
     "text": [
      "0.47140452079103173\n",
      "0.4714045207910317\n"
     ]
    }
   ],
   "source": [
    "print(variation(x1))# 변동 계수\n",
    "print(variation(x2))"
   ]
  },
  {
   "cell_type": "code",
   "execution_count": 7,
   "metadata": {},
   "outputs": [
    {
     "name": "stdout",
     "output_type": "stream",
     "text": [
      "0.5270462766947299\n",
      "0.5270462766947299\n"
     ]
    }
   ],
   "source": [
    "print(np.std(x1,ddof = 1) / np.mean(x1))\n",
    "print(np.std(x2, ddof = 1) / np.mean(x2))"
   ]
  },
  {
   "cell_type": "code",
   "execution_count": 8,
   "metadata": {},
   "outputs": [
    {
     "name": "stdout",
     "output_type": "stream",
     "text": [
      "[-1.41421356 -0.70710678  0.          0.70710678  1.41421356]\n",
      "[-1.41421356 -0.70710678  0.          0.70710678  1.41421356]\n"
     ]
    }
   ],
   "source": [
    "z1 = (x1 - x1.mean()) / x1.std()\n",
    "z2 = (x2 - x2.mean()) / x2.std()\n",
    "\n",
    "print(z1)\n",
    "print(z2)"
   ]
  },
  {
   "cell_type": "code",
   "execution_count": 9,
   "metadata": {},
   "outputs": [
    {
     "data": {
      "text/html": [
       "<div>\n",
       "<style scoped>\n",
       "    .dataframe tbody tr th:only-of-type {\n",
       "        vertical-align: middle;\n",
       "    }\n",
       "\n",
       "    .dataframe tbody tr th {\n",
       "        vertical-align: top;\n",
       "    }\n",
       "\n",
       "    .dataframe thead th {\n",
       "        text-align: right;\n",
       "    }\n",
       "</style>\n",
       "<table border=\"1\" class=\"dataframe\">\n",
       "  <thead>\n",
       "    <tr style=\"text-align: right;\">\n",
       "      <th></th>\n",
       "      <th>X1</th>\n",
       "      <th>X2</th>\n",
       "    </tr>\n",
       "  </thead>\n",
       "  <tbody>\n",
       "    <tr>\n",
       "      <th>0</th>\n",
       "      <td>1</td>\n",
       "      <td>10</td>\n",
       "    </tr>\n",
       "    <tr>\n",
       "      <th>1</th>\n",
       "      <td>2</td>\n",
       "      <td>20</td>\n",
       "    </tr>\n",
       "    <tr>\n",
       "      <th>2</th>\n",
       "      <td>3</td>\n",
       "      <td>30</td>\n",
       "    </tr>\n",
       "    <tr>\n",
       "      <th>3</th>\n",
       "      <td>4</td>\n",
       "      <td>40</td>\n",
       "    </tr>\n",
       "    <tr>\n",
       "      <th>4</th>\n",
       "      <td>5</td>\n",
       "      <td>50</td>\n",
       "    </tr>\n",
       "  </tbody>\n",
       "</table>\n",
       "</div>"
      ],
      "text/plain": [
       "   X1  X2\n",
       "0   1  10\n",
       "1   2  20\n",
       "2   3  30\n",
       "3   4  40\n",
       "4   5  50"
      ]
     },
     "execution_count": 9,
     "metadata": {},
     "output_type": "execute_result"
    }
   ],
   "source": [
    "# sklearn을 이용한 스케일링\n",
    "X = pd.DataFrame({\"X1\":[1, 2, 3, 4, 5],\n",
    "    \"X2\": [10, 20, 30, 40, 50]})\n",
    "\n",
    "X"
   ]
  },
  {
   "cell_type": "code",
   "execution_count": 11,
   "metadata": {},
   "outputs": [
    {
     "data": {
      "text/html": [
       "<div>\n",
       "<style scoped>\n",
       "    .dataframe tbody tr th:only-of-type {\n",
       "        vertical-align: middle;\n",
       "    }\n",
       "\n",
       "    .dataframe tbody tr th {\n",
       "        vertical-align: top;\n",
       "    }\n",
       "\n",
       "    .dataframe thead th {\n",
       "        text-align: right;\n",
       "    }\n",
       "</style>\n",
       "<table border=\"1\" class=\"dataframe\">\n",
       "  <thead>\n",
       "    <tr style=\"text-align: right;\">\n",
       "      <th></th>\n",
       "      <th>0</th>\n",
       "      <th>1</th>\n",
       "    </tr>\n",
       "  </thead>\n",
       "  <tbody>\n",
       "    <tr>\n",
       "      <th>0</th>\n",
       "      <td>0.00</td>\n",
       "      <td>0.00</td>\n",
       "    </tr>\n",
       "    <tr>\n",
       "      <th>1</th>\n",
       "      <td>0.25</td>\n",
       "      <td>0.25</td>\n",
       "    </tr>\n",
       "    <tr>\n",
       "      <th>2</th>\n",
       "      <td>0.50</td>\n",
       "      <td>0.50</td>\n",
       "    </tr>\n",
       "    <tr>\n",
       "      <th>3</th>\n",
       "      <td>0.75</td>\n",
       "      <td>0.75</td>\n",
       "    </tr>\n",
       "    <tr>\n",
       "      <th>4</th>\n",
       "      <td>1.00</td>\n",
       "      <td>1.00</td>\n",
       "    </tr>\n",
       "  </tbody>\n",
       "</table>\n",
       "</div>"
      ],
      "text/plain": [
       "      0     1\n",
       "0  0.00  0.00\n",
       "1  0.25  0.25\n",
       "2  0.50  0.50\n",
       "3  0.75  0.75\n",
       "4  1.00  1.00"
      ]
     },
     "execution_count": 11,
     "metadata": {},
     "output_type": "execute_result"
    }
   ],
   "source": [
    "from sklearn.preprocessing import MinMaxScaler\n",
    "scaler = MinMaxScaler()\n",
    "Z = scaler.fit_transform(X) # fit_transform => ndarray\n",
    "pd.DataFrame(Z)"
   ]
  },
  {
   "cell_type": "code",
   "execution_count": 12,
   "metadata": {},
   "outputs": [
    {
     "data": {
      "text/plain": [
       "array([103.93625584, 135.6615789 , 120.68706552, 139.34069571,\n",
       "        78.83647238, 107.9974661 , 103.65753913, 113.32613786,\n",
       "        83.29372234,  96.02736989, 101.79881051, 107.72900369,\n",
       "        98.28011564,  99.38442094, 113.0689679 , 107.41631433,\n",
       "       110.03580247, 108.63543195, 143.90829467,  87.32080576,\n",
       "       101.94320733, 103.01372104, 103.73005522, 112.28681943,\n",
       "       105.00519933,  98.3736608 ,  90.29108663,  89.3791114 ,\n",
       "       112.43307271, 112.77711933,  82.20228468, 117.4503611 ,\n",
       "       109.25148147,  69.30962231,  94.79389334, 108.23929774,\n",
       "       112.22556706, 128.17845962,  83.61321706, 101.64138088,\n",
       "       116.62589884, 114.95359959,  82.20656082,  95.52910259,\n",
       "        74.50139019, 105.49661691,  80.53325149, 110.3037564 ,\n",
       "        93.45963308, 109.15433146, 140.76290052, 127.95715613,\n",
       "        71.16911407, 108.22146811,  69.8120612 , 113.78276439,\n",
       "       116.48727147,  98.06424659, 107.49797439, 100.56200667,\n",
       "       120.36756977,  87.08204196, 104.52989169,  96.0137002 ,\n",
       "        78.38620654,  92.18603676, 131.75633798,  95.49798589,\n",
       "       114.23583364,  62.96459808, 147.11274792,  66.96318747,\n",
       "       113.95613029,  60.24312756,  72.31579084,  67.84902565,\n",
       "        89.24590607, 111.11127734,  87.25492022,  52.33738704,\n",
       "        80.04940619,  69.4763877 ,  68.58629822, 100.34786399,\n",
       "        96.30147944, 114.31371401, 118.5610689 , 107.04497088,\n",
       "        98.46520901, 135.64255138, 137.27119619, 101.71643786,\n",
       "       150.81203602, 103.40326168, 113.18885431, 105.04887318,\n",
       "        99.75281648,  75.77888717, 110.05139526, 111.23487529,\n",
       "       123.04358909,  67.8752498 , 124.53613121,  85.84416502,\n",
       "        71.84729098, 150.69221271,  86.90678185, 117.88001864,\n",
       "       133.69000722,  74.21694022,  93.78450595, 113.18312106,\n",
       "        90.18071053, 121.372499  , 120.85015766,  98.59590661,\n",
       "       103.69240935,  70.31679331, 109.85760033,  91.65155668,\n",
       "        79.52953964, 106.77257002,  99.89432384,  92.43801884,\n",
       "        54.44122905,  85.79195356, 106.4675267 , 103.2498548 ,\n",
       "       105.4856759 , 112.75240153,  79.2246761 , 106.64499006,\n",
       "       128.20236856, 123.6779566 , 110.16876389,  97.17442753,\n",
       "        94.65203133,  77.46694188,  69.89314771,  87.53903827,\n",
       "       103.6181273 ,  97.6620146 , 106.47866495, 108.00701679,\n",
       "       118.30558607,  92.81923459,  89.94068872,  99.61803265,\n",
       "       128.85353477, 107.7772962 ,  98.83335838, 137.43268957,\n",
       "       108.71335635, 120.8870912 , 101.29054201, 101.95208624,\n",
       "        95.46413371, 135.03771011,  87.07509651,  94.58573667,\n",
       "        79.74178375,  71.81866019, 112.10384935,  80.9079849 ,\n",
       "       103.54816998,  81.12359523, 109.87591109, 119.24753761,\n",
       "        95.00399083, 117.53641498, 100.36345269,  85.37588933,\n",
       "        97.48491224,  94.80428653, 110.18654336, 122.98612143,\n",
       "        91.6129555 , 114.0485856 ,  95.17512502,  79.13546642,\n",
       "       104.91404515, 121.60389424,  94.79581519, 130.42845536,\n",
       "        93.01771841, 124.77636197, 122.59242397, 101.06078608,\n",
       "       111.05108508, 114.55644439,  96.71696382,  88.91119838,\n",
       "        90.13881135, 115.82203257, 108.21048525, 103.63144458,\n",
       "       100.99430078, 122.0355716 ,  95.70007315,  91.05937991,\n",
       "        80.28729252,  89.765723  ,  66.53152799, 116.99013428,\n",
       "        83.54404085, 118.62571718, 118.55764213, 117.90964094,\n",
       "       104.1725083 , 100.58717632,  84.07919292,  67.33286897,\n",
       "       108.1317239 ,  76.96001527,  90.05561889,  92.36165311,\n",
       "        95.79140846, 102.76253583,  99.61156222, 101.01017448,\n",
       "        84.63829452,  58.0983644 ,  69.73915239, 139.39899367,\n",
       "       114.70919189,  95.60379971,  94.92846655, 130.38994675,\n",
       "        73.75052628,  71.05616105,  89.05767001,  86.2051685 ,\n",
       "        57.91784769,  97.63997309, 109.84203256, 121.00641299,\n",
       "        49.0261992 , 134.45405868, 109.8962828 , 123.53656971,\n",
       "       106.69631161,  88.7905675 , 128.4802248 , 117.55422067,\n",
       "       112.98413715,  86.42130402,  83.7504433 , 103.18943505,\n",
       "        90.39831358, 128.38675031,  97.40314257,  87.97747701,\n",
       "       100.93651178,  65.7012834 , 107.24997974,  94.96513187,\n",
       "        79.13395131,  58.41298264, 125.28593386,  54.25797042,\n",
       "       117.23413483,  75.04205749, 101.16106965,  55.76024969,\n",
       "       100.22606451,  87.8653388 ,  73.00841849,  92.34374282,\n",
       "       117.60128402, 135.24333838, 125.77244884, 108.06613836,\n",
       "        64.38590102, 101.28519588, 102.41210521, 105.21983371,\n",
       "       102.41862468, 100.15653658,  65.07094794, 128.55693854,\n",
       "       107.73329045, 120.35290906, 126.4610507 ,  94.73353066,\n",
       "       116.64246452,  86.0696994 ,  81.41482343,  65.49523644,\n",
       "       139.34051576,  93.70901619,  73.83730405, 100.88408059,\n",
       "        75.18747673, 110.50738925, 107.4021107 , 112.60536362,\n",
       "       103.55334675, 139.42522251, 129.97636291, 123.1631714 ,\n",
       "       110.35550141,  62.81660981, 123.98071452,  84.55180164,\n",
       "       104.13933414,  67.19873469, 106.53923209, 114.33342785,\n",
       "        83.87695084, 106.46010471,  93.0171712 , 124.6773327 ,\n",
       "        76.66632062,  85.04895804,  92.47376651,  75.37666065,\n",
       "        97.49991407, 129.90238919, 102.60669517,  41.99726898,\n",
       "       112.91742019, 101.40259517,  71.69077468,  81.88623295,\n",
       "        95.94489974, 109.7903232 , 140.87330298, 117.0806527 ,\n",
       "       130.52416965, 112.66759032,  82.47970342, 112.02527046,\n",
       "       110.64761129, 102.86939825, 124.7894958 ,  94.46400621,\n",
       "        79.63108909, 113.4693926 , 117.71233552,  84.81052852,\n",
       "       110.21424377, 134.98139693,  92.95961484,  89.31310937,\n",
       "       111.83307087, 105.2336848 ,  90.26590886,  93.44356435,\n",
       "        95.46883831,  93.16072185,  82.4562726 , 125.51474788,\n",
       "       102.12358643, 102.10555898,  55.51455716,  91.08716794,\n",
       "        84.71290664,  80.98371682,  67.70526408, 108.25639094,\n",
       "        98.57048236,  88.24070734,  97.90052162, 128.4145392 ,\n",
       "       150.48334613,  82.01941152, 140.69333725,  75.91206207,\n",
       "       110.97565295, 101.92106582, 105.88583969,  84.03361949,\n",
       "        55.45466928,  92.60451788, 145.12106267,  63.65639501,\n",
       "        80.00528769, 112.52418281,  79.06070633,  95.95850772,\n",
       "       118.89877614, 101.44021204, 118.57155141,  79.19270788,\n",
       "       123.922034  ,  97.93697838,  96.70559458,  78.04159134,\n",
       "        82.82550584, 100.47545862, 106.35118645, 123.5926097 ,\n",
       "        99.27577151, 103.67263613, 113.52880711, 145.25477934,\n",
       "        92.99701822, 103.53633089,  76.92133133, 116.314752  ,\n",
       "        88.48020148, 105.46239329,  98.63821039, 125.11995864,\n",
       "        68.15210589,  83.36724113, 103.27984966, 103.32626127,\n",
       "       101.53814093,  96.53354804,  84.94534219, 117.67239541,\n",
       "        88.14910138,  85.44606395, 113.32375658,  89.57217041,\n",
       "       100.11834464, 102.47139838, 120.68944115, 120.95212413,\n",
       "        99.92537672, 113.77601554, 122.18143297,  76.54766064,\n",
       "       110.32343778,  98.88359616, 103.2084079 ,  85.75343061,\n",
       "        90.74205701, 133.36271465,  80.06726545,  86.1457038 ,\n",
       "        88.14452259,  90.23840411, 106.39805561,  95.86672314,\n",
       "       107.7213673 , 103.1451008 ,  48.26381028,  64.42393877,\n",
       "        47.32160542, 109.07488347, 118.38092506, 111.76427928,\n",
       "       120.35457211, 103.88353234,  60.64840544, 156.58317536,\n",
       "       108.23610401,  90.92683474,  69.24010827,  95.47451556,\n",
       "       106.67891436, 113.09115092, 109.7418691 ,  78.28195348,\n",
       "        88.91604731,  70.0921121 , 101.90342658, 100.65658539,\n",
       "       127.29680537,  75.83756869,  89.77822117,  88.403888  ,\n",
       "       104.62586207, 116.2194408 ,  88.73832975,  83.0683339 ,\n",
       "        83.15588756, 107.72692104, 106.97545889,  57.36895144,\n",
       "        82.2375085 ,  94.90360579,  99.57328132, 121.5950574 ,\n",
       "       104.57549017,  85.62602109, 127.04465763,  73.74090569,\n",
       "       100.43581009, 100.09639506,  95.82541603,  89.12340013,\n",
       "       107.74806453, 103.97036729, 101.1131761 ,  83.41340352,\n",
       "        94.2482931 , 102.59661974, 128.03017761,  92.6674681 ,\n",
       "        94.38194957, 102.90543364, 105.6528769 ,  85.34575081,\n",
       "       113.70748235,  99.7919963 ,  86.78613293,  55.51600014,\n",
       "       104.23532877,  88.0426194 ,  92.4196517 , 110.80062837,\n",
       "       105.53494938, 142.56443681, 103.74448573,  96.55869276,\n",
       "       105.2080881 , 101.19177458,  86.76888227, 130.77256714,\n",
       "        71.45986721, 120.3315906 , 111.33751027, 101.81902072,\n",
       "        87.39793096, 103.00172715,  90.62757666, 110.02056448,\n",
       "        93.06055902, 125.91943144, 123.96262011, 118.8830744 ,\n",
       "        85.07117184,  91.20466351, 131.30166713,  85.93659528,\n",
       "        84.55508019, 106.63662692, 114.54565492,  50.85245093,\n",
       "       120.27396585,  72.58983267, 104.15784298,  84.95713751,\n",
       "       120.75120168,  69.14154098, 107.68830367, 131.01865112,\n",
       "       143.11378479,  97.22962428,  93.00567859, 107.74252737,\n",
       "        91.94572423,  69.52979267,  72.98408931,  99.20458238,\n",
       "        80.59371705, 126.68701343,  94.73298851,  70.11589447,\n",
       "        71.98556942,  73.24765269,  85.53904575,  93.31073429,\n",
       "        95.6934624 , 105.3329944 ,  84.58093793, 135.74163207,\n",
       "       115.1043187 , 107.21382943,  69.42470502, 119.38439242,\n",
       "       137.71395159,  88.03579311, 111.70528478, 106.38939997,\n",
       "       110.23678387,  73.85071413,  76.8845024 , 105.60957655,\n",
       "        99.53503536, 131.02048041,  68.40829179, 131.80435528,\n",
       "        71.03367381,  57.34568147, 112.78277999, 141.78603682,\n",
       "        89.80005636,  45.18632601, 115.17099601,  65.12823557,\n",
       "       100.03036285, 100.6363394 , 118.11262106,  96.44126604,\n",
       "        82.2781062 ,  95.10872103,  58.64317638,  98.55435613,\n",
       "       120.59659866, 107.03255807,  98.66490602,  92.89328884,\n",
       "        62.18382253, 102.39376313, 136.94839853, 133.02675568,\n",
       "        59.47941038, 126.33568655, 120.03983795,  97.5515239 ,\n",
       "       135.7021683 , 127.68085918,  81.64593662, 100.4520058 ,\n",
       "        92.56105453,  89.69790785, 116.14056448,  70.25599418,\n",
       "        57.95021244, 119.11028583,  86.39489089, 108.93618512,\n",
       "       133.40704107, 125.42875082,  97.61435143,  89.51508084,\n",
       "        91.26291018, 133.64460331,  79.27654187,  86.05695286,\n",
       "       115.49388041, 100.89143522, 110.39761103, 100.94832951,\n",
       "        94.8382669 , 136.32987646, 100.39581195,  87.30090679,\n",
       "        80.62233563,  64.79334355, 107.05177683,  74.84434711,\n",
       "       104.5754502 ,  78.35967244,  80.30166237, 127.32572948,\n",
       "       104.43764624, 107.59762574, 102.08768261, 133.81918382,\n",
       "       109.9261087 ,  92.62286913, 107.15517119, 111.22635564,\n",
       "        91.19736502,  72.69153542, 104.22320867, 107.94636131,\n",
       "       110.52687123,  88.17747889,  95.60472871,  81.360593  ,\n",
       "        79.04523656,  68.10841272, 134.32468089,  82.13462086,\n",
       "        72.24111494,  48.69245914,  90.85035255,  47.72403305,\n",
       "        95.94181956, 102.16078752,  93.65363871,  61.70607137,\n",
       "        85.35388172,  76.66403098, 104.81022692,  67.82957348,\n",
       "        91.72130949,  82.35306256, 128.81222557, 115.94669216,\n",
       "       112.90748893, 115.12748103, 105.11563256, 105.20647086,\n",
       "       135.05563096, 112.2447532 ,  42.13465832,  61.65818389,\n",
       "       105.04591226,  94.6542225 , 109.29917973, 100.01462294,\n",
       "       105.71639514,  89.11405229,  95.43367026,  75.48870762,\n",
       "       126.29835423, 106.58262037, 110.7960722 , 100.42990769,\n",
       "        87.3243871 , 135.30846712, 125.91414401,  98.19906549,\n",
       "       113.78885674,  94.71197293, 109.66705793,  87.23041594,\n",
       "        74.27307451,  99.20721084, 119.549497  , 106.22592595,\n",
       "       124.31874281,  85.87500073, 105.94667004,  93.88583105,\n",
       "       102.64015118, 108.89408956,  90.09518693, 104.6558379 ,\n",
       "       111.32717987,  88.08767789, 123.08878195,  80.46398273,\n",
       "       107.15011664, 123.28052921,  92.2457506 , 111.96742513,\n",
       "        96.0291798 , 111.52027841, 109.09503269,  95.47924021,\n",
       "       101.94098592, 139.07127715, 133.70941912,  70.29607745,\n",
       "       115.15418959,  82.0833506 , 100.42578096, 122.58900772,\n",
       "       105.61323968,  97.80114564, 122.00713157,  99.41487057,\n",
       "       121.59875925,  81.10036818, 110.51950459,  92.09210079,\n",
       "        69.09727062, 119.50525186, 102.85007861, 106.01894506,\n",
       "        85.24032283, 108.16475079, 100.80824665,  63.50127241,\n",
       "        99.01922823, 100.82336096,  59.36513998,  97.7881017 ,\n",
       "       123.69021135, 102.23007418,  94.85585949, 104.80576414,\n",
       "        96.4864256 , 167.99374815,  82.82642628,  88.24904135,\n",
       "       106.02777301, 119.20138289,  88.70414173,  85.11009592,\n",
       "        98.43385107,  78.08097963, 124.10188483, 105.51003139,\n",
       "       103.49599166, 104.66299568, 115.68936435,  74.39715034,\n",
       "       120.34615646, 140.69090643, 133.95751552,  91.92622874,\n",
       "        65.06245964, 114.37246218, 135.85810589,  78.29261575,\n",
       "       139.65735366,  95.12722955, 117.02651233, 105.90496081,\n",
       "        99.87974061,  78.01390831, 103.37003173,  96.35441931,\n",
       "       121.4430051 ,  85.82989819,  87.17196013,  98.02432076,\n",
       "       140.4900832 ,  76.2106566 ,  75.92549803, 130.33910337,\n",
       "        97.20078841,  90.50699915,  79.3926259 ,  79.86090799,\n",
       "       104.32411393,  93.90076572, 126.10657224, 119.65461639,\n",
       "       144.36149353, 102.15939735, 138.00935136, 109.60238655,\n",
       "       121.61691168,  95.37739274,  99.48577028, 100.32827801,\n",
       "       108.04696184,  70.53496986, 117.43309519,  73.1944003 ,\n",
       "        90.19087517,  66.70843989, 134.88570756,  95.92249945,\n",
       "       120.29339124,  94.21945165,  98.55121924, 112.2823257 ,\n",
       "        84.95015484,  77.47847592, 120.94986974, 107.55183693,\n",
       "        88.44151928, 128.25840357, 102.67916438, 100.88837465,\n",
       "        97.98226187, 103.31190776, 109.19634013, 122.32743319,\n",
       "       131.25215437,  70.76560553, 110.69134763, 105.6972371 ,\n",
       "        80.46137176,  79.68786956, 107.61126217,  88.95686884,\n",
       "        74.68700346,  90.38721528,  72.28944416, 132.30632063,\n",
       "        64.38391843,  85.21173317, 133.99454562,  92.51479003,\n",
       "       135.36303253, 112.77614322, 132.24328966,  88.14998616,\n",
       "        63.53417639, 109.89203557, 106.22835146,  97.89904186,\n",
       "       105.95737706, 108.40489268, 148.29479431, 110.30737046,\n",
       "       113.42331197,  99.05554691,  75.20561015, 141.41261734,\n",
       "        63.84633844,  87.25175728, 101.29836169,  98.83007784,\n",
       "       126.83744315, 114.52115907,  90.42562188, 109.22427011,\n",
       "       111.73821068, 105.75072131, 112.27266884, 106.68325143,\n",
       "       136.35978342,  96.32088095, 120.96805883, 121.03638138,\n",
       "        68.68421145, 101.45914744, 100.7288373 ,  73.85516431,\n",
       "        64.33536884, 130.7981536 , 100.83517248, 110.1086168 ,\n",
       "       104.19773087,  83.94068302, 101.65114352, 105.05359272,\n",
       "       129.74140606, 136.8601515 , 110.04227357, 106.35712312,\n",
       "       118.43556128,  85.18913991,  97.86947792,  92.91444072,\n",
       "       107.57813316, 107.17060607,  79.89225416, 102.59761315,\n",
       "        83.84227607, 126.01084015, 110.79105433,  83.4652794 ,\n",
       "       115.71254937,  96.22816493,  64.10189581,  94.55715243,\n",
       "       143.70255473, 121.89636791, 127.34960685,  99.0416469 ,\n",
       "        79.38953583,  84.89522116, 113.00789133, 123.48247383,\n",
       "        71.61856875,  87.24632683,  94.78416736, 119.47407935,\n",
       "       102.86860052,  67.69411631,  99.40996633, 113.29277017,\n",
       "       137.33021991, 131.83118948, 124.47433022,  85.06426919,\n",
       "       131.08152597,  96.42872797, 118.95017809, 103.28306844,\n",
       "        84.39795797, 105.75983758,  51.08047113, 129.49483391,\n",
       "        78.15615659, 125.64959748, 122.17779556, 124.75425514,\n",
       "        91.72243077,  53.52173383, 109.54779825,  86.21875184,\n",
       "       108.90006198,  91.85471263,  68.21632478, 100.54435935,\n",
       "        74.34276614,  77.05301138,  88.11908179,  97.96800687,\n",
       "        90.93820615, 101.63856213,  94.72266669, 101.79227337,\n",
       "        79.52966111,  74.83164553, 108.91447649, 122.4300262 ,\n",
       "        89.86940068, 113.32203241,  97.40801403, 108.01932562,\n",
       "        81.48085576,  99.33603141,  87.06550647, 123.60982553,\n",
       "       127.06174238,  91.05150111,  92.10872552,  74.16297239,\n",
       "       114.71563078, 129.80274886,  78.46874608, 122.39832078,\n",
       "       120.69907085, 105.80995236,  87.33816604,  88.68837949,\n",
       "       106.31812479,  91.47395212,  71.64455703, 101.01486901,\n",
       "       114.80250774, 117.66296476, 117.39691471, 114.0678225 ])"
      ]
     },
     "execution_count": 12,
     "metadata": {},
     "output_type": "execute_result"
    }
   ],
   "source": [
    "x = np.random.normal(100, 20, size = 1000)\n",
    "x"
   ]
  },
  {
   "cell_type": "code",
   "execution_count": 13,
   "metadata": {},
   "outputs": [
    {
     "name": "stdout",
     "output_type": "stream",
     "text": [
      "125.99647917102816\n",
      "125.99647917102816\n"
     ]
    }
   ],
   "source": [
    "print(np.ptp(x))\n",
    "print(np.max(x) - np.min(x))"
   ]
  },
  {
   "cell_type": "code",
   "execution_count": 14,
   "metadata": {},
   "outputs": [
    {
     "name": "stdout",
     "output_type": "stream",
     "text": [
      "25.69175031971082\n",
      "25.69175031971082\n"
     ]
    }
   ],
   "source": [
    "print(np.quantile(x, 0.75) - np.quantile(x, 0.25))\n",
    "print(iqr(x))"
   ]
  },
  {
   "cell_type": "markdown",
   "metadata": {},
   "source": [
    "#### 백분위수 및 사분위수 계산"
   ]
  },
  {
   "cell_type": "code",
   "execution_count": 15,
   "metadata": {},
   "outputs": [
    {
     "name": "stdout",
     "output_type": "stream",
     "text": [
      "[ 1  2  3  4  5  6  7  8  9 10 11]\n"
     ]
    }
   ],
   "source": [
    "x = np.arange(1, 12 , 1)\n",
    "print(x)"
   ]
  },
  {
   "cell_type": "code",
   "execution_count": 16,
   "metadata": {},
   "outputs": [
    {
     "name": "stdout",
     "output_type": "stream",
     "text": [
      "2.0\n",
      "2.0\n"
     ]
    }
   ],
   "source": [
    "print(np.percentile(x, 10))\n",
    "print(np.quantile(x, 0.1))"
   ]
  },
  {
   "cell_type": "code",
   "execution_count": 17,
   "metadata": {},
   "outputs": [
    {
     "name": "stdout",
     "output_type": "stream",
     "text": [
      "3.5\n",
      "3.5\n"
     ]
    }
   ],
   "source": [
    "print(np.percentile(x,25))\n",
    "print(np.quantile(x,0.25))"
   ]
  },
  {
   "cell_type": "markdown",
   "metadata": {},
   "source": [
    "#### 왜도 계산"
   ]
  },
  {
   "cell_type": "code",
   "execution_count": 18,
   "metadata": {},
   "outputs": [],
   "source": [
    "%matplotlib inline\n",
    "from matplotlib import pyplot as plt\n",
    "x1 = [1] * 30 + [2] * 20 + [3] * 20 + [4] * 15 + [5] * 15 # 좌측으로 치우침\n",
    "x2 = [1] * 15 + [2] * 20 + [3] * 30 + [4] * 20 + [5] * 15 # 치우치지 않음\n",
    "x3 = [1] * 15 + [2] * 15 + [3] * 20 + [4] * 20 + [5] * 30 # 우측으로 치우침"
   ]
  },
  {
   "cell_type": "code",
   "execution_count": 19,
   "metadata": {},
   "outputs": [
    {
     "data": {
      "text/plain": [
       "1    30\n",
       "2    20\n",
       "3    20\n",
       "4    15\n",
       "5    15\n",
       "dtype: int64"
      ]
     },
     "execution_count": 19,
     "metadata": {},
     "output_type": "execute_result"
    }
   ],
   "source": [
    "pd.Series(x1).value_counts(sort = False)"
   ]
  },
  {
   "cell_type": "code",
   "execution_count": 20,
   "metadata": {},
   "outputs": [
    {
     "data": {
      "text/plain": [
       "<matplotlib.axes._subplots.AxesSubplot at 0x18bf05032e0>"
      ]
     },
     "execution_count": 20,
     "metadata": {},
     "output_type": "execute_result"
    },
    {
     "data": {
      "image/png": "[encoded data removed]",
      "text/plain": [
       "<Figure size 432x288 with 1 Axes>"
      ]
     },
     "metadata": {
      "needs_background": "light"
     },
     "output_type": "display_data"
    }
   ],
   "source": [
    "pd.Series(x1).value_counts(sort = False).plot(kind = 'bar')"
   ]
  },
  {
   "cell_type": "code",
   "execution_count": 21,
   "metadata": {},
   "outputs": [
    {
     "data": {
      "text/plain": [
       "<matplotlib.axes._subplots.AxesSubplot at 0x18bf25d29d0>"
      ]
     },
     "execution_count": 21,
     "metadata": {},
     "output_type": "execute_result"
    },
    {
     "data": {
      "image/png": "[encoded data removed]",
      "text/plain": [
       "<Figure size 432x288 with 1 Axes>"
      ]
     },
     "metadata": {
      "needs_background": "light"
     },
     "output_type": "display_data"
    }
   ],
   "source": [
    "pd.Series(x2).value_counts(sort = False).plot(kind = 'bar')"
   ]
  },
  {
   "cell_type": "code",
   "execution_count": 22,
   "metadata": {},
   "outputs": [
    {
     "data": {
      "text/plain": [
       "<matplotlib.axes._subplots.AxesSubplot at 0x18bf2639ac0>"
      ]
     },
     "execution_count": 22,
     "metadata": {},
     "output_type": "execute_result"
    },
    {
     "data": {
      "image/png": "[encoded data removed]",
      "text/plain": [
       "<Figure size 432x288 with 1 Axes>"
      ]
     },
     "metadata": {
      "needs_background": "light"
     },
     "output_type": "display_data"
    }
   ],
   "source": [
    "pd.Series(x3).value_counts(sort = False).plot(kind = 'bar')"
   ]
  },
  {
   "cell_type": "code",
   "execution_count": 24,
   "metadata": {},
   "outputs": [
    {
     "name": "stdout",
     "output_type": "stream",
     "text": [
      "좌로 치우쳤을 때 왜도: 0.3192801008486361\n",
      "치우치지 않았을 때 왜도: 0.0\n",
      "우로 치우친 왜도: -0.31928010084863606\n"
     ]
    }
   ],
   "source": [
    "print(\"좌로 치우쳤을 때 왜도:\", skew(x1))\n",
    "print(\"치우치지 않았을 때 왜도:\", skew(x2))\n",
    "print(\"우로 치우친 왜도:\", skew(x3))"
   ]
  },
  {
   "cell_type": "code",
   "execution_count": 25,
   "metadata": {},
   "outputs": [],
   "source": [
    "x1 = [1] * 20 + [2] * 20 + [3] * 20 + [4] * 20 + [5] * 20 # 전혀 뾰족하지 않음\n",
    "x2 = [1] * 10 + [2] * 20 + [3] * 40 + [4] * 20 + [5] * 10 # 조금 뾰족\n",
    "x3 = [1] * 5 + [2] * 15 + [3] * 60 + [4] * 15 + [5] * 5 # 매우 뾰족"
   ]
  },
  {
   "cell_type": "code",
   "execution_count": 26,
   "metadata": {},
   "outputs": [
    {
     "data": {
      "text/plain": [
       "<matplotlib.axes._subplots.AxesSubplot at 0x18bf26a1a30>"
      ]
     },
     "execution_count": 26,
     "metadata": {},
     "output_type": "execute_result"
    },
    {
     "data": {
      "image/png": "[encoded data removed]",
      "text/plain": [
       "<Figure size 432x288 with 1 Axes>"
      ]
     },
     "metadata": {
      "needs_background": "light"
     },
     "output_type": "display_data"
    }
   ],
   "source": [
    "pd.Series(x1).value_counts(sort = False).plot(kind = 'bar')"
   ]
  },
  {
   "cell_type": "code",
   "execution_count": 27,
   "metadata": {},
   "outputs": [
    {
     "data": {
      "text/plain": [
       "<matplotlib.axes._subplots.AxesSubplot at 0x18bf2708a90>"
      ]
     },
     "execution_count": 27,
     "metadata": {},
     "output_type": "execute_result"
    },
    {
     "data": {
      "image/png": "[encoded data removed]",
      "text/plain": [
       "<Figure size 432x288 with 1 Axes>"
      ]
     },
     "metadata": {
      "needs_background": "light"
     },
     "output_type": "display_data"
    }
   ],
   "source": [
    "pd.Series(x2).value_counts(sort = False).plot(kind = 'bar')"
   ]
  },
  {
   "cell_type": "code",
   "execution_count": 28,
   "metadata": {},
   "outputs": [
    {
     "data": {
      "text/plain": [
       "<matplotlib.axes._subplots.AxesSubplot at 0x18bf2763370>"
      ]
     },
     "execution_count": 28,
     "metadata": {},
     "output_type": "execute_result"
    },
    {
     "data": {
      "image/png": "[encoded data removed]",
      "text/plain": [
       "<Figure size 432x288 with 1 Axes>"
      ]
     },
     "metadata": {
      "needs_background": "light"
     },
     "output_type": "display_data"
    }
   ],
   "source": [
    "pd.Series(x3).value_counts(sort = False).plot(kind = 'bar')"
   ]
  },
  {
   "cell_type": "code",
   "execution_count": 29,
   "metadata": {},
   "outputs": [
    {
     "name": "stdout",
     "output_type": "stream",
     "text": [
      "전혀 뾰족하지 않을 때 (평평할 때) 첨도: -1.3\n",
      "조금 뾰족할 때 첨도: -0.5\n",
      "매우 뾰족할 때 첨도: 0.8775510204081636\n"
     ]
    }
   ],
   "source": [
    "print(\"전혀 뾰족하지 않을 때 (평평할 때) 첨도:\", kurtosis(x1))\n",
    "print(\"조금 뾰족할 때 첨도:\", kurtosis(x2))\n",
    "print(\"매우 뾰족할 때 첨도:\", kurtosis(x3))"
   ]
  },
  {
   "cell_type": "code",
   "execution_count": 30,
   "metadata": {},
   "outputs": [],
   "source": [
    "import os\n",
    "os.chdir(r'C:\\Users\\신상훈\\Desktop\\preprocessing\\part-2.-탐색적-데이터-분석\\2. 탐색적 데이터 분석\\데이터')\n",
    "\n",
    "with open('성인여성_키_데이터.txt', 'r') as f:\n",
    "    data = f.read().split('\\n')\n",
    "    data = list(map(float, data))"
   ]
  },
  {
   "cell_type": "code",
   "execution_count": 31,
   "metadata": {},
   "outputs": [
    {
     "data": {
      "text/plain": [
       "[150.27, 142.94, 160.99]"
      ]
     },
     "execution_count": 31,
     "metadata": {},
     "output_type": "execute_result"
    }
   ],
   "source": [
    "data[:3]"
   ]
  },
  {
   "cell_type": "code",
   "execution_count": 32,
   "metadata": {},
   "outputs": [
    {
     "data": {
      "text/plain": [
       "KstestResult(statistic=1.0, pvalue=0.0)"
      ]
     },
     "execution_count": 32,
     "metadata": {},
     "output_type": "execute_result"
    }
   ],
   "source": [
    "# 정규성 검정\n",
    "from scipy.stats import *\n",
    "kstest(data, 'norm')"
   ]
  },
  {
   "cell_type": "code",
   "execution_count": 33,
   "metadata": {},
   "outputs": [
    {
     "name": "stdout",
     "output_type": "stream",
     "text": [
      "Ttest_1sampResult(statistic=-2.979804412662668, pvalue=0.006510445335847954)\n"
     ]
    }
   ],
   "source": [
    "# 단일 표본 t 검정 수행\n",
    "print(ttest_1samp(data,163))"
   ]
  },
  {
   "cell_type": "code",
   "execution_count": 35,
   "metadata": {},
   "outputs": [
    {
     "data": {
      "text/html": [
       "<div>\n",
       "<style scoped>\n",
       "    .dataframe tbody tr th:only-of-type {\n",
       "        vertical-align: middle;\n",
       "    }\n",
       "\n",
       "    .dataframe tbody tr th {\n",
       "        vertical-align: top;\n",
       "    }\n",
       "\n",
       "    .dataframe thead th {\n",
       "        text-align: right;\n",
       "    }\n",
       "</style>\n",
       "<table border=\"1\" class=\"dataframe\">\n",
       "  <thead>\n",
       "    <tr style=\"text-align: right;\">\n",
       "      <th></th>\n",
       "      <th>반</th>\n",
       "      <th>점수</th>\n",
       "    </tr>\n",
       "  </thead>\n",
       "  <tbody>\n",
       "    <tr>\n",
       "      <th>0</th>\n",
       "      <td>A</td>\n",
       "      <td>73</td>\n",
       "    </tr>\n",
       "    <tr>\n",
       "      <th>1</th>\n",
       "      <td>A</td>\n",
       "      <td>69</td>\n",
       "    </tr>\n",
       "    <tr>\n",
       "      <th>2</th>\n",
       "      <td>A</td>\n",
       "      <td>71</td>\n",
       "    </tr>\n",
       "    <tr>\n",
       "      <th>3</th>\n",
       "      <td>A</td>\n",
       "      <td>71</td>\n",
       "    </tr>\n",
       "    <tr>\n",
       "      <th>4</th>\n",
       "      <td>A</td>\n",
       "      <td>73</td>\n",
       "    </tr>\n",
       "  </tbody>\n",
       "</table>\n",
       "</div>"
      ],
      "text/plain": [
       "   반  점수\n",
       "0  A  73\n",
       "1  A  69\n",
       "2  A  71\n",
       "3  A  71\n",
       "4  A  73"
      ]
     },
     "execution_count": 35,
     "metadata": {},
     "output_type": "execute_result"
    }
   ],
   "source": [
    "import pandas as pd\n",
    "df1 = pd.read_csv('반별_점수_type1.csv', engine = 'python')\n",
    "df1.head()"
   ]
  },
  {
   "cell_type": "code",
   "execution_count": 36,
   "metadata": {},
   "outputs": [
    {
     "name": "stdout",
     "output_type": "stream",
     "text": [
      "[73 69 71 71 73 67 73 69 62 74 68 66 70 82 70 65 76 73 58 81]\n",
      "[63 56 73 61 55 77 75 65 61 55]\n"
     ]
    }
   ],
   "source": [
    "group_A = df1['점수'].loc[df1['반'] == 'A'].values\n",
    "group_B = df1['점수'].loc[df1['반'] == 'B'].values\n",
    "\n",
    "print(group_A)\n",
    "print(group_B)"
   ]
  },
  {
   "cell_type": "code",
   "execution_count": 37,
   "metadata": {},
   "outputs": [
    {
     "name": "stdout",
     "output_type": "stream",
     "text": [
      "KstestResult(statistic=1.0, pvalue=0.0)\n",
      "KstestResult(statistic=1.0, pvalue=0.0)\n"
     ]
    }
   ],
   "source": [
    "print(kstest(group_A, 'norm'))\n",
    "print(kstest(group_B, 'norm'))"
   ]
  },
  {
   "cell_type": "code",
   "execution_count": 38,
   "metadata": {},
   "outputs": [
    {
     "data": {
      "text/plain": [
       "LeveneResult(statistic=2.033067087400979, pvalue=0.164964086222101)"
      ]
     },
     "execution_count": 38,
     "metadata": {},
     "output_type": "execute_result"
    }
   ],
   "source": [
    "# 등분산 검정\n",
    "levene(group_A, group_B)"
   ]
  },
  {
   "cell_type": "code",
   "execution_count": 39,
   "metadata": {},
   "outputs": [
    {
     "data": {
      "text/plain": [
       "32.26052631578948"
      ]
     },
     "execution_count": 39,
     "metadata": {},
     "output_type": "execute_result"
    }
   ],
   "source": [
    "import numpy as np\n",
    "np.var(group_A, None, ddof = 1)"
   ]
  },
  {
   "cell_type": "code",
   "execution_count": 40,
   "metadata": {},
   "outputs": [
    {
     "name": "stdout",
     "output_type": "stream",
     "text": [
      "Ttest_indResult(statistic=2.5128526794964134, pvalue=0.01801095352893767)\n"
     ]
    }
   ],
   "source": [
    "print(ttest_ind(group_A,group_B, equal_var = True))"
   ]
  },
  {
   "cell_type": "code",
   "execution_count": 41,
   "metadata": {},
   "outputs": [
    {
     "data": {
      "text/html": [
       "<div>\n",
       "<style scoped>\n",
       "    .dataframe tbody tr th:only-of-type {\n",
       "        vertical-align: middle;\n",
       "    }\n",
       "\n",
       "    .dataframe tbody tr th {\n",
       "        vertical-align: top;\n",
       "    }\n",
       "\n",
       "    .dataframe thead th {\n",
       "        text-align: right;\n",
       "    }\n",
       "</style>\n",
       "<table border=\"1\" class=\"dataframe\">\n",
       "  <thead>\n",
       "    <tr style=\"text-align: right;\">\n",
       "      <th></th>\n",
       "      <th>A반</th>\n",
       "      <th>B반</th>\n",
       "    </tr>\n",
       "  </thead>\n",
       "  <tbody>\n",
       "    <tr>\n",
       "      <th>0</th>\n",
       "      <td>73</td>\n",
       "      <td>63.0</td>\n",
       "    </tr>\n",
       "    <tr>\n",
       "      <th>1</th>\n",
       "      <td>69</td>\n",
       "      <td>56.0</td>\n",
       "    </tr>\n",
       "    <tr>\n",
       "      <th>2</th>\n",
       "      <td>71</td>\n",
       "      <td>73.0</td>\n",
       "    </tr>\n",
       "    <tr>\n",
       "      <th>3</th>\n",
       "      <td>71</td>\n",
       "      <td>61.0</td>\n",
       "    </tr>\n",
       "    <tr>\n",
       "      <th>4</th>\n",
       "      <td>73</td>\n",
       "      <td>55.0</td>\n",
       "    </tr>\n",
       "  </tbody>\n",
       "</table>\n",
       "</div>"
      ],
      "text/plain": [
       "   A반    B반\n",
       "0  73  63.0\n",
       "1  69  56.0\n",
       "2  71  73.0\n",
       "3  71  61.0\n",
       "4  73  55.0"
      ]
     },
     "execution_count": 41,
     "metadata": {},
     "output_type": "execute_result"
    }
   ],
   "source": [
    "df2 = pd.read_csv(\"반별_점수_type2.csv\", engine = \"python\")\n",
    "df2.head()"
   ]
  },
  {
   "cell_type": "code",
   "execution_count": 42,
   "metadata": {},
   "outputs": [],
   "source": [
    "# 길이가 달라서 결측이 발생할 수 있으므로, 결측을 제거한 뒤 각 컬럼을 group_A와 group_B에 저장\n",
    "group_A = df2['A반'].dropna().values\n",
    "group_B = df2['B반'].dropna().values"
   ]
  },
  {
   "cell_type": "code",
   "execution_count": 43,
   "metadata": {},
   "outputs": [
    {
     "data": {
      "text/plain": [
       "array([73, 69, 71, 71, 73, 67, 73, 69, 62, 74, 68, 66, 70, 82, 70, 65, 76,\n",
       "       73, 58, 81], dtype=int64)"
      ]
     },
     "execution_count": 43,
     "metadata": {},
     "output_type": "execute_result"
    }
   ],
   "source": [
    "group_A"
   ]
  },
  {
   "cell_type": "code",
   "execution_count": 44,
   "metadata": {},
   "outputs": [
    {
     "data": {
      "text/plain": [
       "array([63., 56., 73., 61., 55., 77., 75., 65., 61., 55.])"
      ]
     },
     "execution_count": 44,
     "metadata": {},
     "output_type": "execute_result"
    }
   ],
   "source": [
    "group_B"
   ]
  },
  {
   "cell_type": "code",
   "execution_count": 45,
   "metadata": {},
   "outputs": [
    {
     "name": "stdout",
     "output_type": "stream",
     "text": [
      "Ttest_indResult(statistic=2.5128526794964134, pvalue=0.01801095352893767)\n"
     ]
    }
   ],
   "source": [
    "# A와 B간에는 차이가 존재함을 확인 \n",
    "print(ttest_ind(group_A, group_B, equal_var = True)) "
   ]
  },
  {
   "cell_type": "code",
   "execution_count": 46,
   "metadata": {},
   "outputs": [],
   "source": [
    "import os\n",
    "import pandas as pd\n",
    "os.chdir(r'C:\\Users\\신상훈\\Desktop\\preprocessing\\part-2.-탐색적-데이터-분석\\2. 탐색적 데이터 분석\\데이터')"
   ]
  },
  {
   "cell_type": "code",
   "execution_count": 47,
   "metadata": {},
   "outputs": [],
   "source": [
    "df = pd.read_csv('다이어트약_효과검증.csv')"
   ]
  },
  {
   "cell_type": "code",
   "execution_count": 48,
   "metadata": {},
   "outputs": [
    {
     "data": {
      "text/plain": [
       "Index(['다이어트전(kg)', '다이어트후(kg)'], dtype='object')"
      ]
     },
     "execution_count": 48,
     "metadata": {},
     "output_type": "execute_result"
    }
   ],
   "source": [
    "df.columns"
   ]
  },
  {
   "cell_type": "code",
   "execution_count": 49,
   "metadata": {},
   "outputs": [],
   "source": [
    "before = df['다이어트전(kg)']\n",
    "after = df['다이어트후(kg)']"
   ]
  },
  {
   "cell_type": "code",
   "execution_count": 50,
   "metadata": {},
   "outputs": [
    {
     "data": {
      "text/plain": [
       "KstestResult(statistic=0.7424620196514834, pvalue=7.04108433205159e-29)"
      ]
     },
     "execution_count": 50,
     "metadata": {},
     "output_type": "execute_result"
    }
   ],
   "source": [
    "# 정규성 검정\n",
    "from scipy.stats import *\n",
    "kstest(after - before, 'norm')"
   ]
  },
  {
   "cell_type": "code",
   "execution_count": 51,
   "metadata": {},
   "outputs": [
    {
     "data": {
      "text/plain": [
       "Ttest_relResult(statistic=9.70596986565785, pvalue=5.370404098342324e-13)"
      ]
     },
     "execution_count": 51,
     "metadata": {},
     "output_type": "execute_result"
    }
   ],
   "source": [
    "ttest_rel(before, after) # 확실한 양의 효가"
   ]
  },
  {
   "cell_type": "code",
   "execution_count": 52,
   "metadata": {},
   "outputs": [],
   "source": [
    "import pandas as pd\n",
    "import os\n",
    "os.chdir(r'C:\\Users\\신상훈\\Desktop\\preprocessing\\part-2.-탐색적-데이터-분석\\2. 탐색적 데이터 분석\\데이터')"
   ]
  },
  {
   "cell_type": "code",
   "execution_count": 53,
   "metadata": {},
   "outputs": [
    {
     "data": {
      "text/html": [
       "<div>\n",
       "<style scoped>\n",
       "    .dataframe tbody tr th:only-of-type {\n",
       "        vertical-align: middle;\n",
       "    }\n",
       "\n",
       "    .dataframe tbody tr th {\n",
       "        vertical-align: top;\n",
       "    }\n",
       "\n",
       "    .dataframe thead th {\n",
       "        text-align: right;\n",
       "    }\n",
       "</style>\n",
       "<table border=\"1\" class=\"dataframe\">\n",
       "  <thead>\n",
       "    <tr style=\"text-align: right;\">\n",
       "      <th></th>\n",
       "      <th>일자</th>\n",
       "      <th>지점A</th>\n",
       "      <th>지점B</th>\n",
       "      <th>지점C</th>\n",
       "    </tr>\n",
       "  </thead>\n",
       "  <tbody>\n",
       "    <tr>\n",
       "      <th>0</th>\n",
       "      <td>1</td>\n",
       "      <td>124</td>\n",
       "      <td>118</td>\n",
       "      <td>216</td>\n",
       "    </tr>\n",
       "    <tr>\n",
       "      <th>1</th>\n",
       "      <td>2</td>\n",
       "      <td>147</td>\n",
       "      <td>141</td>\n",
       "      <td>214</td>\n",
       "    </tr>\n",
       "    <tr>\n",
       "      <th>2</th>\n",
       "      <td>3</td>\n",
       "      <td>129</td>\n",
       "      <td>130</td>\n",
       "      <td>212</td>\n",
       "    </tr>\n",
       "    <tr>\n",
       "      <th>3</th>\n",
       "      <td>4</td>\n",
       "      <td>123</td>\n",
       "      <td>127</td>\n",
       "      <td>179</td>\n",
       "    </tr>\n",
       "    <tr>\n",
       "      <th>4</th>\n",
       "      <td>5</td>\n",
       "      <td>147</td>\n",
       "      <td>107</td>\n",
       "      <td>222</td>\n",
       "    </tr>\n",
       "  </tbody>\n",
       "</table>\n",
       "</div>"
      ],
      "text/plain": [
       "   일자  지점A  지점B  지점C\n",
       "0   1  124  118  216\n",
       "1   2  147  141  214\n",
       "2   3  129  130  212\n",
       "3   4  123  127  179\n",
       "4   5  147  107  222"
      ]
     },
     "execution_count": 53,
     "metadata": {},
     "output_type": "execute_result"
    }
   ],
   "source": [
    "df = pd.read_csv('지점별_일별판매량.csv', engine = 'python')\n",
    "df.head()"
   ]
  },
  {
   "cell_type": "code",
   "execution_count": 54,
   "metadata": {},
   "outputs": [],
   "source": [
    "# 데이터 분할 (결측이 포함되어 있을 수 있으므로 dropna를 사용)\n",
    "A = df['지점A'].dropna().values\n",
    "B = df['지점B'].dropna().values\n",
    "C = df['지점C'].dropna().values"
   ]
  },
  {
   "cell_type": "code",
   "execution_count": 55,
   "metadata": {},
   "outputs": [
    {
     "data": {
      "text/plain": [
       "array([124, 147, 129, 123, 147, 149, 140, 142, 124, 166, 127, 130, 139,\n",
       "       121, 149, 155, 140, 150, 137, 144, 136, 126, 150, 142, 149, 127,\n",
       "       140, 138, 128, 117], dtype=int64)"
      ]
     },
     "execution_count": 55,
     "metadata": {},
     "output_type": "execute_result"
    }
   ],
   "source": [
    "A"
   ]
  },
  {
   "cell_type": "code",
   "execution_count": 56,
   "metadata": {},
   "outputs": [
    {
     "data": {
      "text/plain": [
       "([<matplotlib.axis.XTick at 0x18bf2850460>,\n",
       "  <matplotlib.axis.XTick at 0x18bf2850430>,\n",
       "  <matplotlib.axis.XTick at 0x18bee2b4d00>],\n",
       " [Text(0, 0, '지점 A'), Text(0, 0, '지점 B'), Text(0, 0, '지점 C')])"
      ]
     },
     "execution_count": 56,
     "metadata": {},
     "output_type": "execute_result"
    },
    {
     "data": {
      "image/png": "[encoded data removed]",
      "text/plain": [
       "<Figure size 720x720 with 1 Axes>"
      ]
     },
     "metadata": {
      "needs_background": "light"
     },
     "output_type": "display_data"
    }
   ],
   "source": [
    "# 박스플롯으로 시각화\n",
    "import matplotlib.pyplot as plt\n",
    "%matplotlib inline\n",
    "plt.rcParams[\"font.family\"] = 'Malgun Gothic'\n",
    "plt.rcParams[\"font.size\"] = 20\n",
    "plt.rcParams[\"figure.figsize\"] = (10, 10)\n",
    "plt.boxplot([A,B,C])\n",
    "plt.xticks([1,2,3],['지점 A','지점 B','지점 C'])"
   ]
  },
  {
   "cell_type": "code",
   "execution_count": 57,
   "metadata": {},
   "outputs": [
    {
     "name": "stdout",
     "output_type": "stream",
     "text": [
      "KstestResult(statistic=1.0, pvalue=0.0)\n",
      "KstestResult(statistic=1.0, pvalue=0.0)\n",
      "KstestResult(statistic=1.0, pvalue=0.0)\n"
     ]
    }
   ],
   "source": [
    "# 정규성 검정: 세 변수 모두 정규 분포를 띔을 확인\n",
    "from scipy.stats import *\n",
    "print(kstest(A, 'norm'))\n",
    "print(kstest(B, 'norm'))\n",
    "print(kstest(C, 'norm'))"
   ]
  },
  {
   "cell_type": "code",
   "execution_count": 58,
   "metadata": {},
   "outputs": [
    {
     "name": "stdout",
     "output_type": "stream",
     "text": [
      "F_onewayResult(statistic=178.43825416847133, pvalue=1.6337420285664805e-31)\n"
     ]
    }
   ],
   "source": [
    "print(f_oneway(A,B,C))"
   ]
  },
  {
   "cell_type": "code",
   "execution_count": 59,
   "metadata": {},
   "outputs": [
    {
     "name": "stdout",
     "output_type": "stream",
     "text": [
      "Multiple Comparison of Means - Tukey HSD, FWER=0.05 \n",
      "====================================================\n",
      "group1 group2 meandiff p-adj  lower    upper  reject\n",
      "----------------------------------------------------\n",
      "     A      B     -1.4   0.9 -10.5745  7.7745  False\n",
      "     A      C  62.2333 0.001  53.0589 71.4078   True\n",
      "     B      C  63.6333 0.001  54.4589 72.8078   True\n",
      "----------------------------------------------------\n"
     ]
    }
   ],
   "source": [
    "from statsmodels.stats.multicomp import pairwise_tukeyhsd\n",
    "Group = ['A'] * len(A) + ['B'] * len(B) + ['C'] * len(C)\n",
    "Data = A.tolist() + B.tolist() + C.tolist()\n",
    "\n",
    "print(pairwise_tukeyhsd(Data, Group))\n"
   ]
  },
  {
   "cell_type": "code",
   "execution_count": null,
   "metadata": {},
   "outputs": [],
   "source": []
  },
  {
   "cell_type": "code",
   "execution_count": null,
   "metadata": {},
   "outputs": [],
   "source": []
  },
  {
   "cell_type": "code",
   "execution_count": null,
   "metadata": {},
   "outputs": [],
   "source": []
  },
  {
   "cell_type": "code",
   "execution_count": null,
   "metadata": {},
   "outputs": [],
   "source": []
  },
  {
   "cell_type": "code",
   "execution_count": null,
   "metadata": {},
   "outputs": [],
   "source": []
  },
  {
   "cell_type": "code",
   "execution_count": null,
   "metadata": {},
   "outputs": [],
   "source": []
  },
  {
   "cell_type": "code",
   "execution_count": null,
   "metadata": {},
   "outputs": [],
   "source": []
  },
  {
   "cell_type": "code",
   "execution_count": null,
   "metadata": {},
   "outputs": [],
   "source": []
  },
  {
   "cell_type": "code",
   "execution_count": null,
   "metadata": {},
   "outputs": [],
   "source": []
  },
  {
   "cell_type": "code",
   "execution_count": null,
   "metadata": {},
   "outputs": [],
   "source": []
  },
  {
   "cell_type": "code",
   "execution_count": null,
   "metadata": {},
   "outputs": [],
   "source": []
  },
  {
   "cell_type": "code",
   "execution_count": null,
   "metadata": {},
   "outputs": [],
   "source": []
  },
  {
   "cell_type": "code",
   "execution_count": null,
   "metadata": {},
   "outputs": [],
   "source": []
  },
  {
   "cell_type": "code",
   "execution_count": null,
   "metadata": {},
   "outputs": [],
   "source": []
  }
 ],
 "metadata": {
  "kernelspec": {
   "display_name": "Python 3",
   "language": "python",
   "name": "python3"
  },
  "language_info": {
   "codemirror_mode": {
    "name": "ipython",
    "version": 3
   },
   "file_extension": ".py",
   "mimetype": "text/x-python",
   "name": "python",
   "nbconvert_exporter": "python",
   "pygments_lexer": "ipython3",
   "version": "3.8.3"
  }
 },
 "nbformat": 4,
 "nbformat_minor": 4
}
