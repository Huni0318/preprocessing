{
 "cells": [
  {
   "cell_type": "code",
   "execution_count": 1,
   "metadata": {},
   "outputs": [],
   "source": [
    "import pandas as pd\n",
    "import os\n",
    "from matplotlib import pyplot as plt\n",
    "import numpy as np\n",
    "%matplotlib inline\n",
    "os.chdir(r'C:\\Users\\신상훈\\Desktop\\preprocessing\\part-1.-데이터-핸들링\\1. 데이터 핸들링\\데이터')\n",
    "\n",
    "\n",
    "plt.rcParams[\"font.family\"] = 'Malgun Gothic'\n",
    "plt.rcParams[\"font.size\"] = 15\n",
    "plt.rcParams[\"figure.figsize\"] = (15, 8)"
   ]
  },
  {
   "cell_type": "code",
   "execution_count": 2,
   "metadata": {},
   "outputs": [
    {
     "data": {
      "text/html": [
       "<div>\n",
       "<style scoped>\n",
       "    .dataframe tbody tr th:only-of-type {\n",
       "        vertical-align: middle;\n",
       "    }\n",
       "\n",
       "    .dataframe tbody tr th {\n",
       "        vertical-align: top;\n",
       "    }\n",
       "\n",
       "    .dataframe thead th {\n",
       "        text-align: right;\n",
       "    }\n",
       "</style>\n",
       "<table border=\"1\" class=\"dataframe\">\n",
       "  <thead>\n",
       "    <tr style=\"text-align: right;\">\n",
       "      <th></th>\n",
       "      <th>쇼핑몰</th>\n",
       "      <th>제품</th>\n",
       "      <th>수량</th>\n",
       "      <th>판매금액</th>\n",
       "      <th>쇼핑몰 유형</th>\n",
       "    </tr>\n",
       "  </thead>\n",
       "  <tbody>\n",
       "    <tr>\n",
       "      <th>0</th>\n",
       "      <td>쿠팡</td>\n",
       "      <td>제품_16</td>\n",
       "      <td>8</td>\n",
       "      <td>1134400</td>\n",
       "      <td>쿠팡</td>\n",
       "    </tr>\n",
       "    <tr>\n",
       "      <th>1</th>\n",
       "      <td>쿠팡</td>\n",
       "      <td>제품_57</td>\n",
       "      <td>8</td>\n",
       "      <td>439200</td>\n",
       "      <td>쿠팡</td>\n",
       "    </tr>\n",
       "    <tr>\n",
       "      <th>2</th>\n",
       "      <td>쿠팡</td>\n",
       "      <td>제품_25</td>\n",
       "      <td>4</td>\n",
       "      <td>495200</td>\n",
       "      <td>쿠팡</td>\n",
       "    </tr>\n",
       "    <tr>\n",
       "      <th>3</th>\n",
       "      <td>쿠팡</td>\n",
       "      <td>제품_18</td>\n",
       "      <td>4</td>\n",
       "      <td>578000</td>\n",
       "      <td>쿠팡</td>\n",
       "    </tr>\n",
       "    <tr>\n",
       "      <th>4</th>\n",
       "      <td>쿠팡</td>\n",
       "      <td>제품_90</td>\n",
       "      <td>2</td>\n",
       "      <td>75000</td>\n",
       "      <td>쿠팡</td>\n",
       "    </tr>\n",
       "  </tbody>\n",
       "</table>\n",
       "</div>"
      ],
      "text/plain": [
       "  쇼핑몰     제품  수량     판매금액 쇼핑몰 유형\n",
       "0  쿠팡  제품_16   8  1134400     쿠팡\n",
       "1  쿠팡  제품_57   8   439200     쿠팡\n",
       "2  쿠팡  제품_25   4   495200     쿠팡\n",
       "3  쿠팡  제품_18   4   578000     쿠팡\n",
       "4  쿠팡  제품_90   2    75000     쿠팡"
      ]
     },
     "execution_count": 2,
     "metadata": {},
     "output_type": "execute_result"
    }
   ],
   "source": [
    "df = pd.read_csv(\"온라인_판매기록.csv\", engine = \"python\")\n",
    "df.head()"
   ]
  },
  {
   "cell_type": "code",
   "execution_count": 3,
   "metadata": {},
   "outputs": [
    {
     "data": {
      "text/plain": [
       "쇼핑몰 유형\n",
       "동물병원      [338400, 202600, 238800, 1088000, 135800, 8768...\n",
       "온라인II     [400800, 586600, 291900, 654000, 684000, 40400...\n",
       "온라인사이트    [10400, 631400, 516400, 318000, 300000, 306600...\n",
       "유통대리점     [220200, 10100, 112500, 56000, 236600, 928900,...\n",
       "전시회       [498000, 195300, 143500, 478200, 358400, 10731...\n",
       "쿠팡        [1134400, 439200, 495200, 578000, 75000, 19550...\n",
       "할인점       [39100, 670400, 1533000, 438400, 403200, 19250...\n",
       "할인점II     [119100, 101300, 124200, 101400, 291900, 37350...\n",
       "Name: 판매금액, dtype: object"
      ]
     },
     "execution_count": 3,
     "metadata": {},
     "output_type": "execute_result"
    }
   ],
   "source": [
    "# pyplot을 이용한 boxplot 그리기\n",
    "X = df.groupby(['쇼핑몰 유형'])['판매금액'].apply(list) # 쇼핑몰 유형에 따른 판매 금액 목록을 리스트화\n",
    "X"
   ]
  },
  {
   "cell_type": "code",
   "execution_count": 4,
   "metadata": {},
   "outputs": [
    {
     "data": {
      "text/plain": [
       "([<matplotlib.axis.XTick at 0x154b30cc4c0>,\n",
       "  <matplotlib.axis.XTick at 0x154b30cc490>,\n",
       "  <matplotlib.axis.XTick at 0x154b30765e0>,\n",
       "  <matplotlib.axis.XTick at 0x154b2f55cd0>,\n",
       "  <matplotlib.axis.XTick at 0x154b2f74220>,\n",
       "  <matplotlib.axis.XTick at 0x154b2f74730>,\n",
       "  <matplotlib.axis.XTick at 0x154b2f74c40>,\n",
       "  <matplotlib.axis.XTick at 0x154b2f7e190>],\n",
       " [Text(0, 0, '동물병원'),\n",
       "  Text(0, 0, '온라인II'),\n",
       "  Text(0, 0, '온라인사이트'),\n",
       "  Text(0, 0, '유통대리점'),\n",
       "  Text(0, 0, '전시회'),\n",
       "  Text(0, 0, '쿠팡'),\n",
       "  Text(0, 0, '할인점'),\n",
       "  Text(0, 0, '할인점II')])"
      ]
     },
     "execution_count": 4,
     "metadata": {},
     "output_type": "execute_result"
    },
    {
     "data": {
      "image/png": "[encoded data removed]",
      "text/plain": [
       "<Figure size 1080x576 with 1 Axes>"
      ]
     },
     "metadata": {
      "needs_background": "light"
     },
     "output_type": "display_data"
    }
   ],
   "source": [
    "plt.title(\"쇼핑몰 유형에 따른 판매금액 분포\")\n",
    "plt.boxplot(X.values)\n",
    "plt.xticks(np.arange(1, len(X)+1), X.index)"
   ]
  },
  {
   "cell_type": "code",
   "execution_count": 5,
   "metadata": {},
   "outputs": [
    {
     "data": {
      "text/html": [
       "<div>\n",
       "<style scoped>\n",
       "    .dataframe tbody tr th:only-of-type {\n",
       "        vertical-align: middle;\n",
       "    }\n",
       "\n",
       "    .dataframe tbody tr th {\n",
       "        vertical-align: top;\n",
       "    }\n",
       "\n",
       "    .dataframe thead th {\n",
       "        text-align: right;\n",
       "    }\n",
       "</style>\n",
       "<table border=\"1\" class=\"dataframe\">\n",
       "  <thead>\n",
       "    <tr style=\"text-align: right;\">\n",
       "      <th></th>\n",
       "      <th>실험1</th>\n",
       "      <th>실험2</th>\n",
       "      <th>실험3</th>\n",
       "    </tr>\n",
       "  </thead>\n",
       "  <tbody>\n",
       "    <tr>\n",
       "      <th>0</th>\n",
       "      <td>9.363943</td>\n",
       "      <td>5.580137</td>\n",
       "      <td>15.822525</td>\n",
       "    </tr>\n",
       "    <tr>\n",
       "      <th>1</th>\n",
       "      <td>9.929972</td>\n",
       "      <td>5.499065</td>\n",
       "      <td>12.348901</td>\n",
       "    </tr>\n",
       "    <tr>\n",
       "      <th>2</th>\n",
       "      <td>8.044141</td>\n",
       "      <td>7.492996</td>\n",
       "      <td>9.704475</td>\n",
       "    </tr>\n",
       "    <tr>\n",
       "      <th>3</th>\n",
       "      <td>8.371894</td>\n",
       "      <td>11.605392</td>\n",
       "      <td>10.029878</td>\n",
       "    </tr>\n",
       "    <tr>\n",
       "      <th>4</th>\n",
       "      <td>6.590831</td>\n",
       "      <td>8.891225</td>\n",
       "      <td>4.827651</td>\n",
       "    </tr>\n",
       "  </tbody>\n",
       "</table>\n",
       "</div>"
      ],
      "text/plain": [
       "        실험1        실험2        실험3\n",
       "0  9.363943   5.580137  15.822525\n",
       "1  9.929972   5.499065  12.348901\n",
       "2  8.044141   7.492996   9.704475\n",
       "3  8.371894  11.605392  10.029878\n",
       "4  6.590831   8.891225   4.827651"
      ]
     },
     "execution_count": 5,
     "metadata": {},
     "output_type": "execute_result"
    }
   ],
   "source": [
    "# DataFrame method를 이용한 boxplot 그리기\n",
    "df = pd.DataFrame({\"실험1\": np.random.normal(10, 2, size = 100),\n",
    "                  \"실험2\": np.random.normal(8, 3, size = 100),\n",
    "                  \"실험3\": np.random.normal(9, 4, size = 100)})\n",
    "\n",
    "df.head()"
   ]
  },
  {
   "cell_type": "code",
   "execution_count": 6,
   "metadata": {},
   "outputs": [
    {
     "data": {
      "text/plain": [
       "<matplotlib.axes._subplots.AxesSubplot at 0x154b3004670>"
      ]
     },
     "execution_count": 6,
     "metadata": {},
     "output_type": "execute_result"
    },
    {
     "name": "stderr",
     "output_type": "stream",
     "text": [
      "C:\\ProgramData\\Anaconda3\\lib\\site-packages\\matplotlib\\backends\\backend_agg.py:214: RuntimeWarning: Glyph 8722 missing from current font.\n",
      "  font.set_text(s, 0.0, flags=flags)\n",
      "C:\\ProgramData\\Anaconda3\\lib\\site-packages\\matplotlib\\backends\\backend_agg.py:183: RuntimeWarning: Glyph 8722 missing from current font.\n",
      "  font.set_text(s, 0, flags=flags)\n"
     ]
    },
    {
     "data": {
      "image/png": "[encoded data removed]",
      "text/plain": [
       "<Figure size 1080x576 with 1 Axes>"
      ]
     },
     "metadata": {
      "needs_background": "light"
     },
     "output_type": "display_data"
    }
   ],
   "source": [
    "df.boxplot(column = ['실험1', '실험2', '실험3'])"
   ]
  }
 ],
 "metadata": {
  "kernelspec": {
   "display_name": "Python 3",
   "language": "python",
   "name": "python3"
  },
  "language_info": {
   "codemirror_mode": {
    "name": "ipython",
    "version": 3
   },
   "file_extension": ".py",
   "mimetype": "text/x-python",
   "name": "python",
   "nbconvert_exporter": "python",
   "pygments_lexer": "ipython3",
   "version": "3.8.3"
  }
 },
 "nbformat": 4,
 "nbformat_minor": 4
}
