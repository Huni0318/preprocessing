{
 "cells": [
  {
   "cell_type": "markdown",
   "metadata": {},
   "source": [
    "## 결측치 예측 모델 활용\n",
    "- 결측치 예측 모델은 어느 상황에서도 무난하게 활용할 수 있으나, 사용 조건 및 단점을 반드시 숙지해야함\n",
    "- 사용 조건 및 단점\n",
    "  - 조건1. 결측이 소수 컬럼에 쏠리면 안 된다\n",
    "  - 조건2. 특징 간에 관계가 존재해야 한다.\n",
    "  - 단점 : 다른 결측치 처리 방법에 비해 시간이 오래 소요된다."
   ]
  },
  {
   "cell_type": "markdown",
   "metadata": {},
   "source": [
    "### sklearn.impute.KNNImputer\n",
    "- 결측이 아닌 값만 사용하여 이웃을 구한 뒤, 이웃들의 값의 대표값으로 결측을 대체하는 결측치 예측 모델\n",
    "- 주요 입력\n",
    "  - n_neighbors: 이웃 수( 주의: 너무 적으면 결측 대체가 정상적으로 이뤄지지 않을 수 있으므로, 5 정도가 적절)"
   ]
  },
  {
   "cell_type": "code",
   "execution_count": 1,
   "metadata": {},
   "outputs": [],
   "source": [
    "import os\n",
    "import pandas as pd\n",
    "os.chdir(r'C:\\Users\\신상훈\\Desktop\\preprocessing\\part-4.-머신러닝을-위한-필수-전처리\\Part 4. 머신러닝을 위한 필수 전처리\\데이터')"
   ]
  },
  {
   "cell_type": "code",
   "execution_count": 2,
   "metadata": {},
   "outputs": [],
   "source": [
    "df = pd.read_csv(\"mammographic.csv\")"
   ]
  },
  {
   "cell_type": "code",
   "execution_count": 3,
   "metadata": {},
   "outputs": [],
   "source": [
    "# 특징과 라벨 분리\n",
    "X = df.drop('Output', axis = 1)\n",
    "Y = df['Output']"
   ]
  },
  {
   "cell_type": "code",
   "execution_count": 4,
   "metadata": {},
   "outputs": [],
   "source": [
    "# 학습 데이터와 평가 데이터 분리\n",
    "from sklearn.model_selection import train_test_split\n",
    "Train_X, Test_X, Train_Y, Test_Y = train_test_split(X, Y)"
   ]
  },
  {
   "cell_type": "code",
   "execution_count": 5,
   "metadata": {},
   "outputs": [
    {
     "data": {
      "text/plain": [
       "BI-RADS    0.001389\n",
       "Age        0.002778\n",
       "Shape      0.033333\n",
       "Margin     0.048611\n",
       "Density    0.075000\n",
       "dtype: float64"
      ]
     },
     "execution_count": 5,
     "metadata": {},
     "output_type": "execute_result"
    }
   ],
   "source": [
    "# 열별 결측치 비율 확인 => 그리 높지 않음을 확인\n",
    "Train_X.isnull().sum() / len(Train_X)"
   ]
  },
  {
   "cell_type": "code",
   "execution_count": 6,
   "metadata": {},
   "outputs": [
    {
     "data": {
      "text/plain": [
       "BI-RADS    0.459323\n",
       "Age        0.416464\n",
       "Shape      0.523956\n",
       "Margin     0.538566\n",
       "Density    0.266282\n",
       "dtype: float64"
      ]
     },
     "execution_count": 6,
     "metadata": {},
     "output_type": "execute_result"
    }
   ],
   "source": [
    "# 특징 간 상관 계수 확인 => 평균적으로 40 ~ 50%로 매우 높음을 확인\n",
    "Train_X.corr().sum() / len(Train_X.columns)"
   ]
  },
  {
   "cell_type": "code",
   "execution_count": 7,
   "metadata": {},
   "outputs": [],
   "source": [
    "# KNN Imputer 인스턴스화\n",
    "from sklearn.impute import KNNImputer\n",
    "KI = KNNImputer(n_neighbors = 5)\n",
    "\n",
    "# KNN Imputer 학습\n",
    "KI.fit(Train_X)\n",
    "\n",
    "# 결측 대체\n",
    "Train_X = pd.DataFrame(KI.transform(Train_X), columns = Train_X.columns)\n",
    "Test_X = pd.DataFrame(KI.transform(Test_X), columns = Test_X.columns)"
   ]
  },
  {
   "cell_type": "code",
   "execution_count": 8,
   "metadata": {},
   "outputs": [
    {
     "data": {
      "text/plain": [
       "BI-RADS    0.0\n",
       "Age        0.0\n",
       "Shape      0.0\n",
       "Margin     0.0\n",
       "Density    0.0\n",
       "dtype: float64"
      ]
     },
     "execution_count": 8,
     "metadata": {},
     "output_type": "execute_result"
    }
   ],
   "source": [
    "Train_X.isnull().sum() / len(Train_X)"
   ]
  },
  {
   "cell_type": "code",
   "execution_count": 9,
   "metadata": {},
   "outputs": [
    {
     "data": {
      "text/plain": [
       "BI-RADS    0.0\n",
       "Age        0.0\n",
       "Shape      0.0\n",
       "Margin     0.0\n",
       "Density    0.0\n",
       "dtype: float64"
      ]
     },
     "execution_count": 9,
     "metadata": {},
     "output_type": "execute_result"
    }
   ],
   "source": [
    "Test_X.isnull().sum() / len(Test_X)"
   ]
  }
 ],
 "metadata": {
  "kernelspec": {
   "display_name": "Python 3",
   "language": "python",
   "name": "python3"
  },
  "language_info": {
   "codemirror_mode": {
    "name": "ipython",
    "version": 3
   },
   "file_extension": ".py",
   "mimetype": "text/x-python",
   "name": "python",
   "nbconvert_exporter": "python",
   "pygments_lexer": "ipython3",
   "version": "3.8.3"
  }
 },
 "nbformat": 4,
 "nbformat_minor": 4
}
