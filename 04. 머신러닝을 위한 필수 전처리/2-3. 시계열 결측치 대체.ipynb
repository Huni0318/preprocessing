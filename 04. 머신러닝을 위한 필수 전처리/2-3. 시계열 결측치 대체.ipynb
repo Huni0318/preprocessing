{
 "cells": [
  {
   "cell_type": "markdown",
   "metadata": {},
   "source": [
    "## 근처 값으로 대체\n",
    "- 시계열 변수인 경우에는 결측이 바로 이전 값 혹은 이후 값과 유사할 가능성이 높음"
   ]
  },
  {
   "cell_type": "markdown",
   "metadata": {},
   "source": [
    "DataFrame.fillna\n",
    "- 결측치를 특정 값이나 방법으로 채우는 함수\n",
    "- 주요입력\n",
    "  - value: 결측치를 대체할 값\n",
    "  - method: 결측치를 대체할 방법\n",
    "    - ffill : 결측치 이전의 유효한 값 가운데 가장 가까운 값으로 채움\n",
    "    - bfill : 결측치 이후의 유효한 값 가운데 가장 가까운 값으로 채움"
   ]
  },
  {
   "cell_type": "code",
   "execution_count": 1,
   "metadata": {},
   "outputs": [],
   "source": [
    "# 데이터를 train_test_split을 이용하여 임의로 분할한 경우에는 적용이 불가능\n",
    "# 분할하기 전에 결측치 대체가 가능한 유일한 케이스"
   ]
  },
  {
   "cell_type": "code",
   "execution_count": 2,
   "metadata": {},
   "outputs": [],
   "source": [
    "import os\n",
    "import pandas as pd\n",
    "os.chdir(r'C:\\Users\\신상훈\\Desktop\\preprocessing\\part-4.-머신러닝을-위한-필수-전처리\\Part 4. 머신러닝을 위한 필수 전처리\\데이터')"
   ]
  },
  {
   "cell_type": "code",
   "execution_count": 3,
   "metadata": {},
   "outputs": [],
   "source": [
    "df = pd.read_excel('AirQuality.xlsx')"
   ]
  },
  {
   "cell_type": "code",
   "execution_count": 4,
   "metadata": {},
   "outputs": [
    {
     "data": {
      "text/plain": [
       "Date              0\n",
       "Time              0\n",
       "CO(GT)            1\n",
       "PT08.S1(CO)       2\n",
       "NMHC(GT)          2\n",
       "C6H6(GT)         10\n",
       "PT08.S2(NMHC)     4\n",
       "NOx(GT)           6\n",
       "PT08.S3(NOx)      7\n",
       "NO2(GT)           6\n",
       "PT08.S4(NO2)      6\n",
       "PT08.S5(O3)       1\n",
       "T                 0\n",
       "RH                0\n",
       "AH                0\n",
       "dtype: int64"
      ]
     },
     "execution_count": 4,
     "metadata": {},
     "output_type": "execute_result"
    }
   ],
   "source": [
    "df.isnull().sum()"
   ]
  },
  {
   "cell_type": "code",
   "execution_count": 5,
   "metadata": {},
   "outputs": [],
   "source": [
    "df = df.fillna(method = 'ffill').fillna(method = 'bfill')"
   ]
  },
  {
   "cell_type": "code",
   "execution_count": 6,
   "metadata": {},
   "outputs": [
    {
     "data": {
      "text/plain": [
       "Date             0\n",
       "Time             0\n",
       "CO(GT)           0\n",
       "PT08.S1(CO)      0\n",
       "NMHC(GT)         0\n",
       "C6H6(GT)         0\n",
       "PT08.S2(NMHC)    0\n",
       "NOx(GT)          0\n",
       "PT08.S3(NOx)     0\n",
       "NO2(GT)          0\n",
       "PT08.S4(NO2)     0\n",
       "PT08.S5(O3)      0\n",
       "T                0\n",
       "RH               0\n",
       "AH               0\n",
       "dtype: int64"
      ]
     },
     "execution_count": 6,
     "metadata": {},
     "output_type": "execute_result"
    }
   ],
   "source": [
    "df.isnull().sum()"
   ]
  }
 ],
 "metadata": {
  "kernelspec": {
   "display_name": "Python 3",
   "language": "python",
   "name": "python3"
  },
  "language_info": {
   "codemirror_mode": {
    "name": "ipython",
    "version": 3
   },
   "file_extension": ".py",
   "mimetype": "text/x-python",
   "name": "python",
   "nbconvert_exporter": "python",
   "pygments_lexer": "ipython3",
   "version": "3.8.3"
  }
 },
 "nbformat": 4,
 "nbformat_minor": 4
}
