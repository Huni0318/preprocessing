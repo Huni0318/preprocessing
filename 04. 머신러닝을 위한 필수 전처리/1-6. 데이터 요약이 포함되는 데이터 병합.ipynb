{
 "cells": [
  {
   "cell_type": "code",
   "execution_count": 1,
   "metadata": {},
   "outputs": [],
   "source": [
    "import os\n",
    "import pandas as pd\n",
    "os.chdir(r'C:\\Users\\신상훈\\Desktop\\preprocessing\\part-4.-머신러닝을-위한-필수-전처리\\Part 4. 머신러닝을 위한 필수 전처리\\데이터')"
   ]
  },
  {
   "cell_type": "code",
   "execution_count": 2,
   "metadata": {},
   "outputs": [],
   "source": [
    "# 데이터 불러오기\n",
    "demo_df = pd.read_csv(\"고객별_인구통계정보.csv\", engine = \"python\")\n",
    "purchasing_df = pd.read_csv(\"고객별_구매금액.csv\", engine = 'python')"
   ]
  },
  {
   "cell_type": "code",
   "execution_count": 3,
   "metadata": {},
   "outputs": [
    {
     "data": {
      "text/html": [
       "<div>\n",
       "<style scoped>\n",
       "    .dataframe tbody tr th:only-of-type {\n",
       "        vertical-align: middle;\n",
       "    }\n",
       "\n",
       "    .dataframe tbody tr th {\n",
       "        vertical-align: top;\n",
       "    }\n",
       "\n",
       "    .dataframe thead th {\n",
       "        text-align: right;\n",
       "    }\n",
       "</style>\n",
       "<table border=\"1\" class=\"dataframe\">\n",
       "  <thead>\n",
       "    <tr style=\"text-align: right;\">\n",
       "      <th></th>\n",
       "      <th>고객ID</th>\n",
       "      <th>나이</th>\n",
       "      <th>성별</th>\n",
       "      <th>주소</th>\n",
       "    </tr>\n",
       "  </thead>\n",
       "  <tbody>\n",
       "    <tr>\n",
       "      <th>0</th>\n",
       "      <td>고객1</td>\n",
       "      <td>48</td>\n",
       "      <td>남</td>\n",
       "      <td>A아파트</td>\n",
       "    </tr>\n",
       "    <tr>\n",
       "      <th>1</th>\n",
       "      <td>고객2</td>\n",
       "      <td>40</td>\n",
       "      <td>남</td>\n",
       "      <td>B아파트</td>\n",
       "    </tr>\n",
       "    <tr>\n",
       "      <th>2</th>\n",
       "      <td>고객3</td>\n",
       "      <td>37</td>\n",
       "      <td>여</td>\n",
       "      <td>C아파트</td>\n",
       "    </tr>\n",
       "    <tr>\n",
       "      <th>3</th>\n",
       "      <td>고객4</td>\n",
       "      <td>35</td>\n",
       "      <td>여</td>\n",
       "      <td>A연립주택</td>\n",
       "    </tr>\n",
       "    <tr>\n",
       "      <th>4</th>\n",
       "      <td>고객5</td>\n",
       "      <td>42</td>\n",
       "      <td>남</td>\n",
       "      <td>B연립주택</td>\n",
       "    </tr>\n",
       "  </tbody>\n",
       "</table>\n",
       "</div>"
      ],
      "text/plain": [
       "  고객ID  나이 성별     주소\n",
       "0  고객1  48  남   A아파트\n",
       "1  고객2  40  남   B아파트\n",
       "2  고객3  37  여   C아파트\n",
       "3  고객4  35  여  A연립주택\n",
       "4  고객5  42  남  B연립주택"
      ]
     },
     "execution_count": 3,
     "metadata": {},
     "output_type": "execute_result"
    }
   ],
   "source": [
    "demo_df.head()"
   ]
  },
  {
   "cell_type": "code",
   "execution_count": 4,
   "metadata": {},
   "outputs": [
    {
     "data": {
      "text/html": [
       "<div>\n",
       "<style scoped>\n",
       "    .dataframe tbody tr th:only-of-type {\n",
       "        vertical-align: middle;\n",
       "    }\n",
       "\n",
       "    .dataframe tbody tr th {\n",
       "        vertical-align: top;\n",
       "    }\n",
       "\n",
       "    .dataframe thead th {\n",
       "        text-align: right;\n",
       "    }\n",
       "</style>\n",
       "<table border=\"1\" class=\"dataframe\">\n",
       "  <thead>\n",
       "    <tr style=\"text-align: right;\">\n",
       "      <th></th>\n",
       "      <th>고객ID</th>\n",
       "      <th>구매금액</th>\n",
       "    </tr>\n",
       "  </thead>\n",
       "  <tbody>\n",
       "    <tr>\n",
       "      <th>0</th>\n",
       "      <td>고객10</td>\n",
       "      <td>45990</td>\n",
       "    </tr>\n",
       "    <tr>\n",
       "      <th>1</th>\n",
       "      <td>고객2</td>\n",
       "      <td>29800</td>\n",
       "    </tr>\n",
       "    <tr>\n",
       "      <th>2</th>\n",
       "      <td>고객7</td>\n",
       "      <td>31400</td>\n",
       "    </tr>\n",
       "    <tr>\n",
       "      <th>3</th>\n",
       "      <td>고객5</td>\n",
       "      <td>35300</td>\n",
       "    </tr>\n",
       "    <tr>\n",
       "      <th>4</th>\n",
       "      <td>고객2</td>\n",
       "      <td>41200</td>\n",
       "    </tr>\n",
       "  </tbody>\n",
       "</table>\n",
       "</div>"
      ],
      "text/plain": [
       "   고객ID   구매금액\n",
       "0  고객10  45990\n",
       "1   고객2  29800\n",
       "2   고객7  31400\n",
       "3   고객5  35300\n",
       "4   고객2  41200"
      ]
     },
     "execution_count": 4,
     "metadata": {},
     "output_type": "execute_result"
    }
   ],
   "source": [
    "purchasing_df.head()"
   ]
  },
  {
   "cell_type": "code",
   "execution_count": 5,
   "metadata": {},
   "outputs": [
    {
     "data": {
      "text/plain": [
       "고객ID\n",
       "고객1     2494480\n",
       "고객10    2644200\n",
       "고객2     2573880\n",
       "고객3     2998590\n",
       "고객4     2875420\n",
       "고객5     2628430\n",
       "고객6     2419410\n",
       "고객7     2709620\n",
       "고객8     2914460\n",
       "고객9     2283150\n",
       "Name: 구매금액합계, dtype: int64"
      ]
     },
     "execution_count": 5,
     "metadata": {},
     "output_type": "execute_result"
    }
   ],
   "source": [
    "# 데이터 요약\n",
    "purchasing_aggregated_df = purchasing_df.groupby('고객ID')['구매금액'].sum()\n",
    "purchasing_aggregated_df.rename('구매금액합계') # 대상 변수의 이름이 그대로 시리즈의 이름이 되어, 적절한 변수명으로 수정해줘야 함"
   ]
  },
  {
   "cell_type": "code",
   "execution_count": 6,
   "metadata": {},
   "outputs": [],
   "source": [
    "# 데이터 병합 수행\n",
    "merged_df = pd.merge(demo_df, purchasing_aggregated_df, left_on = '고객ID', right_index = True)"
   ]
  },
  {
   "cell_type": "code",
   "execution_count": 7,
   "metadata": {},
   "outputs": [],
   "source": [
    "# 하나의 변수를 추가하는 경우에 주로 사용하는 테크닉\n",
    "demo_df['구매금액합계'] = demo_df['고객ID'].replace(purchasing_aggregated_df.to_dict())"
   ]
  },
  {
   "cell_type": "code",
   "execution_count": 8,
   "metadata": {},
   "outputs": [
    {
     "data": {
      "text/html": [
       "<div>\n",
       "<style scoped>\n",
       "    .dataframe tbody tr th:only-of-type {\n",
       "        vertical-align: middle;\n",
       "    }\n",
       "\n",
       "    .dataframe tbody tr th {\n",
       "        vertical-align: top;\n",
       "    }\n",
       "\n",
       "    .dataframe thead th {\n",
       "        text-align: right;\n",
       "    }\n",
       "</style>\n",
       "<table border=\"1\" class=\"dataframe\">\n",
       "  <thead>\n",
       "    <tr style=\"text-align: right;\">\n",
       "      <th></th>\n",
       "      <th>고객ID</th>\n",
       "      <th>나이</th>\n",
       "      <th>성별</th>\n",
       "      <th>주소</th>\n",
       "      <th>구매금액합계</th>\n",
       "    </tr>\n",
       "  </thead>\n",
       "  <tbody>\n",
       "    <tr>\n",
       "      <th>0</th>\n",
       "      <td>고객1</td>\n",
       "      <td>48</td>\n",
       "      <td>남</td>\n",
       "      <td>A아파트</td>\n",
       "      <td>2494480</td>\n",
       "    </tr>\n",
       "    <tr>\n",
       "      <th>1</th>\n",
       "      <td>고객2</td>\n",
       "      <td>40</td>\n",
       "      <td>남</td>\n",
       "      <td>B아파트</td>\n",
       "      <td>2573880</td>\n",
       "    </tr>\n",
       "    <tr>\n",
       "      <th>2</th>\n",
       "      <td>고객3</td>\n",
       "      <td>37</td>\n",
       "      <td>여</td>\n",
       "      <td>C아파트</td>\n",
       "      <td>2998590</td>\n",
       "    </tr>\n",
       "    <tr>\n",
       "      <th>3</th>\n",
       "      <td>고객4</td>\n",
       "      <td>35</td>\n",
       "      <td>여</td>\n",
       "      <td>A연립주택</td>\n",
       "      <td>2875420</td>\n",
       "    </tr>\n",
       "    <tr>\n",
       "      <th>4</th>\n",
       "      <td>고객5</td>\n",
       "      <td>42</td>\n",
       "      <td>남</td>\n",
       "      <td>B연립주택</td>\n",
       "      <td>2628430</td>\n",
       "    </tr>\n",
       "    <tr>\n",
       "      <th>5</th>\n",
       "      <td>고객6</td>\n",
       "      <td>44</td>\n",
       "      <td>남</td>\n",
       "      <td>C연립주택</td>\n",
       "      <td>2419410</td>\n",
       "    </tr>\n",
       "    <tr>\n",
       "      <th>6</th>\n",
       "      <td>고객7</td>\n",
       "      <td>47</td>\n",
       "      <td>남</td>\n",
       "      <td>A단독주택</td>\n",
       "      <td>2709620</td>\n",
       "    </tr>\n",
       "    <tr>\n",
       "      <th>7</th>\n",
       "      <td>고객8</td>\n",
       "      <td>38</td>\n",
       "      <td>여</td>\n",
       "      <td>B단독주택</td>\n",
       "      <td>2914460</td>\n",
       "    </tr>\n",
       "    <tr>\n",
       "      <th>8</th>\n",
       "      <td>고객9</td>\n",
       "      <td>33</td>\n",
       "      <td>여</td>\n",
       "      <td>D아파트</td>\n",
       "      <td>2283150</td>\n",
       "    </tr>\n",
       "    <tr>\n",
       "      <th>9</th>\n",
       "      <td>고객10</td>\n",
       "      <td>30</td>\n",
       "      <td>남</td>\n",
       "      <td>E아파트</td>\n",
       "      <td>2644200</td>\n",
       "    </tr>\n",
       "  </tbody>\n",
       "</table>\n",
       "</div>"
      ],
      "text/plain": [
       "   고객ID  나이 성별     주소   구매금액합계\n",
       "0   고객1  48  남   A아파트  2494480\n",
       "1   고객2  40  남   B아파트  2573880\n",
       "2   고객3  37  여   C아파트  2998590\n",
       "3   고객4  35  여  A연립주택  2875420\n",
       "4   고객5  42  남  B연립주택  2628430\n",
       "5   고객6  44  남  C연립주택  2419410\n",
       "6   고객7  47  남  A단독주택  2709620\n",
       "7   고객8  38  여  B단독주택  2914460\n",
       "8   고객9  33  여   D아파트  2283150\n",
       "9  고객10  30  남   E아파트  2644200"
      ]
     },
     "execution_count": 8,
     "metadata": {},
     "output_type": "execute_result"
    }
   ],
   "source": [
    "demo_df"
   ]
  }
 ],
 "metadata": {
  "kernelspec": {
   "display_name": "Python 3",
   "language": "python",
   "name": "python3"
  },
  "language_info": {
   "codemirror_mode": {
    "name": "ipython",
    "version": 3
   },
   "file_extension": ".py",
   "mimetype": "text/x-python",
   "name": "python",
   "nbconvert_exporter": "python",
   "pygments_lexer": "ipython3",
   "version": "3.8.3"
  }
 },
 "nbformat": 4,
 "nbformat_minor": 4
}
