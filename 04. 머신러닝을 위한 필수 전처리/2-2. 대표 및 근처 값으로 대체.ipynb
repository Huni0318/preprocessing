{
 "cells": [
  {
   "cell_type": "markdown",
   "metadata": {},
   "source": [
    "### sklearn.impute.SimpleImputer\n",
    "- 결측이 있는 변수의 대표값으로 결측을 대체하는 인스턴스\n",
    "- 주요 입력\n",
    "  - strategy: 대표 통계량을 지정('mean', 'most_frequent', 'median')\n",
    "  - 변수 타입에 따라 두 개의 인스턴스를 같이 적용해야 할 수 있음"
   ]
  },
  {
   "cell_type": "markdown",
   "metadata": {},
   "source": [
    "## 단순한 케이스: 모든 특징의 타입이 같은 경우"
   ]
  },
  {
   "cell_type": "code",
   "execution_count": 1,
   "metadata": {},
   "outputs": [],
   "source": [
    "import os\n",
    "import pandas as pd\n",
    "os.chdir(r'C:\\Users\\신상훈\\Desktop\\preprocessing\\part-4.-머신러닝을-위한-필수-전처리\\Part 4. 머신러닝을 위한 필수 전처리\\데이터')"
   ]
  },
  {
   "cell_type": "code",
   "execution_count": 2,
   "metadata": {},
   "outputs": [],
   "source": [
    "df = pd.read_csv('cleveland.csv')"
   ]
  },
  {
   "cell_type": "code",
   "execution_count": 3,
   "metadata": {},
   "outputs": [],
   "source": [
    "# 특징과 라벨 분리\n",
    "X = df.drop('Output', axis= 1)\n",
    "Y = df['Output']"
   ]
  },
  {
   "cell_type": "code",
   "execution_count": 4,
   "metadata": {},
   "outputs": [],
   "source": [
    "from sklearn.model_selection import train_test_split\n",
    "Train_X, Test_X, Train_Y, Test_Y = train_test_split(X, Y)"
   ]
  },
  {
   "cell_type": "code",
   "execution_count": 6,
   "metadata": {},
   "outputs": [
    {
     "data": {
      "text/plain": [
       "Age         0\n",
       "Sex         0\n",
       "Cp          0\n",
       "Trestbps    0\n",
       "Chol        0\n",
       "Fbs         0\n",
       "Restecg     0\n",
       "Thalach     0\n",
       "Exang       0\n",
       "Oldpeak     0\n",
       "Slope       0\n",
       "Ca          4\n",
       "Thal        1\n",
       "dtype: int64"
      ]
     },
     "execution_count": 6,
     "metadata": {},
     "output_type": "execute_result"
    }
   ],
   "source": [
    "# 결측치 확인\n",
    "Train_X.isnull().sum()\n",
    "# 결측치가 많지 않음\n",
    "# 지워도 무방한 수치이지만, 새로 들어온 데이터에 결측이 있을 수도 있다는 도메인 지식이 있다고 가정"
   ]
  },
  {
   "cell_type": "code",
   "execution_count": 8,
   "metadata": {},
   "outputs": [
    {
     "data": {
      "text/plain": [
       "Age         0.162536\n",
       "Sex         0.126407\n",
       "Cp          0.084902\n",
       "Trestbps    0.123191\n",
       "Chol        0.109878\n",
       "Fbs         0.128618\n",
       "Restecg     0.128064\n",
       "Thalach    -0.082749\n",
       "Exang       0.138316\n",
       "Oldpeak     0.179704\n",
       "Slope       0.148647\n",
       "Ca          0.144787\n",
       "Thal        0.191649\n",
       "dtype: float64"
      ]
     },
     "execution_count": 8,
     "metadata": {},
     "output_type": "execute_result"
    }
   ],
   "source": [
    "# 평균 상관 계수 확인 (주의: 모든 변수가 연속형이므로 가능한 접근)\n",
    "Train_X.corr().sum() / (len(Train_X.columns)-1)\n",
    "# 수치가 높지 않다고 판단 => 특징 간 관계가 크지 않음 => 대표값 대체 활용 가능 판단"
   ]
  },
  {
   "cell_type": "code",
   "execution_count": 9,
   "metadata": {},
   "outputs": [],
   "source": [
    "# 대표값을 활용한 결측치 대체\n",
    "from sklearn.impute import SimpleImputer\n",
    "# SimpleImputer 인스턴스화\n",
    "SI = SimpleImputer(strategy = 'mean')\n",
    "#학습\n",
    "SI.fit(Train_X)\n",
    "\n",
    "# sklearn instance의 출력은 ndarray이므로 다시 DataFrame으로 바꿔줌\n",
    "Train_X = pd.DataFrame(SI.transform(Train_X), columns = Train_X.columns)\n",
    "Test_X = pd.DataFrame(SI.transform(Test_X), columns = Test_X.columns)"
   ]
  },
  {
   "cell_type": "code",
   "execution_count": 10,
   "metadata": {},
   "outputs": [
    {
     "data": {
      "text/plain": [
       "Age         0\n",
       "Sex         0\n",
       "Cp          0\n",
       "Trestbps    0\n",
       "Chol        0\n",
       "Fbs         0\n",
       "Restecg     0\n",
       "Thalach     0\n",
       "Exang       0\n",
       "Oldpeak     0\n",
       "Slope       0\n",
       "Ca          0\n",
       "Thal        0\n",
       "dtype: int64"
      ]
     },
     "execution_count": 10,
     "metadata": {},
     "output_type": "execute_result"
    }
   ],
   "source": [
    "Train_X.isnull().sum()"
   ]
  },
  {
   "cell_type": "markdown",
   "metadata": {},
   "source": [
    "## 복잡한 케이스: 다른 타입의 특징이 있는 경우"
   ]
  },
  {
   "cell_type": "code",
   "execution_count": 11,
   "metadata": {},
   "outputs": [],
   "source": [
    "df = pd.read_csv('saheart.csv')"
   ]
  },
  {
   "cell_type": "code",
   "execution_count": 12,
   "metadata": {},
   "outputs": [],
   "source": [
    "# 특징과 라벨 분리\n",
    "X = df.drop('Chd', axis = 1)\n",
    "Y = df['Chd']"
   ]
  },
  {
   "cell_type": "code",
   "execution_count": 13,
   "metadata": {},
   "outputs": [],
   "source": [
    "# 학습 데이터와 평가 데이터로 분리\n",
    "from sklearn.model_selection import train_test_split\n",
    "Train_X, Test_X, Train_Y, Test_Y = train_test_split(X, Y)"
   ]
  },
  {
   "cell_type": "code",
   "execution_count": 14,
   "metadata": {},
   "outputs": [
    {
     "data": {
      "text/plain": [
       "Sbp          0\n",
       "Tobacco      0\n",
       "Ldl          0\n",
       "Adiposity    0\n",
       "Typea        0\n",
       "Obesity      9\n",
       "Alcohol      3\n",
       "Age          0\n",
       "Famhist      5\n",
       "dtype: int64"
      ]
     },
     "execution_count": 14,
     "metadata": {},
     "output_type": "execute_result"
    }
   ],
   "source": [
    "# 결측치 확인\n",
    "Train_X.isnull().sum()\n",
    "# 결측치가 많지 않음"
   ]
  },
  {
   "cell_type": "code",
   "execution_count": 15,
   "metadata": {},
   "outputs": [
    {
     "data": {
      "text/plain": [
       "Sbp          0.282870\n",
       "Tobacco      0.197851\n",
       "Ldl          0.281151\n",
       "Adiposity    0.414110\n",
       "Typea        0.100179\n",
       "Obesity      0.333502\n",
       "Alcohol      0.211788\n",
       "Age          0.366778\n",
       "Famhist      0.251342\n",
       "dtype: float64"
      ]
     },
     "execution_count": 15,
     "metadata": {},
     "output_type": "execute_result"
    }
   ],
   "source": [
    "# 평균 상관 계수 확인 (주의: 모든 변수가 연속형이므로 가능한 접근)\n",
    "Train_X.corr().sum() / (len(Train_X.columns) - 1)\n",
    "\n",
    "# 수치가 높지 않다고 판단 => 특징 간 관계가 크지 않음 => 대표값 대체 활용 가능 판단"
   ]
  },
  {
   "cell_type": "code",
   "execution_count": 16,
   "metadata": {},
   "outputs": [],
   "source": [
    "# Famhist: 범주형 변수\n",
    "# 그 외 변수: 연속형 변수\n",
    "# 대표값을 평균을 사용할지, 최빈값을 사용할지 결정이 어려움 => 둘 다 사용해야 함 # 범주형은 최빈값으로 대체\n",
    "# 따라서 데이터를 분할해야 함\n",
    "Train_X_cate = Train_X[['Famhist']]\n",
    "Train_X_cont = Train_X.drop('Famhist', axis = 1)\n",
    "\n",
    "Test_X_cate = Test_X[['Famhist']]\n",
    "Test_X_cont = Test_X.drop('Famhist', axis = 1)\n"
   ]
  },
  {
   "cell_type": "code",
   "execution_count": 17,
   "metadata": {},
   "outputs": [],
   "source": [
    "# 대표값을 활용한 결측치 대체\n",
    "from sklearn.impute import SimpleImputer\n",
    "# SimpleImputer 인스턴스화\n",
    "SI_mode = SimpleImputer(strategy = 'most_frequent')\n",
    "SI_mean = SimpleImputer(strategy = 'mean')\n",
    "\n",
    "# 학습\n",
    "SI_mode.fit(Train_X_cate)\n",
    "SI_mean.fit(Train_X_cont)\n",
    "\n",
    "# sklearn instance의 출력은 ndarray이므로 다시 DataFrame으로 바꿔줌\n",
    "Train_X_cate = pd.DataFrame(SI_mode.transform(Train_X_cate),\n",
    "                            columns = Train_X_cate.columns)\n",
    "\n",
    "Test_X_cate = pd.DataFrame(SI_mode.transform(Test_X_cate),\n",
    "                           columns = Test_X_cate.columns)\n",
    "\n",
    "Train_X_cont = pd.DataFrame(SI_mean.transform(Train_X_cont),\n",
    "                            columns = Train_X_cont.columns)\n",
    "\n",
    "Test_X_cont = pd.DataFrame(SI_mean.transform(Test_X_cont),\n",
    "                           columns = Test_X_cont.columns)\n",
    "\n",
    "# 다시 두 데이터를 이어붙여야 함\n",
    "Train_X = pd.concat([Train_X_cate, Train_X_cont], axis = 1)\n",
    "Test_X = pd.concat([Test_X_cate, Test_X_cont], axis = 1)"
   ]
  },
  {
   "cell_type": "code",
   "execution_count": 18,
   "metadata": {},
   "outputs": [
    {
     "data": {
      "text/plain": [
       "Famhist      0\n",
       "Sbp          0\n",
       "Tobacco      0\n",
       "Ldl          0\n",
       "Adiposity    0\n",
       "Typea        0\n",
       "Obesity      0\n",
       "Alcohol      0\n",
       "Age          0\n",
       "dtype: int64"
      ]
     },
     "execution_count": 18,
     "metadata": {},
     "output_type": "execute_result"
    }
   ],
   "source": [
    "Train_X.isnull().sum()"
   ]
  },
  {
   "cell_type": "code",
   "execution_count": null,
   "metadata": {},
   "outputs": [],
   "source": [
    "# Tip. 이진형 변수와 연속형 변수만 포함된 경우에는 SI_mean만 사용하여 결측치를 평균으로 대체한 뒤에, \n",
    "# 이진형 변수에 대해서만 round 처리를 하면 하나의 인스턴스만 활용할 수 있음"
   ]
  }
 ],
 "metadata": {
  "kernelspec": {
   "display_name": "Python 3",
   "language": "python",
   "name": "python3"
  },
  "language_info": {
   "codemirror_mode": {
    "name": "ipython",
    "version": 3
   },
   "file_extension": ".py",
   "mimetype": "text/x-python",
   "name": "python",
   "nbconvert_exporter": "python",
   "pygments_lexer": "ipython3",
   "version": "3.8.3"
  }
 },
 "nbformat": 4,
 "nbformat_minor": 4
}
